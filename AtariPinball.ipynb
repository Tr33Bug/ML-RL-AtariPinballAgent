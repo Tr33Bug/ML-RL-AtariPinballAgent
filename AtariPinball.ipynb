{
  "cells": [
    {
      "cell_type": "markdown",
      "metadata": {
        "id": "F0CXP1j7ZE-y"
      },
      "source": [
        "# Video Pinball"
      ]
    },
    {
      "cell_type": "markdown",
      "metadata": {
        "id": "PfohG30UZE-1"
      },
      "source": [
        "This project aims to teach a reinforcement learning agent to play the game [Atari Video Pinball](https://gymnasium.farama.org/environments/atari/video_pinball/).  \n",
        "For this purpose, the Deep Q-Learning approach is followed using a neural network."
      ]
    },
    {
      "cell_type": "markdown",
      "metadata": {
        "id": "oha95PZYZE-2"
      },
      "source": [
        "## Information"
      ]
    },
    {
      "cell_type": "markdown",
      "metadata": {
        "id": "uto_yJs4ZE-3"
      },
      "source": [
        "General information:\n",
        "\n",
        "|                   |                                   |\n",
        "| ----------------- | --------------------------------- |\n",
        "| Action Space      | Discrete(18)                      |\n",
        "| Observation Space | (210, 160, 3)                     |\n",
        "| Observation High  | 255                               |\n",
        "| Observation Low   | 0                                 |\n",
        "| Import            | `gym.make(\"ALE/VideoPinball-v5\")` |\n"
      ]
    },
    {
      "cell_type": "markdown",
      "metadata": {
        "id": "hsq5OxhTZE-3"
      },
      "source": [
        "### Actions"
      ]
    },
    {
      "cell_type": "markdown",
      "metadata": {
        "id": "zZmT7C3NZE-3"
      },
      "source": [
        "The `Video Pinball` Game form the Atari (2600) environment has the following actions which are described in the [manual of the game](https://atariage.com/manual_html_page.php?SoftwareLabelID=588):\n",
        "**This is the reduced action space, which is available when choosing `v0`, `v4` or specifying `full_action_space=false` during initialization. Otherwise more actions will be available.**\n",
        "\n",
        "| Num | Action    | Description                                                                                  |\n",
        "| --- | --------- | -------------------------------------------------------------------------------------------- |\n",
        "| 0   | NOOP      | No Operation                                                                                 |\n",
        "| 1   | FIRE      | Press the red controller button to release the spring and shoot the ball into the playfield. |\n",
        "| 2   | UP        | Move the Joystick up to move both flippers at the same time.                                 |\n",
        "| 3   | RIGHT     | Move the Joystick to the right to move the right flipper up.                                 |\n",
        "| 4   | LEFT      | Move the Joystick to the left to move the left flipper up.                                   |\n",
        "| 5   | DOWN      | Pull the Joystick down (towards you) to bring the plunger back.                              |\n",
        "| 6   | UPFIRE    | \"Nudge\" the ball into upwards direction.                                                     |\n",
        "| 7   | RIGHTFIRE | \"Nudge\" the ball to the right.                                                               |\n",
        "| 8   | LEFTFIRE  | \"Nudge\" the ball to the left.                                                                |\n",
        "\n",
        "Furthermore it might be interesting to try different modes/difficulties of the game.\n"
      ]
    },
    {
      "cell_type": "markdown",
      "metadata": {
        "id": "8aXY11AEZE-4"
      },
      "source": [
        "### Difficulties"
      ]
    },
    {
      "cell_type": "markdown",
      "metadata": {
        "id": "mmu_V-S3ZE-5"
      },
      "source": [
        "There are two available difficulties:\n",
        "\n",
        "- `a` (aka. pinbal wizards) is for expert players and has two additional drain holes at the bottom\n",
        "- `b` is for the beginning/novice players"
      ]
    },
    {
      "cell_type": "markdown",
      "metadata": {
        "id": "pXbi9DXyZE-5"
      },
      "source": [
        "### Observations"
      ]
    },
    {
      "cell_type": "markdown",
      "metadata": {
        "id": "uopuLRE6ZE-5"
      },
      "source": [
        "By default, the environment returns the RGB image which is displayed to human players as an observation.  \n",
        "However it is possible to observe\n",
        "- The 128 Bytes of RAM of the console (`Box([0 ... 0], [255 ... 255], (128,), uint8)`)\n",
        "- A grayscale image (`Box([[0 ... 0] ... [0  ... 0]], [[255 ... 255] ... [255  ... 255]], (250, 160), uint8)`)\n",
        "\n",
        "instead. "
      ]
    },
    {
      "cell_type": "markdown",
      "metadata": {
        "id": "NXoodpnfZE-6"
      },
      "source": [
        "## Preparation"
      ]
    },
    {
      "cell_type": "markdown",
      "metadata": {
        "id": "w0SEDNjFZE-6"
      },
      "source": [
        "### Installs"
      ]
    },
    {
      "cell_type": "code",
      "execution_count": 24,
      "metadata": {
        "colab": {
          "base_uri": "https://localhost:8080/"
        },
        "id": "l5_4qIlyfODG",
        "outputId": "5bd00495-d6b1-4f23-cc11-a43f435356a3"
      },
      "outputs": [
        {
          "name": "stdout",
          "output_type": "stream",
          "text": [
            "Get:1 https://cloud.r-project.org/bin/linux/ubuntu bionic-cran40/ InRelease [3,626 B]\n",
            "Hit:2 http://archive.ubuntu.com/ubuntu bionic InRelease\n",
            "Get:3 http://security.ubuntu.com/ubuntu bionic-security InRelease [88.7 kB]\n",
            "Ign:4 https://developer.download.nvidia.com/compute/machine-learning/repos/ubuntu1804/x86_64  InRelease\n",
            "Get:5 http://ppa.launchpad.net/c2d4u.team/c2d4u4.0+/ubuntu bionic InRelease [15.9 kB]\n",
            "Hit:6 https://developer.download.nvidia.com/compute/cuda/repos/ubuntu1804/x86_64  InRelease\n",
            "Hit:7 https://developer.download.nvidia.com/compute/machine-learning/repos/ubuntu1804/x86_64  Release\n",
            "Get:8 http://archive.ubuntu.com/ubuntu bionic-updates InRelease [88.7 kB]\n",
            "Hit:10 http://ppa.launchpad.net/cran/libgit2/ubuntu bionic InRelease\n",
            "Get:11 http://archive.ubuntu.com/ubuntu bionic-backports InRelease [83.3 kB]\n",
            "Hit:12 http://ppa.launchpad.net/deadsnakes/ppa/ubuntu bionic InRelease\n",
            "Hit:13 http://ppa.launchpad.net/graphics-drivers/ppa/ubuntu bionic InRelease\n",
            "Get:14 http://ppa.launchpad.net/c2d4u.team/c2d4u4.0+/ubuntu bionic/main Sources [2,237 kB]\n",
            "Get:15 http://ppa.launchpad.net/c2d4u.team/c2d4u4.0+/ubuntu bionic/main amd64 Packages [1,144 kB]\n",
            "Fetched 3,662 kB in 5s (781 kB/s)\n",
            "Reading package lists... Done\n",
            "Reading package lists... Done\n",
            "Building dependency tree       \n",
            "Reading state information... Done\n",
            "python-opengl is already the newest version (3.1.0+dfsg-1).\n",
            "xvfb is already the newest version (2:1.19.6-1ubuntu4.13).\n",
            "The following package was automatically installed and is no longer required:\n",
            "  libnvidia-common-460\n",
            "Use 'apt autoremove' to remove it.\n",
            "0 upgraded, 0 newly installed, 0 to remove and 20 not upgraded.\n"
          ]
        }
      ],
      "source": [
        "!apt-get update\n",
        "!apt-get install -y xvfb python-opengl"
      ]
    },
    {
      "cell_type": "code",
      "execution_count": 26,
      "metadata": {
        "colab": {
          "base_uri": "https://localhost:8080/",
          "height": 1000
        },
        "id": "DWU1zl7jZE-7",
        "outputId": "2d7acc68-e6da-4584-a390-2b3507aa59f1"
      },
      "outputs": [
        {
          "name": "stdout",
          "output_type": "stream",
          "text": [
            "Looking in indexes: https://pypi.org/simple, https://us-python.pkg.dev/colab-wheels/public/simple/\n",
            "Requirement already satisfied: pip in /usr/local/lib/python3.8/dist-packages (22.3.1)\n",
            "\u001b[33mWARNING: Running pip as the 'root' user can result in broken permissions and conflicting behaviour with the system package manager. It is recommended to use a virtual environment instead: https://pip.pypa.io/warnings/venv\u001b[0m\u001b[33m\n",
            "\u001b[0mLooking in indexes: https://pypi.org/simple, https://us-python.pkg.dev/colab-wheels/public/simple/\n",
            "Collecting gym==0.21.0\n",
            "  Using cached gym-0.21.0-py3-none-any.whl\n",
            "Requirement already satisfied: numpy>=1.18.0 in /usr/local/lib/python3.8/dist-packages (from gym==0.21.0) (1.21.6)\n",
            "Requirement already satisfied: cloudpickle>=1.2.0 in /usr/local/lib/python3.8/dist-packages (from gym==0.21.0) (1.5.0)\n",
            "Installing collected packages: gym\n",
            "  Attempting uninstall: gym\n",
            "    Found existing installation: gym 0.12.5\n",
            "    Uninstalling gym-0.12.5:\n",
            "      Successfully uninstalled gym-0.12.5\n",
            "Successfully installed gym-0.21.0\n",
            "\u001b[33mWARNING: Running pip as the 'root' user can result in broken permissions and conflicting behaviour with the system package manager. It is recommended to use a virtual environment instead: https://pip.pypa.io/warnings/venv\u001b[0m\u001b[33m\n",
            "\u001b[0m"
          ]
        },
        {
          "data": {
            "application/vnd.colab-display-data+json": {
              "pip_warning": {
                "packages": [
                  "gym"
                ]
              }
            }
          },
          "metadata": {},
          "output_type": "display_data"
        },
        {
          "name": "stdout",
          "output_type": "stream",
          "text": [
            "Looking in indexes: https://pypi.org/simple, https://us-python.pkg.dev/colab-wheels/public/simple/\n",
            "Collecting gym[atari]==0.12.5\n",
            "  Using cached gym-0.12.5-py3-none-any.whl\n",
            "Requirement already satisfied: scipy in /usr/local/lib/python3.8/dist-packages (from gym[atari]==0.12.5) (1.7.3)\n",
            "Requirement already satisfied: numpy>=1.10.4 in /usr/local/lib/python3.8/dist-packages (from gym[atari]==0.12.5) (1.21.6)\n",
            "Requirement already satisfied: pyglet>=1.2.0 in /usr/local/lib/python3.8/dist-packages (from gym[atari]==0.12.5) (2.0.3)\n",
            "Requirement already satisfied: six in /usr/local/lib/python3.8/dist-packages (from gym[atari]==0.12.5) (1.15.0)\n",
            "Requirement already satisfied: Pillow in /usr/local/lib/python3.8/dist-packages (from gym[atari]==0.12.5) (7.1.2)\n",
            "Requirement already satisfied: atari-py~=0.1.4 in /usr/local/lib/python3.8/dist-packages (from gym[atari]==0.12.5) (0.1.7)\n",
            "Requirement already satisfied: opencv-python in /usr/local/lib/python3.8/dist-packages (from gym[atari]==0.12.5) (4.6.0.66)\n",
            "Installing collected packages: gym\n",
            "  Attempting uninstall: gym\n",
            "    Found existing installation: gym 0.21.0\n",
            "    Uninstalling gym-0.21.0:\n",
            "      Successfully uninstalled gym-0.21.0\n",
            "Successfully installed gym-0.12.5\n",
            "\u001b[33mWARNING: Running pip as the 'root' user can result in broken permissions and conflicting behaviour with the system package manager. It is recommended to use a virtual environment instead: https://pip.pypa.io/warnings/venv\u001b[0m\u001b[33m\n",
            "\u001b[0m"
          ]
        },
        {
          "data": {
            "application/vnd.colab-display-data+json": {
              "pip_warning": {
                "packages": [
                  "gym"
                ]
              }
            }
          },
          "metadata": {},
          "output_type": "display_data"
        },
        {
          "name": "stdout",
          "output_type": "stream",
          "text": [
            "Looking in indexes: https://pypi.org/simple, https://us-python.pkg.dev/colab-wheels/public/simple/\n",
            "Requirement already satisfied: matplotlib in /usr/local/lib/python3.8/dist-packages (3.2.2)\n",
            "Requirement already satisfied: numpy>=1.11 in /usr/local/lib/python3.8/dist-packages (from matplotlib) (1.21.6)\n",
            "Requirement already satisfied: kiwisolver>=1.0.1 in /usr/local/lib/python3.8/dist-packages (from matplotlib) (1.4.4)\n",
            "Requirement already satisfied: python-dateutil>=2.1 in /usr/local/lib/python3.8/dist-packages (from matplotlib) (2.8.2)\n",
            "Requirement already satisfied: cycler>=0.10 in /usr/local/lib/python3.8/dist-packages (from matplotlib) (0.11.0)\n",
            "Requirement already satisfied: pyparsing!=2.0.4,!=2.1.2,!=2.1.6,>=2.0.1 in /usr/local/lib/python3.8/dist-packages (from matplotlib) (3.0.9)\n",
            "Requirement already satisfied: six>=1.5 in /usr/local/lib/python3.8/dist-packages (from python-dateutil>=2.1->matplotlib) (1.15.0)\n",
            "\u001b[33mWARNING: Running pip as the 'root' user can result in broken permissions and conflicting behaviour with the system package manager. It is recommended to use a virtual environment instead: https://pip.pypa.io/warnings/venv\u001b[0m\u001b[33m\n",
            "\u001b[0mLooking in indexes: https://pypi.org/simple, https://us-python.pkg.dev/colab-wheels/public/simple/\n",
            "Collecting pyvirtualdisplay\n",
            "  Downloading PyVirtualDisplay-3.0-py3-none-any.whl (15 kB)\n",
            "Installing collected packages: pyvirtualdisplay\n",
            "Successfully installed pyvirtualdisplay-3.0\n",
            "\u001b[33mWARNING: Running pip as the 'root' user can result in broken permissions and conflicting behaviour with the system package manager. It is recommended to use a virtual environment instead: https://pip.pypa.io/warnings/venv\u001b[0m\u001b[33m\n",
            "\u001b[0m"
          ]
        }
      ],
      "source": [
        "%pip install --upgrade pip\n",
        "%pip install gym==0.21.0\n",
        "%pip install 'gym[atari]==0.12.5'\n",
        "%pip install matplotlib\n",
        "%pip install pyvirtualdisplay"
      ]
    },
    {
      "cell_type": "markdown",
      "metadata": {
        "id": "fhpjsB9bZE-8"
      },
      "source": [
        "### Imports"
      ]
    },
    {
      "cell_type": "code",
      "execution_count": 27,
      "metadata": {
        "id": "iTdn0YfeZE-8"
      },
      "outputs": [],
      "source": [
        "import json\n",
        "import os\n",
        "import time\n",
        "from abc import ABC, abstractmethod\n",
        "from collections import deque\n",
        "from contextlib import suppress\n",
        "from datetime import datetime\n",
        "from random import sample\n",
        "from typing import Any, Tuple\n",
        "\n",
        "import gym\n",
        "import numpy as np\n",
        "import tensorflow as tf\n",
        "from keras import Model\n",
        "from keras.layers import Conv2D, Dense, Flatten, Input, Lambda, multiply\n",
        "from keras.losses import huber_loss\n",
        "from keras.optimizers import Adam\n",
        "from keras.utils import to_categorical\n",
        "from tensorflow import keras\n",
        "from tensorflow.compat.v1.keras.backend import set_session\n",
        "from pyvirtualdisplay import Display\n",
        "import matplotlib.pyplot as plt\n",
        "%matplotlib inline\n",
        "\n",
        "# local files\n",
        "from external.abstract_agent import AbstractAgent\n",
        "from external.atari_helpers import LazyFrames, make_atari, wrap_deepmind\n",
        "from external.loggers import TensorBoardLogger, tf_summary_image\n",
        "from external.plot_utils import plot_statistics"
      ]
    },
    {
      "cell_type": "code",
      "execution_count": 28,
      "metadata": {
        "id": "OXBi9qXufV-l"
      },
      "outputs": [],
      "source": [
        "display = Display(visible=0, size=(1400, 900))\n",
        "display.start()\n",
        "\n",
        "is_ipython = 'inline' in plt.get_backend()\n",
        "if is_ipython:\n",
        "    from IPython import display\n",
        "    from IPython.display import SVG\n",
        "\n",
        "plt.ion()"
      ]
    },
    {
      "cell_type": "markdown",
      "metadata": {
        "id": "IgU4OVMIZE-9"
      },
      "source": [
        "### Extended DQN-Agent"
      ]
    },
    {
      "cell_type": "code",
      "execution_count": 16,
      "metadata": {
        "id": "iaJZTcGhZE-9"
      },
      "outputs": [],
      "source": [
        "class AbstractDQNAgent(AbstractAgent):\n",
        "    __slots__ = [\n",
        "        \"action_size\",\n",
        "        \"state_size\",\n",
        "        \"gamma\",\n",
        "        \"epsilon\",\n",
        "        \"epsilon_decay\",\n",
        "        \"epsilon_min\",\n",
        "        \"alpha\",\n",
        "        \"batch_size\",\n",
        "        \"memory_size\",\n",
        "        \"start_replay_step\",\n",
        "        \"target_model_update_interval\",\n",
        "        \"train_freq\",\n",
        "    ]\n",
        "\n",
        "    def __init__(self,\n",
        "                 action_size: int,\n",
        "                 state_size: int,\n",
        "                 gamma: float,\n",
        "                 epsilon: float,\n",
        "                 epsilon_decay: float,\n",
        "                 epsilon_min: float,\n",
        "                 alpha: float,\n",
        "                 batch_size: int,\n",
        "                 memory_size: int,\n",
        "                 start_replay_step: int,\n",
        "                 target_model_update_interval: int,\n",
        "                 train_freq: int,\n",
        "                 ):\n",
        "        self.action_size = action_size\n",
        "        self.state_size = state_size\n",
        "\n",
        "        self.replay_has_started = False\n",
        "\n",
        "        self.gamma = gamma\n",
        "        self.epsilon = epsilon\n",
        "        self.epsilon_decay = epsilon_decay\n",
        "        self.epsilon_min = epsilon_min\n",
        "        self.alpha = alpha\n",
        "\n",
        "        self.memory_size = memory_size\n",
        "        self.memory = deque(maxlen=self.memory_size)\n",
        "        self.batch_size = batch_size\n",
        "\n",
        "        self.step = 0\n",
        "        self.start_replay_step = start_replay_step\n",
        "\n",
        "        self.target_model_update_interval = target_model_update_interval\n",
        "\n",
        "        self.train_freq = train_freq\n",
        "\n",
        "        assert self.start_replay_step >= self.batch_size, \"The number of steps to start replay must be at least as large as the batch size\"\n",
        "\n",
        "        self.action_mask = np.ones((1, self.action_size))\n",
        "        self.action_mask_batch = np.ones((self.batch_size, self.action_size))\n",
        "\n",
        "        self.tf_config_intra_threads = 8\n",
        "        self.tf_config_inter_threads = 4\n",
        "        self.tf_config_soft_placement = True\n",
        "        self.tf_config_allow_growth = True\n",
        "\n",
        "        config = tf.compat.v1.ConfigProto(intra_op_parallelism_threads=self.tf_config_intra_threads,\n",
        "                                inter_op_parallelism_threads=self.tf_config_inter_threads,\n",
        "                                allow_soft_placement=self.tf_config_soft_placement\n",
        "                                )\n",
        "\n",
        "        config.gpu_options.allow_growth = self.tf_config_allow_growth\n",
        "        session = tf.compat.v1.Session(config=config)\n",
        "        set_session(session)  # set this TensorFlow session as the default session for Keras\n",
        "\n",
        "        self.model = self._build_model()\n",
        "        self.target_model = self._build_model()\n",
        "\n",
        "    def save(self, target_path: str) -> None:\n",
        "      \"\"\"\n",
        "        Saves the current state of the DQNAgent to some output files.\n",
        "        Together with `load` this serves as a very rudimentary checkpointing.\n",
        "      \"\"\"\n",
        "      agent_dict = {\n",
        "            \"agent_init\": {},\n",
        "            \"agent_params\": {},\n",
        "            \"tf_config\": {}\n",
        "        }\n",
        "\n",
        "      if not os.path.exists(target_path):\n",
        "        os.makedirs(target_path)\n",
        "\n",
        "      for slot in self.__slots__:\n",
        "          agent_dict[\"agent_init\"].update({slot: getattr(self, slot)})\n",
        "\n",
        "      agent_dict[\"agent_init\"].update({\"memory_size\": self.memory.maxlen})\n",
        "\n",
        "      for attr in [\"action_mask\", \"action_mask_batch\"]:\n",
        "          agent_dict[\"agent_params\"].update({attr: getattr(self, attr).tolist()})\n",
        "\n",
        "      agent_dict[\"agent_params\"].update({\"memory\": list(self.memory)})\n",
        "\n",
        "      for tf_config in [\n",
        "          \"tf_config_intra_threads\",\n",
        "          \"tf_config_inter_threads\",\n",
        "          \"tf_config_soft_placement\",\n",
        "          \"tf_config_allow_growth\",\n",
        "      ]:\n",
        "          agent_dict[\"tf_config\"].update({tf_config: getattr(self, tf_config)})\n",
        "\n",
        "      with open(os.path.join(target_path, \"agent.json\"), \"w\") as f:\n",
        "          json.dump(agent_dict, f)\n",
        "\n",
        "      self.model.save_weights(os.path.join(target_path, \"model.h5\"))\n",
        "      self.target_model.save_weights(os.path.join(target_path, \"target_model.h5\"))\n",
        "\n",
        "    @classmethod\n",
        "    def load(cls, path: str) -> \"AbstractDQNAgent\":\n",
        "      \"\"\"\n",
        "        Loads the serialized state of a DQNAgent and returns an instance of it.\n",
        "      \"\"\"\n",
        "\n",
        "      with open(os.path.join(path, \"agent.json\"), \"r\") as f:\n",
        "          agent_dict = json.load(f)\n",
        "\n",
        "      agent = cls(**agent_dict[\"agent_init\"])\n",
        "\n",
        "      agent.action_mask = np.array(agent_dict[\"agent_params\"][\"action_mask\"])\n",
        "      agent.action_mask_batch = np.array(agent_dict[\"agent_params\"][\"action_mask_batch\"])\n",
        "\n",
        "      config = tf.compat.v1.ConfigProto(\n",
        "          intra_op_parallelism_threads=agent_dict[\"tf_config\"][\"tf_config_intra_threads\"],\n",
        "          inter_op_parallelism_threads=agent_dict[\"tf_config\"][\"tf_config_inter_threads\"],\n",
        "          allow_soft_placement=agent_dict[\"tf_config\"][\"tf_config_soft_placement\"])\n",
        "\n",
        "      config.gpu_options.allow_growth = agent_dict[\"tf_config\"][\"tf_config_allow_growth\"]\n",
        "      session = tf.compat.v1.Session(config=config)\n",
        "      set_session(session)\n",
        "\n",
        "      agent.model.load_weights('model.h5')\n",
        "      agent.target_model.load_weights(\"target_model.h5\")\n",
        "\n",
        "      return agent\n",
        "\n",
        "    @abstractmethod\n",
        "    def train(self, experience):\n",
        "      raise NotImplementedError\n",
        "\n",
        "    @abstractmethod\n",
        "    def act(self, state):\n",
        "      raise NotImplementedError\n",
        "\n",
        "    @abstractmethod\n",
        "    def _build_model(self) -> Model:\n",
        "      raise NotImplementedError"
      ]
    },
    {
      "cell_type": "markdown",
      "metadata": {
        "id": "efDYrUf9ZE--"
      },
      "source": [
        "## Deep Q-Learning Network (DQN)"
      ]
    },
    {
      "cell_type": "code",
      "execution_count": 17,
      "metadata": {
        "colab": {
          "base_uri": "https://localhost:8080/"
        },
        "id": "qADJ-_MoZE--",
        "outputId": "669c903b-fd8e-4fcb-b3a1-c0005262cf6c"
      },
      "outputs": [
        {
          "name": "stdout",
          "output_type": "stream",
          "text": [
            "NoopResetEnv (max 30) wrapper is used.\n",
            "MaxAndSkipEnv (skip 4) wrapper is used.\n",
            "EpisodicLifeEnv wrapper is used.\n",
            "FireResetEnv wrapper is used.\n",
            "ClipRewardEnv wrapper is used.\n",
            "FrameStack (4) wrapper is used.\n"
          ]
        }
      ],
      "source": [
        "env = make_atari(\"VideoPinball-v4\")\n",
        "env = wrap_deepmind(env, frame_stack=True) # maps frames to 84x84x4"
      ]
    },
    {
      "cell_type": "markdown",
      "metadata": {
        "id": "G5v-6xVSZE--"
      },
      "source": [
        "### Create the DQN Agent"
      ]
    },
    {
      "cell_type": "markdown",
      "metadata": {
        "id": "yO2DzOVAZE-_"
      },
      "source": [
        "Take the given `AbstractDQNAgent` (previously called `DQNAgent`) and add missing methods."
      ]
    },
    {
      "cell_type": "code",
      "execution_count": 52,
      "metadata": {
        "id": "I9nQIr7xZE-_"
      },
      "outputs": [],
      "source": [
        "class DQNAgent(AbstractDQNAgent):\n",
        "    def _build_model(self) -> Model:\n",
        "        \"\"\"Deep Q-network as defined in the DeepMind article on Nature\n",
        "        \n",
        "        Returns:\n",
        "            Model: Tensorflow Model which will be used as internal deep neural network\n",
        "        \"\"\"\n",
        "\n",
        "        atari_shape = (84, 84, 4)\n",
        "\n",
        "        # Frames from the observation\n",
        "        frames_input = Input(atari_shape, name=\"frames\")\n",
        "\n",
        "        # Actions as input\n",
        "        action_mask = Input((self.action_size,), name=\"action_mask\")\n",
        "\n",
        "        # Normalize the frames from [0, 255] to [0, 1]\n",
        "        normalized = Lambda(lambda x: x / 255.0, name=\"normalization\")(frames_input)\n",
        "\n",
        "        # \"The first hidden layer convolves 16 8×8 filters with stride 4 with the \n",
        "        # input image and applies a rectifier nonlinearity.\"\n",
        "        # Results in an output shape of (20, 20, 16)\n",
        "        conv1 = Conv2D(\n",
        "            filters=32,\n",
        "            kernel_size=(8, 8),\n",
        "            strides=(4, 4),\n",
        "            activation=\"relu\"\n",
        "        )(normalized)\n",
        "\n",
        "        # \"The second hidden layer convolves 32 4×4 filters with stride 2, again followed \n",
        "        # by a rectifier nonlinearity.\" \n",
        "        # Results in an output shape of (9, 9, 32)\n",
        "        conv2 = Conv2D(\n",
        "            filters=64,\n",
        "            kernel_size=(4,4),\n",
        "            strides=(2,2),\n",
        "            activation=\"relu\"\n",
        "        )(conv1)\n",
        "\n",
        "        conv3 = Conv2D(\n",
        "            filters=64,\n",
        "            kernel_size=(4,4),\n",
        "            strides=(1,1),\n",
        "            activation=\"relu\"\n",
        "        )(conv2)\n",
        "\n",
        "        # Flattening the last convolutional layer.\n",
        "        conv_flattened = Flatten()(conv3)\n",
        "\n",
        "        # \"The final hidden layer is fully-connected and consists of 256 rectifier units.\"\n",
        "        hidden = Dense(units=512, activation='relu')(conv_flattened)\n",
        "\n",
        "        # \"The output layer is a fully-connected linear layer with a single output \n",
        "        # for each valid action.\"\n",
        "        output = Dense(self.action_size)(hidden)\n",
        "\n",
        "        # Multiply the output with the action mask to get only one action output\n",
        "        filtered_output = multiply([output, action_mask])\n",
        "\n",
        "        model = Model(inputs=[frames_input, action_mask], outputs=filtered_output)\n",
        "        model.compile(loss=huber_loss, optimizer=Adam(learning_rate=self.alpha), metrics=None)\n",
        "\n",
        "        return model\n",
        "\n",
        "\n",
        "    def act(self, state: LazyFrames) -> int:\n",
        "        \"\"\"Selects the action to be executed based on the given state.\n",
        "\n",
        "        Implements epsilon greedy exploration strategy, i.e. with a probability of\n",
        "        epsilon, a random action is selected.\n",
        "\n",
        "        Args:\n",
        "            state [LazyFrames]: LazyFrames object representing the state based on 4 stacked observations (images)\n",
        "\n",
        "        Returns:\n",
        "            action [int]\n",
        "        \"\"\"\n",
        "\n",
        "        if np.random.rand() <= self.epsilon:\n",
        "            action = env.action_space.sample()\n",
        "        else:\n",
        "            # ! TODO self.model.predict oder self.target_model.predict?\n",
        "            q_values = self.model.predict([[np.array(state)], self.action_mask])\n",
        "            action = np.argmax(q_values)\n",
        "        return action\n",
        "\n",
        "        \n",
        "    def train(self, experience: Tuple[LazyFrames, int, LazyFrames, float, bool]):\n",
        "        \"\"\"Stores the experience in memory. If memory is full trains network by replay.\n",
        "\n",
        "        Args:\n",
        "            experience [tuple]: Tuple of state, action, next state, reward, done.\n",
        "\n",
        "        Returns:\n",
        "            None\n",
        "        \"\"\"\n",
        "        \n",
        "        self.memory.append(experience)\n",
        "        \n",
        "        #  - Update epsilon as long as it is not minimal\n",
        "        #  - Update weights of the target model (syn of the two models)\n",
        "        #  - Execute replay\n",
        "        if self.step >= self.start_replay_step:\n",
        "            if self.epsilon > self.epsilon_min:\n",
        "                self.epsilon -= self.epsilon_decay\n",
        "            if self.step % self.target_model_update_interval == 0:\n",
        "                self.target_model.set_weights(self.model.get_weights())\n",
        "            if self.step % self.train_freq == 0:\n",
        "                self._replay()\n",
        "\n",
        "        self.step += 1\n",
        "\n",
        "\n",
        "    def _replay(self) -> None:\n",
        "        \"\"\"Gets random experiences from memory for batch update of Q-function.\n",
        "\n",
        "        Returns:\n",
        "            None\n",
        "        \"\"\"\n",
        "\n",
        "        states, actions, next_states, rewards, dones = [np.array(memory) for memory in zip(*sample(self.memory, self.batch_size))]\n",
        "\n",
        "        # ! Can be left out if useless\n",
        "        assert all(isinstance(x, np.ndarray) for x in (states, actions, rewards, next_states, dones)), \\\n",
        "            \"All experience batches should be of type np.ndarray.\"\n",
        "        assert states.shape == (self.batch_size, 84, 84, 4), \\\n",
        "            f\"States shape should be: {(self.batch_size, 84, 84, 4)}\"\n",
        "        assert actions.shape == (self.batch_size,), f\"Actions shape should be: {(self.batch_size,)}\"\n",
        "        assert rewards.shape == (self.batch_size,), f\"Rewards shape should be: {(self.batch_size,)}\"\n",
        "        assert next_states.shape == (self.batch_size, 84, 84, 4), \\\n",
        "            f\"Next states shape should be: {(self.batch_size, 84, 84, 4)}\"\n",
        "        assert dones.shape == (self.batch_size,), f\"Dones shape should be: {(self.batch_size,)}\"\n",
        "\n",
        "        # Predict the Q values of the next states. Passing ones as the action mask.\n",
        "        next_q_values = self.target_model.predict([next_states, self.action_mask_batch], verbose=0)\n",
        "\n",
        "        # Calculate the Q values.\n",
        "        # - Terminal states get the reward\n",
        "        # - Non-terminal states get reward + gamma * max next_state q_value\n",
        "        q_values = [reward + (1 - done) * self.gamma * np.max(next_q_value) for done, reward, next_q_value in zip(dones, rewards, next_q_values)]\n",
        "\n",
        "        # Create a one hot encoding of the actions (the selected action is 1 all others 0)\n",
        "        one_hot_actions = to_categorical(actions, num_classes=self.action_size)\n",
        "\n",
        "        # Create the target Q values based on the one hot encoding of the actions and the calculated Q values\n",
        "        # This can be seen as matrix multiplication\n",
        "        # q_values = [0.5, 0.7, 0.9]\n",
        "        # actions [[1. 0. 0. 0.]\n",
        "        #          [0. 0. 1. 0.]\n",
        "        #          [0. 0. 0. 1.]]\n",
        "        # output  [[0.5 0.  0.   0. ]\n",
        "        #          [0.  0.  0.7  0. ]\n",
        "        #          [0.  0.  0.9  0. ]]\n",
        "        target_q_values = np.array(q_values)[np.newaxis].T * one_hot_actions\n",
        "\n",
        "        # Fit the model with the given states and the selected actions as one hot vector and the target_q_values as y\n",
        "        self.model.fit(\n",
        "           x=[states, one_hot_actions],  # states and mask\n",
        "           y=target_q_values,  # target Q values\n",
        "           batch_size=self.batch_size,\n",
        "           verbose=0\n",
        "        )\n",
        "        \n"
      ]
    },
    {
      "cell_type": "code",
      "execution_count": 53,
      "metadata": {
        "id": "nkMxNKmAZE_A"
      },
      "outputs": [],
      "source": [
        "def interact_with_environment(env, agent, n_episodes=600, max_steps=1000000, train=True, verbose=True):      \n",
        "    statistics = []\n",
        "    tb_logger = TensorBoardLogger(f'./logs/run-{datetime.now().strftime(\"%Y-%m-%d_%H:%M:%S\")}')\n",
        "    \n",
        "    with suppress(KeyboardInterrupt):\n",
        "        total_step = 0\n",
        "        for episode in range(n_episodes):\n",
        "            done = False\n",
        "            episode_reward = 0\n",
        "            state = env.reset()\n",
        "            episode_start_time = time.time()\n",
        "            episode_step = 0\n",
        "\n",
        "            while not done:\n",
        "                action = agent.act(state)\n",
        "                next_state, reward, done, _ = env.step(action)\n",
        "\n",
        "                if train:\n",
        "                    agent.train((state, action, next_state, reward, done))\n",
        "\n",
        "                if episode == 0:\n",
        "                    # for debug purpose log every state of first episode\n",
        "                    for obs in state:\n",
        "                        tb_logger.log_image(f'state_t{episode_step}:', tf_summary_image(np.array(obs, copy=False)),\n",
        "                                            global_step=total_step)\n",
        "                state = next_state\n",
        "                episode_reward += reward\n",
        "                episode_step += 1\n",
        "            \n",
        "            total_step += episode_step\n",
        "\n",
        "            if episode % 10 == 0:\n",
        "                speed = episode_step / (time.time() - episode_start_time)\n",
        "                tb_logger.log_scalar('score', episode_reward, global_step=total_step)\n",
        "                tb_logger.log_scalar('epsilon', agent.epsilon, global_step=total_step)\n",
        "                tb_logger.log_scalar('speed', speed, global_step=total_step)\n",
        "                if verbose:\n",
        "                    print(f'episode: {episode}/{n_episodes}, score: {episode_reward}, steps: {episode_step}, '\n",
        "                          f'total steps: {total_step}, e: {agent.epsilon:.3f}, speed: {speed:.2f} steps/s')\n",
        "\n",
        "            statistics.append({\n",
        "                'episode': episode,\n",
        "                'score': episode_reward,\n",
        "                'steps': episode_step\n",
        "            })\n",
        "                                  \n",
        "            if total_step >= max_steps:\n",
        "                break\n",
        "        \n",
        "    return statistics"
      ]
    },
    {
      "cell_type": "code",
      "execution_count": null,
      "metadata": {
        "colab": {
          "base_uri": "https://localhost:8080/"
        },
        "id": "Ae5vkyyHZE_A",
        "outputId": "efbc3988-7c9d-4eae-f4ca-895855a6aec9"
      },
      "outputs": [
        {
          "name": "stdout",
          "output_type": "stream",
          "text": [
            "episode: 0/5000, score: 0.0, steps: 82, total steps: 82, e: 1.000, speed: 44.27 steps/s\n",
            "episode: 10/5000, score: 2.0, steps: 74, total steps: 1621, e: 1.000, speed: 308.85 steps/s\n",
            "episode: 20/5000, score: 12.0, steps: 161, total steps: 2793, e: 1.000, speed: 308.71 steps/s\n",
            "episode: 30/5000, score: 47.0, steps: 249, total steps: 5171, e: 1.000, speed: 304.72 steps/s\n",
            "episode: 40/5000, score: 12.0, steps: 87, total steps: 6464, e: 1.000, speed: 307.78 steps/s\n",
            "episode: 50/5000, score: 15.0, steps: 177, total steps: 8418, e: 1.000, speed: 306.45 steps/s\n",
            "episode: 60/5000, score: 3.0, steps: 136, total steps: 9937, e: 1.000, speed: 297.85 steps/s\n",
            "episode: 70/5000, score: 39.0, steps: 344, total steps: 11311, e: 1.000, speed: 313.19 steps/s\n",
            "episode: 80/5000, score: 69.0, steps: 471, total steps: 13093, e: 1.000, speed: 307.87 steps/s\n",
            "episode: 90/5000, score: 23.0, steps: 178, total steps: 14593, e: 1.000, speed: 304.43 steps/s\n",
            "episode: 100/5000, score: 4.0, steps: 45, total steps: 16142, e: 1.000, speed: 299.78 steps/s\n",
            "episode: 110/5000, score: 14.0, steps: 117, total steps: 18503, e: 1.000, speed: 302.76 steps/s\n",
            "episode: 120/5000, score: 135.0, steps: 758, total steps: 20935, e: 1.000, speed: 306.96 steps/s\n",
            "episode: 130/5000, score: 5.0, steps: 118, total steps: 22325, e: 1.000, speed: 300.59 steps/s\n",
            "episode: 140/5000, score: 12.0, steps: 77, total steps: 24071, e: 1.000, speed: 307.73 steps/s\n",
            "episode: 150/5000, score: 13.0, steps: 187, total steps: 25844, e: 1.000, speed: 312.90 steps/s\n",
            "episode: 160/5000, score: 9.0, steps: 134, total steps: 27562, e: 1.000, speed: 314.38 steps/s\n",
            "episode: 170/5000, score: 35.0, steps: 196, total steps: 29425, e: 1.000, speed: 314.39 steps/s\n",
            "episode: 180/5000, score: 10.0, steps: 198, total steps: 30870, e: 1.000, speed: 272.30 steps/s\n",
            "episode: 190/5000, score: 28.0, steps: 275, total steps: 33529, e: 1.000, speed: 313.45 steps/s\n",
            "episode: 200/5000, score: 14.0, steps: 104, total steps: 34871, e: 1.000, speed: 304.51 steps/s\n",
            "episode: 210/5000, score: 52.0, steps: 330, total steps: 36520, e: 1.000, speed: 313.42 steps/s\n",
            "episode: 220/5000, score: 4.0, steps: 93, total steps: 38511, e: 1.000, speed: 314.95 steps/s\n",
            "episode: 230/5000, score: 43.0, steps: 359, total steps: 40012, e: 1.000, speed: 311.87 steps/s\n",
            "episode: 240/5000, score: 20.0, steps: 130, total steps: 41853, e: 1.000, speed: 314.09 steps/s\n",
            "episode: 250/5000, score: 39.0, steps: 368, total steps: 44027, e: 1.000, speed: 303.90 steps/s\n",
            "episode: 260/5000, score: 17.0, steps: 147, total steps: 45822, e: 1.000, speed: 313.88 steps/s\n",
            "episode: 270/5000, score: 19.0, steps: 160, total steps: 47321, e: 1.000, speed: 301.04 steps/s\n",
            "episode: 280/5000, score: 28.0, steps: 330, total steps: 49382, e: 1.000, speed: 297.95 steps/s\n",
            "episode: 290/5000, score: 69.0, steps: 429, total steps: 50907, e: 1.000, speed: 310.69 steps/s\n",
            "episode: 300/5000, score: 14.0, steps: 94, total steps: 52705, e: 1.000, speed: 303.91 steps/s\n",
            "episode: 310/5000, score: 41.0, steps: 285, total steps: 54575, e: 1.000, speed: 299.87 steps/s\n",
            "episode: 320/5000, score: 6.0, steps: 114, total steps: 55863, e: 1.000, speed: 304.34 steps/s\n",
            "episode: 330/5000, score: 22.0, steps: 290, total steps: 58086, e: 1.000, speed: 307.57 steps/s\n",
            "episode: 340/5000, score: 15.0, steps: 100, total steps: 59634, e: 1.000, speed: 309.25 steps/s\n",
            "episode: 350/5000, score: 3.0, steps: 33, total steps: 60726, e: 1.000, speed: 308.02 steps/s\n",
            "episode: 360/5000, score: 4.0, steps: 104, total steps: 62007, e: 1.000, speed: 294.89 steps/s\n",
            "episode: 370/5000, score: 10.0, steps: 70, total steps: 64047, e: 1.000, speed: 285.04 steps/s\n",
            "episode: 380/5000, score: 7.0, steps: 296, total steps: 66364, e: 1.000, speed: 317.73 steps/s\n",
            "episode: 390/5000, score: 17.0, steps: 112, total steps: 67768, e: 1.000, speed: 294.52 steps/s\n",
            "episode: 400/5000, score: 33.0, steps: 278, total steps: 69037, e: 1.000, speed: 306.16 steps/s\n",
            "episode: 410/5000, score: 53.0, steps: 296, total steps: 71159, e: 1.000, speed: 294.76 steps/s\n",
            "episode: 420/5000, score: 29.0, steps: 165, total steps: 72871, e: 1.000, speed: 299.61 steps/s\n",
            "episode: 430/5000, score: 3.0, steps: 98, total steps: 74360, e: 1.000, speed: 301.24 steps/s\n",
            "episode: 440/5000, score: 26.0, steps: 249, total steps: 76189, e: 1.000, speed: 307.65 steps/s\n"
          ]
        }
      ],
      "source": [
        "action_size = env.action_space.n\n",
        "state_size = env.observation_space.shape[0]\n",
        "\n",
        "# Hyperparams (should be sufficient)\n",
        "episodes = 5000\n",
        "annealing_steps = 100000  # not episodes!\n",
        "gamma = 0.99\n",
        "epsilon = 1.0\n",
        "epsilon_min = 0.01\n",
        "epsilon_decay = 0.000004\n",
        "alpha = 0.0001\n",
        "batch_size = 64\n",
        "memory_size = 200000\n",
        "start_replay_step = 200000\n",
        "target_model_update_interval = 1000\n",
        "train_freq = 4\n",
        "\n",
        "agent = DQNAgent(action_size=action_size, state_size=state_size, gamma=gamma, \n",
        "                 epsilon=epsilon, epsilon_decay=epsilon_decay, epsilon_min=epsilon_min, \n",
        "                 alpha=alpha, batch_size=batch_size, memory_size=memory_size,\n",
        "                 start_replay_step=start_replay_step, \n",
        "                 target_model_update_interval=target_model_update_interval, train_freq=train_freq)\n",
        "\n",
        "statistics = interact_with_environment(env, agent, n_episodes=episodes, verbose=True)\n",
        "env.close()\n",
        "plot_statistics(statistics)"
      ]
    },
    {
      "cell_type": "code",
      "execution_count": 29,
      "metadata": {
        "colab": {
          "base_uri": "https://localhost:8080/",
          "height": 248
        },
        "id": "kxXdW7Biea4M",
        "outputId": "7afbc0b4-e38b-4417-b4ee-2a6904846e0d"
      },
      "outputs": [
        {
          "data": {
            "image/png": "[encoded data removed]",
            "text/plain": [
              "<Figure size 432x288 with 1 Axes>"
            ]
          },
          "metadata": {
            "needs_background": "light"
          },
          "output_type": "display_data"
        }
      ],
      "source": [
        "for i in range(3):\n",
        "    state = env.reset()\n",
        "    img = plt.imshow(env.render(mode='rgb_array'))\n",
        "    for j in range(200):\n",
        "        action = agent.act(state)\n",
        "        img.set_data(env.render(mode='rgb_array')) \n",
        "        plt.axis('off')\n",
        "        display.display(plt.gcf())\n",
        "        display.clear_output(wait=True)\n",
        "        state, reward, done, _ = env.step(action)\n",
        "        if done:\n",
        "            break \n",
        "            \n",
        "env.close()"
      ]
    },
    {
      "cell_type": "code",
      "execution_count": 30,
      "metadata": {
        "colab": {
          "base_uri": "https://localhost:8080/",
          "height": 825
        },
        "id": "BHZxhRSHf6yU",
        "outputId": "e703266b-90f1-4ea3-cfce-698b8b293aa7"
      },
      "outputs": [
        {
          "data": {
            "image/png": "[encoded data removed]",
            "text/plain": [
              "<IPython.core.display.Image object>"
            ]
          },
          "execution_count": 30,
          "metadata": {},
          "output_type": "execute_result"
        }
      ],
      "source": [
        "tf.keras.utils.plot_model(agent.model, to_file='keras_plot_model_2.png', show_shapes=True)\n",
        "display.Image('keras_plot_model_2.png')"
      ]
    },
    {
      "cell_type": "code",
      "execution_count": 31,
      "metadata": {
        "id": "vPrMm9odgFs7"
      },
      "outputs": [],
      "source": [
        "import pickle\n",
        "from os import path\n",
        "\n",
        "save_dir = \"./saved_model\""
      ]
    },
    {
      "cell_type": "code",
      "execution_count": 32,
      "metadata": {
        "id": "V1d6Ah1GgJ-G"
      },
      "outputs": [],
      "source": [
        "agent.model.save(path.join(save_dir, \"model.tf\"))\n",
        "agent.target_model.save(path.join(save_dir, \"target_model.tf\"))"
      ]
    },
    {
      "cell_type": "code",
      "execution_count": 34,
      "metadata": {
        "id": "DjzHcEOHgaun"
      },
      "outputs": [],
      "source": [
        "agent.model = None\n",
        "agent.target_model = None"
      ]
    },
    {
      "cell_type": "code",
      "execution_count": 35,
      "metadata": {
        "id": "qU6_sPNKgb7b"
      },
      "outputs": [],
      "source": [
        "with open(path.join(save_dir, \"agent.pkl\"), \"wb\") as f:\n",
        "    pickle.dump(agent, f)\n",
        "    f.close()"
      ]
    },
    {
      "cell_type": "markdown",
      "metadata": {
        "id": "YV-IOIKZghSn"
      },
      "source": [
        "Load the model"
      ]
    },
    {
      "cell_type": "code",
      "execution_count": 36,
      "metadata": {
        "colab": {
          "base_uri": "https://localhost:8080/"
        },
        "id": "qxBJ3gv1ggqA",
        "outputId": "6ead0800-8b93-41e4-95db-c963ade8cf2c"
      },
      "outputs": [
        {
          "name": "stderr",
          "output_type": "stream",
          "text": [
            "WARNING:tensorflow:From /usr/local/lib/python3.8/dist-packages/tensorflow/python/ops/init_ops.py:93: calling GlorotUniform.__init__ (from tensorflow.python.ops.init_ops) with dtype is deprecated and will be removed in a future version.\n",
            "Instructions for updating:\n",
            "Call initializer instance with the dtype argument instead of passing it to the constructor\n",
            "WARNING:tensorflow:From /usr/local/lib/python3.8/dist-packages/tensorflow/python/ops/init_ops.py:93: calling Zeros.__init__ (from tensorflow.python.ops.init_ops) with dtype is deprecated and will be removed in a future version.\n",
            "Instructions for updating:\n",
            "Call initializer instance with the dtype argument instead of passing it to the constructor\n"
          ]
        }
      ],
      "source": [
        "with open(path.join(save_dir, \"agent.pkl\"), \"rb\") as f:\n",
        "    agent = pickle.load(f)\n",
        "    f.close()\n",
        "\n",
        "agent.model = tf.keras.models.load_model(path.join(save_dir, \"model.tf\"))\n",
        "agent.target_model = tf.keras.models.load_model(path.join(save_dir, \"target_model.tf\"))"
      ]
    },
    {
      "cell_type": "markdown",
      "metadata": {
        "id": "hMBpIA_oZE_A"
      },
      "source": [
        "## To-Dos\n",
        "\n",
        "- Create on place for hyperparameters for inside the model and pass it on\n",
        "  - e. g. optimizer, different metrics, checkpointing for the internal model, etc."
      ]
    },
    {
      "cell_type": "markdown",
      "metadata": {
        "id": "h5UV7EPfZE_B"
      },
      "source": []
    }
  ],
  "metadata": {
    "accelerator": "GPU",
    "colab": {
      "provenance": []
    },
    "gpuClass": "standard",
    "kernelspec": {
      "display_name": "base",
      "language": "python",
      "name": "python3"
    },
    "language_info": {
      "codemirror_mode": {
        "name": "ipython",
        "version": 3
      },
      "file_extension": ".py",
      "mimetype": "text/x-python",
      "name": "python",
      "nbconvert_exporter": "python",
      "pygments_lexer": "ipython3",
      "version": "3.9.15"
    },
    "orig_nbformat": 4,
    "vscode": {
      "interpreter": {
        "hash": "119d84cb8c3b84b6d48a93e2933b395fcb363c6d1cda3c0de52c91f1ece8e0fb"
      }
    }
  },
  "nbformat": 4,
  "nbformat_minor": 0
}
