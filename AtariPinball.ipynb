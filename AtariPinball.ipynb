{
 "cells": [
  {
   "cell_type": "markdown",
   "metadata": {
    "id": "F0CXP1j7ZE-y"
   },
   "source": [
    "# Video Pinball"
   ]
  },
  {
   "cell_type": "markdown",
   "metadata": {
    "id": "PfohG30UZE-1"
   },
   "source": [
    "This project aims to teach a reinforcement learning agent to play the game [Atari Video Pinball](https://gymnasium.farama.org/environments/atari/video_pinball/).  \n",
    "For this purpose, the Deep Q-Learning approach is followed using a neural network."
   ]
  },
  {
   "cell_type": "markdown",
   "metadata": {
    "id": "oha95PZYZE-2"
   },
   "source": [
    "## Information"
   ]
  },
  {
   "cell_type": "markdown",
   "metadata": {
    "id": "uto_yJs4ZE-3"
   },
   "source": [
    "General information:\n",
    "\n",
    "|                   |                                   |\n",
    "| ----------------- | --------------------------------- |\n",
    "| Action Space      | Discrete(18)                      |\n",
    "| Observation Space | (210, 160, 3)                     |\n",
    "| Observation High  | 255                               |\n",
    "| Observation Low   | 0                                 |\n",
    "| Import            | `gym.make(\"ALE/VideoPinball-v5\")` |\n"
   ]
  },
  {
   "cell_type": "markdown",
   "metadata": {
    "id": "hsq5OxhTZE-3"
   },
   "source": [
    "### Actions"
   ]
  },
  {
   "cell_type": "markdown",
   "metadata": {
    "id": "zZmT7C3NZE-3"
   },
   "source": [
    "The `Video Pinball` Game form the Atari (2600) environment has the following actions which are described in the [manual of the game](https://atariage.com/manual_html_page.php?SoftwareLabelID=588):\n",
    "**This is the reduced action space, which is available when choosing `v0`, `v4` or specifying `full_action_space=false` during initialization. Otherwise more actions will be available.**\n",
    "\n",
    "| Num | Action    | Description                                                                                  |\n",
    "| --- | --------- | -------------------------------------------------------------------------------------------- |\n",
    "| 0   | NOOP      | No Operation                                                                                 |\n",
    "| 1   | FIRE      | Press the red controller button to release the spring and shoot the ball into the playfield. |\n",
    "| 2   | UP        | Move the Joystick up to move both flippers at the same time.                                 |\n",
    "| 3   | RIGHT     | Move the Joystick to the right to move the right flipper up.                                 |\n",
    "| 4   | LEFT      | Move the Joystick to the left to move the left flipper up.                                   |\n",
    "| 5   | DOWN      | Pull the Joystick down (towards you) to bring the plunger back.                              |\n",
    "| 6   | UPFIRE    | \"Nudge\" the ball into upwards direction.                                                     |\n",
    "| 7   | RIGHTFIRE | \"Nudge\" the ball to the right.                                                               |\n",
    "| 8   | LEFTFIRE  | \"Nudge\" the ball to the left.                                                                |\n",
    "\n",
    "Furthermore it might be interesting to try different modes/difficulties of the game.\n"
   ]
  },
  {
   "cell_type": "markdown",
   "metadata": {
    "id": "8aXY11AEZE-4"
   },
   "source": [
    "### Difficulties"
   ]
  },
  {
   "cell_type": "markdown",
   "metadata": {
    "id": "mmu_V-S3ZE-5"
   },
   "source": [
    "There are two available difficulties:\n",
    "\n",
    "- `a` (aka. pinbal wizards) is for expert players and has two additional drain holes at the bottom\n",
    "- `b` is for the beginning/novice players"
   ]
  },
  {
   "cell_type": "markdown",
   "metadata": {
    "id": "pXbi9DXyZE-5"
   },
   "source": [
    "### Observations"
   ]
  },
  {
   "cell_type": "markdown",
   "metadata": {
    "id": "uopuLRE6ZE-5"
   },
   "source": [
    "By default, the environment returns the RGB image which is displayed to human players as an observation.  \n",
    "However it is possible to observe\n",
    "- The 128 Bytes of RAM of the console (`Box([0 ... 0], [255 ... 255], (128,), uint8)`)\n",
    "- A grayscale image (`Box([[0 ... 0] ... [0  ... 0]], [[255 ... 255] ... [255  ... 255]], (250, 160), uint8)`)\n",
    "\n",
    "instead. "
   ]
  },
  {
   "attachments": {},
   "cell_type": "markdown",
   "metadata": {},
   "source": [
    "---"
   ]
  },
  {
   "cell_type": "markdown",
   "metadata": {
    "id": "NXoodpnfZE-6"
   },
   "source": [
    "## Preparation"
   ]
  },
  {
   "cell_type": "markdown",
   "metadata": {
    "id": "w0SEDNjFZE-6"
   },
   "source": [
    "### Installs"
   ]
  },
  {
   "cell_type": "code",
   "execution_count": 1,
   "metadata": {
    "colab": {
     "base_uri": "https://localhost:8080/"
    },
    "execution": {
     "iopub.execute_input": "2023-01-06T19:48:33.726357Z",
     "iopub.status.busy": "2023-01-06T19:48:33.725352Z",
     "iopub.status.idle": "2023-01-06T19:48:48.867345Z",
     "shell.execute_reply": "2023-01-06T19:48:48.866311Z",
     "shell.execute_reply.started": "2023-01-06T19:48:33.726277Z"
    },
    "id": "l5_4qIlyfODG",
    "outputId": "60bf481f-297c-4605-fb2b-5ad56edf87af"
   },
   "outputs": [],
   "source": [
    "# !apt-get update\n",
    "# !apt-get install -y xvfb python-opengl"
   ]
  },
  {
   "cell_type": "code",
   "execution_count": 2,
   "metadata": {},
   "outputs": [],
   "source": [
    "# %pip install -q --upgrade pip\n",
    "# %pip install -q gym==0.21.0"
   ]
  },
  {
   "cell_type": "code",
   "execution_count": 3,
   "metadata": {
    "colab": {
     "base_uri": "https://localhost:8080/"
    },
    "execution": {
     "iopub.execute_input": "2023-01-06T19:48:48.870415Z",
     "iopub.status.busy": "2023-01-06T19:48:48.869974Z",
     "iopub.status.idle": "2023-01-06T19:49:47.086129Z",
     "shell.execute_reply": "2023-01-06T19:49:47.084655Z",
     "shell.execute_reply.started": "2023-01-06T19:48:48.870374Z"
    },
    "id": "DWU1zl7jZE-7",
    "outputId": "c0db7be7-9e0f-4fe6-c300-c4017a69be24"
   },
   "outputs": [],
   "source": [
    "\n",
    "\n",
    "# %pip install -q matplotlib\n",
    "# %pip install -q pyvirtualdisplay"
   ]
  },
  {
   "cell_type": "code",
   "execution_count": 4,
   "metadata": {},
   "outputs": [],
   "source": [
    "# %pip install -q 'gym[atari]==0.12.5'"
   ]
  },
  {
   "cell_type": "markdown",
   "metadata": {
    "id": "9f7F9DYhOUy-"
   },
   "source": [
    "### Download required files from Drive"
   ]
  },
  {
   "cell_type": "code",
   "execution_count": 5,
   "metadata": {
    "colab": {
     "base_uri": "https://localhost:8080/"
    },
    "execution": {
     "iopub.execute_input": "2023-01-06T19:49:47.091167Z",
     "iopub.status.busy": "2023-01-06T19:49:47.090816Z",
     "iopub.status.idle": "2023-01-06T19:49:47.099633Z",
     "shell.execute_reply": "2023-01-06T19:49:47.098162Z",
     "shell.execute_reply.started": "2023-01-06T19:49:47.091124Z"
    },
    "id": "X31W6SxqO2Rg",
    "outputId": "4eef9cbd-0e16-45e3-fda6-4d5078012242"
   },
   "outputs": [],
   "source": [
    "# import sys\n",
    "\n",
    "# if 'google.colab' in sys.modules:\n",
    "#     %pip install -q --upgrade gdown\n",
    "#     from gdown import download_folder\n",
    "\n",
    "#     download_folder(\"https://drive.google.com/drive/folders/1SW56nbccfHJtC6oGBIcp7XCeJDkKehGK\")"
   ]
  },
  {
   "cell_type": "markdown",
   "metadata": {
    "id": "fhpjsB9bZE-8"
   },
   "source": [
    "### Imports"
   ]
  },
  {
   "cell_type": "code",
   "execution_count": 6,
   "metadata": {
    "colab": {
     "base_uri": "https://localhost:8080/"
    },
    "execution": {
     "iopub.execute_input": "2023-01-06T19:49:47.101516Z",
     "iopub.status.busy": "2023-01-06T19:49:47.101165Z",
     "iopub.status.idle": "2023-01-06T19:49:54.951778Z",
     "shell.execute_reply": "2023-01-06T19:49:54.950615Z",
     "shell.execute_reply.started": "2023-01-06T19:49:47.101488Z"
    },
    "id": "iTdn0YfeZE-8",
    "outputId": "b80af935-b178-4b57-9b3a-605e41c16a7e"
   },
   "outputs": [
    {
     "name": "stderr",
     "output_type": "stream",
     "text": [
      "2023-01-12 11:12:54.638038: I tensorflow/core/platform/cpu_feature_guard.cc:193] This TensorFlow binary is optimized with oneAPI Deep Neural Network Library (oneDNN) to use the following CPU instructions in performance-critical operations:  AVX2 FMA\n",
      "To enable them in other operations, rebuild TensorFlow with the appropriate compiler flags.\n",
      "2023-01-12 11:12:55.121271: W tensorflow/compiler/xla/stream_executor/platform/default/dso_loader.cc:64] Could not load dynamic library 'libnvinfer.so.7'; dlerror: libnvinfer.so.7: cannot open shared object file: No such file or directory; LD_LIBRARY_PATH: :/home/tree/anaconda3/envs/devTF/lib/\n",
      "2023-01-12 11:12:55.121312: W tensorflow/compiler/xla/stream_executor/platform/default/dso_loader.cc:64] Could not load dynamic library 'libnvinfer_plugin.so.7'; dlerror: libnvinfer_plugin.so.7: cannot open shared object file: No such file or directory; LD_LIBRARY_PATH: :/home/tree/anaconda3/envs/devTF/lib/\n",
      "2023-01-12 11:12:55.121317: W tensorflow/compiler/tf2tensorrt/utils/py_utils.cc:38] TF-TRT Warning: Cannot dlopen some TensorRT libraries. If you would like to use Nvidia GPU with TensorRT, please make sure the missing libraries mentioned above are installed properly.\n"
     ]
    },
    {
     "name": "stdout",
     "output_type": "stream",
     "text": [
      "WARNING:tensorflow:From /home/tree/.local/lib/python3.9/site-packages/tensorflow/python/compat/v2_compat.py:107: disable_resource_variables (from tensorflow.python.ops.variable_scope) is deprecated and will be removed in a future version.\n",
      "Instructions for updating:\n",
      "non-resource variables are not supported in the long term\n"
     ]
    }
   ],
   "source": [
    "import json\n",
    "import os\n",
    "import time\n",
    "from abc import ABC, abstractmethod\n",
    "from collections import deque\n",
    "from contextlib import suppress\n",
    "from datetime import datetime\n",
    "from random import sample\n",
    "from typing import Any, Tuple\n",
    "\n",
    "import gym\n",
    "import numpy as np\n",
    "import tensorflow as tf\n",
    "#from tensorflow import keras\n",
    "from tensorflow.keras import Model\n",
    "from tensorflow.keras.layers import Conv2D, Dense, Flatten, Input, Lambda, multiply\n",
    "from tensorflow.keras.losses import Huber\n",
    "from tensorflow.keras.optimizers import Adam\n",
    "from tensorflow.keras.utils import to_categorical\n",
    "\n",
    "from tensorflow.compat.v1.keras.backend import set_session\n",
    "from pyvirtualdisplay import Display\n",
    "import matplotlib.pyplot as plt\n",
    "%matplotlib inline\n",
    "\n",
    "# local files\n",
    "from external.abstract_agent import AbstractAgent\n",
    "from external.atari_helpers import LazyFrames, make_atari, wrap_deepmind\n",
    "from external.loggers import TensorBoardLogger, tf_summary_image\n",
    "from external.plot_utils import plot_statistics\n",
    "\n",
    "# \n",
    "import pickle\n",
    "from os import path, makedirs\n",
    "from datetime import datetime"
   ]
  },
  {
   "cell_type": "code",
   "execution_count": 7,
   "metadata": {
    "execution": {
     "iopub.execute_input": "2023-01-06T19:49:54.955659Z",
     "iopub.status.busy": "2023-01-06T19:49:54.954886Z",
     "iopub.status.idle": "2023-01-06T19:49:55.462314Z",
     "shell.execute_reply": "2023-01-06T19:49:55.460986Z",
     "shell.execute_reply.started": "2023-01-06T19:49:54.955617Z"
    },
    "id": "OXBi9qXufV-l"
   },
   "outputs": [
    {
     "data": {
      "text/plain": [
       "<contextlib.ExitStack at 0x7f831c23c340>"
      ]
     },
     "execution_count": 7,
     "metadata": {},
     "output_type": "execute_result"
    }
   ],
   "source": [
    "display = Display(visible=0, size=(1400, 900))\n",
    "display.start()\n",
    "\n",
    "is_ipython = 'inline' in plt.get_backend()\n",
    "if is_ipython:\n",
    "    from IPython import display\n",
    "    from IPython.display import SVG\n",
    "\n",
    "plt.ion()"
   ]
  },
  {
   "cell_type": "code",
   "execution_count": 8,
   "metadata": {},
   "outputs": [],
   "source": [
    "tf.compat.v1.enable_eager_execution()"
   ]
  },
  {
   "cell_type": "markdown",
   "metadata": {
    "id": "IgU4OVMIZE-9"
   },
   "source": [
    "### Extended DQN-Agent"
   ]
  },
  {
   "cell_type": "code",
   "execution_count": 9,
   "metadata": {
    "execution": {
     "iopub.execute_input": "2023-01-06T19:49:55.464495Z",
     "iopub.status.busy": "2023-01-06T19:49:55.464187Z",
     "iopub.status.idle": "2023-01-06T19:49:55.485976Z",
     "shell.execute_reply": "2023-01-06T19:49:55.484196Z",
     "shell.execute_reply.started": "2023-01-06T19:49:55.464464Z"
    },
    "id": "iaJZTcGhZE-9"
   },
   "outputs": [],
   "source": [
    "class AbstractDQNAgent(AbstractAgent):\n",
    "    __slots__ = [\n",
    "        \"action_size\",\n",
    "        \"state_size\",\n",
    "        \"gamma\",\n",
    "        \"epsilon\",\n",
    "        \"epsilon_decay\",\n",
    "        \"epsilon_min\",\n",
    "        \"alpha\",\n",
    "        \"batch_size\",\n",
    "        \"memory_size\",\n",
    "        \"start_replay_step\",\n",
    "        \"target_model_update_interval\",\n",
    "        \"train_freq\",\n",
    "    ]\n",
    "\n",
    "    def __init__(self,\n",
    "                 action_size: int,\n",
    "                 state_size: int,\n",
    "                 gamma: float,\n",
    "                 epsilon: float,\n",
    "                 epsilon_decay: float,\n",
    "                 epsilon_min: float,\n",
    "                 alpha: float,\n",
    "                 batch_size: int,\n",
    "                 memory_size: int,\n",
    "                 start_replay_step: int,\n",
    "                 target_model_update_interval: int,\n",
    "                 train_freq: int,\n",
    "                 ):\n",
    "        self.action_size = action_size\n",
    "        self.state_size = state_size\n",
    "\n",
    "        self.replay_has_started = False\n",
    "\n",
    "        self.gamma = gamma\n",
    "        self.epsilon = epsilon\n",
    "        self.epsilon_decay = epsilon_decay\n",
    "        self.epsilon_min = epsilon_min\n",
    "        self.alpha = alpha\n",
    "\n",
    "        self.memory_size = memory_size\n",
    "        self.memory = deque(maxlen=self.memory_size)\n",
    "        self.batch_size = batch_size\n",
    "\n",
    "        self.step = 0\n",
    "        self.start_replay_step = start_replay_step\n",
    "\n",
    "        self.target_model_update_interval = target_model_update_interval\n",
    "\n",
    "        self.train_freq = train_freq\n",
    "\n",
    "        assert self.start_replay_step >= self.batch_size, \"The number of steps to start replay must be at least as large as the batch size\"\n",
    "\n",
    "        self.action_mask = np.ones((1, self.action_size))\n",
    "        self.action_mask_batch = np.ones((self.batch_size, self.action_size))\n",
    "\n",
    "        self.tf_config_intra_threads = 8\n",
    "        self.tf_config_inter_threads = 4\n",
    "        self.tf_config_soft_placement = True\n",
    "        self.tf_config_allow_growth = True\n",
    "\n",
    "        config = tf.compat.v1.ConfigProto(intra_op_parallelism_threads=self.tf_config_intra_threads,\n",
    "                                inter_op_parallelism_threads=self.tf_config_inter_threads,\n",
    "                                allow_soft_placement=self.tf_config_soft_placement\n",
    "                                )\n",
    "\n",
    "        config.gpu_options.allow_growth = self.tf_config_allow_growth\n",
    "        session = tf.compat.v1.Session(config=config)\n",
    "        set_session(session)  # set this TensorFlow session as the default session for Keras\n",
    "\n",
    "        self.model = self._build_model()\n",
    "        self.target_model = self._build_model()\n",
    "\n",
    "    def save(self, target_path: str, statistics=None) -> None:\n",
    "      \"\"\"\n",
    "        Saves the current state of the DQNAgent to some output files.\n",
    "        Together with `load` this serves as a very rudimentary checkpointing.\n",
    "      \"\"\"\n",
    "\n",
    "      if not statistics == None:\n",
    "        with open(path.join(target_path, \"statistics.pkl\"), \"wb\") as f:\n",
    "          pickle.dump(statistics, f)\n",
    "          f.close()\n",
    "        \n",
    "\n",
    "      self.model.save(path.join(target_path, \"model.tf\"))\n",
    "      self.target_model.save(path.join(target_path, \"target_model.tf\"))\n",
    "\n",
    "      model = self.model\n",
    "      target_model = self.target_model\n",
    "\n",
    "\n",
    "      self.model = None\n",
    "      self.target_model = None\n",
    "\n",
    "      with open(path.join(target_path, \"agent.pkl\"), \"wb\") as f:\n",
    "          pickle.dump(self, f)\n",
    "          f.close()\n",
    "\n",
    "      self.model = model\n",
    "      self.target_model = target_model\n",
    "\n",
    "      \n",
    "    @classmethod\n",
    "    def load(cls, source_path: str) -> \"AbstractDQNAgent\":\n",
    "      \"\"\"\n",
    "        Loads the serialized state of a DQNAgent and returns an instance of it.\n",
    "      \"\"\"\n",
    "\n",
    "      with open(path.join(source_path, \"agent.pkl\"), \"rb\") as f:\n",
    "          agent: AbstractDQNAgent = pickle.load(f)\n",
    "          f.close()\n",
    "\n",
    "      agent.model = tf.keras.models.load_model(path.join(source_path, \"model.tf\"))\n",
    "      agent.target_model = tf.keras.models.load_model(path.join(source_path, \"target_model.tf\"))\n",
    "\n",
    "      return agent\n",
    "\n",
    "    @abstractmethod\n",
    "    def train(self, experience):\n",
    "      raise NotImplementedError\n",
    "\n",
    "    @abstractmethod\n",
    "    def act(self, state):\n",
    "      raise NotImplementedError\n",
    "\n",
    "    @abstractmethod\n",
    "    def _build_model(self) -> Model:\n",
    "      raise NotImplementedError"
   ]
  },
  {
   "attachments": {},
   "cell_type": "markdown",
   "metadata": {},
   "source": [
    "---"
   ]
  },
  {
   "cell_type": "markdown",
   "metadata": {
    "id": "efDYrUf9ZE--"
   },
   "source": [
    "## Deep Q-Learning Network (DQN)"
   ]
  },
  {
   "cell_type": "code",
   "execution_count": 10,
   "metadata": {
    "colab": {
     "base_uri": "https://localhost:8080/"
    },
    "execution": {
     "iopub.execute_input": "2023-01-06T19:49:55.487943Z",
     "iopub.status.busy": "2023-01-06T19:49:55.487306Z",
     "iopub.status.idle": "2023-01-06T19:49:55.807979Z",
     "shell.execute_reply": "2023-01-06T19:49:55.806905Z",
     "shell.execute_reply.started": "2023-01-06T19:49:55.487912Z"
    },
    "id": "qADJ-_MoZE--",
    "outputId": "1bd87456-97fa-4795-fa7b-0dd1272ad3c8"
   },
   "outputs": [
    {
     "name": "stdout",
     "output_type": "stream",
     "text": [
      "NoopResetEnv (max 30) wrapper is used.\n",
      "MaxAndSkipEnv (skip 4) wrapper is used.\n",
      "EpisodicLifeEnv wrapper is used.\n",
      "FireResetEnv wrapper is used.\n",
      "ClipRewardEnv wrapper is used.\n",
      "FrameStack (4) wrapper is used.\n"
     ]
    }
   ],
   "source": [
    "env = make_atari(\"VideoPinball-v4\")\n",
    "env = wrap_deepmind(env, frame_stack=True) # maps frames to 84x84x4"
   ]
  },
  {
   "attachments": {},
   "cell_type": "markdown",
   "metadata": {
    "id": "G5v-6xVSZE--"
   },
   "source": [
    "### Create the DQNAgent"
   ]
  },
  {
   "cell_type": "markdown",
   "metadata": {
    "id": "yO2DzOVAZE-_"
   },
   "source": [
    "Take the given `AbstractDQNAgent` (previously called `DQNAgent`) and add missing methods."
   ]
  },
  {
   "cell_type": "code",
   "execution_count": 11,
   "metadata": {
    "execution": {
     "iopub.execute_input": "2023-01-06T19:49:55.809779Z",
     "iopub.status.busy": "2023-01-06T19:49:55.809506Z",
     "iopub.status.idle": "2023-01-06T19:49:55.830618Z",
     "shell.execute_reply": "2023-01-06T19:49:55.829246Z",
     "shell.execute_reply.started": "2023-01-06T19:49:55.809754Z"
    },
    "id": "I9nQIr7xZE-_"
   },
   "outputs": [],
   "source": [
    "class DQNAgent(AbstractDQNAgent):\n",
    "    def _build_model(self) -> Model:\n",
    "        \"\"\"Deep Q-network as defined in the DeepMind article on Nature\n",
    "        \n",
    "        Returns:\n",
    "            Model: Tensorflow Model which will be used as internal deep neural network\n",
    "        \"\"\"\n",
    "\n",
    "        atari_shape = (84, 84, 4)\n",
    "\n",
    "        # Frames from the observation\n",
    "        frames_input = Input(atari_shape, name=\"frames\")\n",
    "\n",
    "        # Actions as input\n",
    "        action_mask = Input((self.action_size,), name=\"action_mask\")\n",
    "\n",
    "        # Normalize the frames from [0, 255] to [0, 1]\n",
    "        normalized = Lambda(lambda x: x / 255.0, name=\"normalization\")(frames_input)\n",
    "\n",
    "        # \"The first hidden layer convolves 16 8×8 filters with stride 4 with the \n",
    "        # input image and applies a rectifier nonlinearity.\"\n",
    "        # Results in an output shape of (20, 20, 16)\n",
    "        conv1 = Conv2D(\n",
    "            filters=32,\n",
    "            kernel_size=(8, 8),\n",
    "            strides=(4, 4),\n",
    "            activation=\"relu\"\n",
    "        )(normalized)\n",
    "\n",
    "        # \"The second hidden layer convolves 32 4×4 filters with stride 2, again followed \n",
    "        # by a rectifier nonlinearity.\" \n",
    "        # Results in an output shape of (9, 9, 32)\n",
    "        conv2 = Conv2D(\n",
    "            filters=64,\n",
    "            kernel_size=(4,4),\n",
    "            strides=(2,2),\n",
    "            activation=\"relu\"\n",
    "        )(conv1)\n",
    "\n",
    "        conv3 = Conv2D(\n",
    "            filters=64,\n",
    "            kernel_size=(4,4),\n",
    "            strides=(1,1),\n",
    "            activation=\"relu\"\n",
    "        )(conv2)\n",
    "\n",
    "        # Flattening the last convolutional layer.\n",
    "        conv_flattened = Flatten()(conv3)\n",
    "\n",
    "        # \"The final hidden layer is fully-connected and consists of 256 rectifier units.\"\n",
    "        hidden = Dense(units=512, activation='relu')(conv_flattened)\n",
    "\n",
    "        # \"The output layer is a fully-connected linear layer with a single output \n",
    "        # for each valid action.\"\n",
    "        output = Dense(self.action_size)(hidden)\n",
    "\n",
    "        # Multiply the output with the action mask to get only one action output\n",
    "        filtered_output = multiply([output, action_mask])\n",
    "\n",
    "        model = Model(inputs=[frames_input, action_mask], outputs=filtered_output)\n",
    "        model.compile(loss=Huber(), optimizer=Adam(learning_rate=self.alpha), metrics=None)\n",
    "\n",
    "        return model\n",
    "\n",
    "\n",
    "    def act(self, state: LazyFrames) -> int:\n",
    "        \"\"\"Selects the action to be executed based on the given state.\n",
    "\n",
    "        Implements epsilon greedy exploration strategy, i.e. with a probability of\n",
    "        epsilon, a random action is selected.\n",
    "\n",
    "        Args:\n",
    "            state [LazyFrames]: LazyFrames object representing the state based on 4 stacked observations (images)\n",
    "\n",
    "        Returns:\n",
    "            action [int]\n",
    "        \"\"\"\n",
    "\n",
    "        if np.random.rand() <= self.epsilon:\n",
    "            action = env.action_space.sample()\n",
    "        else:\n",
    "            # ! TODO self.model.predict oder self.target_model.predict?\n",
    "            #print(state)\n",
    "            #q_values = self.model.predict([[np.array(state)], self.action_mask])\n",
    "            q_values = self.model.predict([np.array([state]), self.action_mask], verbose=0)\n",
    "        \n",
    "            action = np.argmax(q_values)\n",
    "        return action\n",
    "\n",
    "        \n",
    "    def train(self, experience: Tuple[LazyFrames, int, LazyFrames, float, bool]):\n",
    "        \"\"\"Stores the experience in memory. If memory is full trains network by replay.\n",
    "\n",
    "        Args:\n",
    "            experience [tuple]: Tuple of state, action, next state, reward, done.\n",
    "\n",
    "        Returns:\n",
    "            None\n",
    "        \"\"\"\n",
    "        \n",
    "        self.memory.append(experience)\n",
    "        \n",
    "        #  - Update epsilon as long as it is not minimal\n",
    "        #  - Update weights of the target model (syn of the two models)\n",
    "        #  - Execute replay\n",
    "        if self.step >= self.start_replay_step:\n",
    "            if self.epsilon > self.epsilon_min:\n",
    "                self.epsilon -= self.epsilon_decay\n",
    "            if self.step % self.target_model_update_interval == 0:\n",
    "                self.target_model.set_weights(self.model.get_weights())\n",
    "            if self.step % self.train_freq == 0:\n",
    "                self._replay()\n",
    "\n",
    "        self.step += 1\n",
    "\n",
    "\n",
    "    def _replay(self) -> None:\n",
    "        \"\"\"Gets random experiences from memory for batch update of Q-function.\n",
    "\n",
    "        Returns:\n",
    "            None\n",
    "        \"\"\"\n",
    "\n",
    "        states, actions, next_states, rewards, dones = [np.array(memory) for memory in zip(*sample(self.memory, self.batch_size))]\n",
    "\n",
    "        # ! Can be left out if useless\n",
    "        assert all(isinstance(x, np.ndarray) for x in (states, actions, rewards, next_states, dones)), \\\n",
    "            \"All experience batches should be of type np.ndarray.\"\n",
    "        assert states.shape == (self.batch_size, 84, 84, 4), \\\n",
    "            f\"States shape should be: {(self.batch_size, 84, 84, 4)}\"\n",
    "        assert actions.shape == (self.batch_size,), f\"Actions shape should be: {(self.batch_size,)}\"\n",
    "        assert rewards.shape == (self.batch_size,), f\"Rewards shape should be: {(self.batch_size,)}\"\n",
    "        assert next_states.shape == (self.batch_size, 84, 84, 4), \\\n",
    "            f\"Next states shape should be: {(self.batch_size, 84, 84, 4)}\"\n",
    "        assert dones.shape == (self.batch_size,), f\"Dones shape should be: {(self.batch_size,)}\"\n",
    "\n",
    "        # Predict the Q values of the next states. Passing ones as the action mask.\n",
    "        next_q_values = self.target_model.predict([next_states, self.action_mask_batch], verbose=0)\n",
    "\n",
    "        # Calculate the Q values.\n",
    "        # - Terminal states get the reward\n",
    "        # - Non-terminal states get reward + gamma * max next_state q_value\n",
    "        q_values = [reward + (1 - done) * self.gamma * np.max(next_q_value) for done, reward, next_q_value in zip(dones, rewards, next_q_values)]\n",
    "\n",
    "        # Create a one hot encoding of the actions (the selected action is 1 all others 0)\n",
    "        one_hot_actions = to_categorical(actions, num_classes=self.action_size)\n",
    "\n",
    "        # Create the target Q values based on the one hot encoding of the actions and the calculated Q values\n",
    "        # This can be seen as matrix multiplication\n",
    "        # q_values = [0.5, 0.7, 0.9]\n",
    "        # actions [[1. 0. 0. 0.]\n",
    "        #          [0. 0. 1. 0.]\n",
    "        #          [0. 0. 0. 1.]]\n",
    "        # output  [[0.5 0.  0.   0. ]\n",
    "        #          [0.  0.  0.7  0. ]\n",
    "        #          [0.  0.  0.9  0. ]]\n",
    "        target_q_values = np.array(q_values)[np.newaxis].T * one_hot_actions\n",
    "\n",
    "        # Fit the model with the given states and the selected actions as one hot vector and the target_q_values as y\n",
    "        self.model.fit(\n",
    "           x=[states, one_hot_actions],  # states and mask\n",
    "           y=target_q_values,  # target Q values\n",
    "           batch_size=self.batch_size,\n",
    "           verbose=0\n",
    "        )\n",
    "        \n"
   ]
  },
  {
   "attachments": {},
   "cell_type": "markdown",
   "metadata": {},
   "source": [
    "### Interact with enviroment"
   ]
  },
  {
   "attachments": {},
   "cell_type": "markdown",
   "metadata": {},
   "source": [
    "Create method for interaction of the Agent with the env."
   ]
  },
  {
   "cell_type": "code",
   "execution_count": 12,
   "metadata": {
    "execution": {
     "iopub.execute_input": "2023-01-06T19:49:55.833024Z",
     "iopub.status.busy": "2023-01-06T19:49:55.832535Z",
     "iopub.status.idle": "2023-01-06T19:49:55.845710Z",
     "shell.execute_reply": "2023-01-06T19:49:55.844763Z",
     "shell.execute_reply.started": "2023-01-06T19:49:55.832996Z"
    },
    "id": "nkMxNKmAZE_A"
   },
   "outputs": [],
   "source": [
    "def interact_with_environment(env, agent, n_episodes=600, episode_offset=0, max_steps=1000000, train=True, verbose=True, print_mod=10, save_interval=500, statistics=[]):      \n",
    "\n",
    "    # tb_logger = TensorBoardLogger(f'./logs/run-{datetime.now().strftime(\"%Y-%m-%d_%H:%M:%S\")}')\n",
    "    with suppress(KeyboardInterrupt):\n",
    "        total_step = 0\n",
    "        for episode in range(episode_offset, episode_offset + n_episodes):\n",
    "            done = False\n",
    "            episode_reward = 0\n",
    "            state = env.reset()\n",
    "            episode_start_time = time.time()\n",
    "            episode_step = 0\n",
    "\n",
    "            while not done:\n",
    "                action = agent.act(state)\n",
    "                next_state, reward, done, _ = env.step(action)\n",
    "\n",
    "                if train:\n",
    "                    agent.train((state, action, next_state, reward, done))\n",
    "\n",
    "                #if episode == 0:\n",
    "                    # for debug purpose log every state of first episode\n",
    "                    #for obs in state:\n",
    "                        #tb_logger.log_image(f'state_t{episode_step}:', tf_summary_image(np.array(obs, copy=False)),\n",
    "                        #                    global_step=total_step)                 \n",
    "                state = next_state\n",
    "                episode_reward += reward\n",
    "                episode_step += 1\n",
    "            \n",
    "            total_step += episode_step\n",
    "\n",
    "            if episode % print_mod == 0:\n",
    "                speed = episode_step / (time.time() - episode_start_time)\n",
    "                # tb_logger.log_scalar('score', episode_reward, global_step=total_step)\n",
    "                # tb_logger.log_scalar('epsilon', agent.epsilon, global_step=total_step)\n",
    "                # tb_logger.log_scalar('speed', speed, global_step=total_step)\n",
    "                if verbose:\n",
    "                    print(f'episode: {episode}/{episode_offset + n_episodes}, score: {episode_reward}, steps: {episode_step}, '\n",
    "                          f'total steps: {total_step}, e: {agent.epsilon:.3f}, speed: {speed:.2f} steps/s, time: {datetime.now()}')\n",
    "            if episode % save_interval == 0:\n",
    "                print(\"try saving!\")\n",
    "                savePath = \"./saved_model/\" + str(episode) + \"/\"\n",
    "\n",
    "                # creating new folder\n",
    "                if not path.exists(savePath):\n",
    "                    makedirs(savePath)\n",
    "                # saving to path\n",
    "                agent.save(savePath, statistics)\n",
    "                print(\"Saving success!\")\n",
    "\n",
    "            statistics.append({\n",
    "                'episode': episode,\n",
    "                'score': episode_reward,\n",
    "                'steps': episode_step\n",
    "            })\n",
    "            \n",
    "            if total_step >= max_steps:\n",
    "                break\n",
    "        \n",
    "    return statistics\n"
   ]
  },
  {
   "attachments": {},
   "cell_type": "markdown",
   "metadata": {},
   "source": [
    "## Initial Training"
   ]
  },
  {
   "attachments": {},
   "cell_type": "markdown",
   "metadata": {},
   "source": [
    "### Define variables"
   ]
  },
  {
   "cell_type": "code",
   "execution_count": 13,
   "metadata": {
    "colab": {
     "base_uri": "https://localhost:8080/"
    },
    "execution": {
     "iopub.execute_input": "2023-01-06T19:49:55.847843Z",
     "iopub.status.busy": "2023-01-06T19:49:55.847536Z",
     "iopub.status.idle": "2023-01-06T23:22:55.177375Z",
     "shell.execute_reply": "2023-01-06T23:22:55.176328Z",
     "shell.execute_reply.started": "2023-01-06T19:49:55.847816Z"
    },
    "id": "Ae5vkyyHZE_A",
    "outputId": "165e0373-e37a-4b60-dcc8-678d83f9b16e"
   },
   "outputs": [
    {
     "name": "stderr",
     "output_type": "stream",
     "text": [
      "2023-01-12 11:12:56.382068: I tensorflow/core/platform/cpu_feature_guard.cc:193] This TensorFlow binary is optimized with oneAPI Deep Neural Network Library (oneDNN) to use the following CPU instructions in performance-critical operations:  AVX2 FMA\n",
      "To enable them in other operations, rebuild TensorFlow with the appropriate compiler flags.\n",
      "2023-01-12 11:12:56.422119: I tensorflow/compiler/xla/stream_executor/cuda/cuda_gpu_executor.cc:981] successful NUMA node read from SysFS had negative value (-1), but there must be at least one NUMA node, so returning NUMA node zero\n",
      "2023-01-12 11:12:56.425826: I tensorflow/compiler/xla/stream_executor/cuda/cuda_gpu_executor.cc:981] successful NUMA node read from SysFS had negative value (-1), but there must be at least one NUMA node, so returning NUMA node zero\n",
      "2023-01-12 11:12:56.426196: I tensorflow/compiler/xla/stream_executor/cuda/cuda_gpu_executor.cc:981] successful NUMA node read from SysFS had negative value (-1), but there must be at least one NUMA node, so returning NUMA node zero\n",
      "2023-01-12 11:12:56.789025: I tensorflow/compiler/xla/stream_executor/cuda/cuda_gpu_executor.cc:981] successful NUMA node read from SysFS had negative value (-1), but there must be at least one NUMA node, so returning NUMA node zero\n",
      "2023-01-12 11:12:56.789372: I tensorflow/compiler/xla/stream_executor/cuda/cuda_gpu_executor.cc:981] successful NUMA node read from SysFS had negative value (-1), but there must be at least one NUMA node, so returning NUMA node zero\n",
      "2023-01-12 11:12:56.789673: I tensorflow/compiler/xla/stream_executor/cuda/cuda_gpu_executor.cc:981] successful NUMA node read from SysFS had negative value (-1), but there must be at least one NUMA node, so returning NUMA node zero\n",
      "2023-01-12 11:12:56.789959: I tensorflow/core/common_runtime/gpu/gpu_device.cc:1613] Created device /job:localhost/replica:0/task:0/device:GPU:0 with 4722 MB memory:  -> device: 0, name: NVIDIA GeForce RTX 3070, pci bus id: 0000:2d:00.0, compute capability: 8.6\n",
      "2023-01-12 11:12:56.879555: I tensorflow/compiler/xla/stream_executor/cuda/cuda_gpu_executor.cc:981] successful NUMA node read from SysFS had negative value (-1), but there must be at least one NUMA node, so returning NUMA node zero\n",
      "2023-01-12 11:12:56.879930: I tensorflow/compiler/xla/stream_executor/cuda/cuda_gpu_executor.cc:981] successful NUMA node read from SysFS had negative value (-1), but there must be at least one NUMA node, so returning NUMA node zero\n",
      "2023-01-12 11:12:56.880222: I tensorflow/compiler/xla/stream_executor/cuda/cuda_gpu_executor.cc:981] successful NUMA node read from SysFS had negative value (-1), but there must be at least one NUMA node, so returning NUMA node zero\n",
      "2023-01-12 11:12:56.880639: I tensorflow/compiler/xla/stream_executor/cuda/cuda_gpu_executor.cc:981] successful NUMA node read from SysFS had negative value (-1), but there must be at least one NUMA node, so returning NUMA node zero\n",
      "2023-01-12 11:12:56.880941: I tensorflow/compiler/xla/stream_executor/cuda/cuda_gpu_executor.cc:981] successful NUMA node read from SysFS had negative value (-1), but there must be at least one NUMA node, so returning NUMA node zero\n",
      "2023-01-12 11:12:56.881232: I tensorflow/compiler/xla/stream_executor/cuda/cuda_gpu_executor.cc:981] successful NUMA node read from SysFS had negative value (-1), but there must be at least one NUMA node, so returning NUMA node zero\n",
      "2023-01-12 11:12:56.881561: I tensorflow/compiler/xla/stream_executor/cuda/cuda_gpu_executor.cc:981] successful NUMA node read from SysFS had negative value (-1), but there must be at least one NUMA node, so returning NUMA node zero\n",
      "2023-01-12 11:12:56.881854: I tensorflow/compiler/xla/stream_executor/cuda/cuda_gpu_executor.cc:981] successful NUMA node read from SysFS had negative value (-1), but there must be at least one NUMA node, so returning NUMA node zero\n",
      "2023-01-12 11:12:56.882120: I tensorflow/core/common_runtime/gpu/gpu_device.cc:1613] Created device /job:localhost/replica:0/task:0/device:GPU:0 with 4722 MB memory:  -> device: 0, name: NVIDIA GeForce RTX 3070, pci bus id: 0000:2d:00.0, compute capability: 8.6\n"
     ]
    }
   ],
   "source": [
    "# init train\n",
    "\n",
    "action_size = env.action_space.n\n",
    "state_size = env.observation_space.shape[0]\n",
    "\n",
    "annealing_steps = 1000000  # not episodes!\n",
    "gamma = 0.99\n",
    "epsilon = 1.0\n",
    "epsilon_min = 0.01\n",
    "epsilon_decay = 0.000004\n",
    "alpha = 0.0001\n",
    "batch_size = 64\n",
    "memory_size = 80000\n",
    "start_replay_step = 10000\n",
    "target_model_update_interval = 1000\n",
    "train_freq = 8\n",
    "\n",
    "\n",
    "\n",
    "agent = DQNAgent(action_size=action_size, state_size=state_size, gamma=gamma, \n",
    "                 epsilon=epsilon, epsilon_decay=epsilon_decay, epsilon_min=epsilon_min, \n",
    "                 alpha=alpha, batch_size=batch_size, memory_size=memory_size,\n",
    "                 start_replay_step=start_replay_step, \n",
    "                 target_model_update_interval=target_model_update_interval, train_freq=train_freq)\n",
    "\n"
   ]
  },
  {
   "cell_type": "code",
   "execution_count": 14,
   "metadata": {},
   "outputs": [],
   "source": [
    "# Hyperparams (should be sufficient)\n",
    "episodes = 20000\n",
    "save_interval = 500 # define the save interval (500 = every 500th episode will be saved)"
   ]
  },
  {
   "attachments": {},
   "cell_type": "markdown",
   "metadata": {},
   "source": [
    "### Start training"
   ]
  },
  {
   "cell_type": "code",
   "execution_count": 14,
   "metadata": {},
   "outputs": [],
   "source": [
    "# start training\n",
    "statistics = interact_with_environment(env, agent, n_episodes=episodes, verbose=True, print_mod=100, save_interval=save_interval)\n",
    "env.close()\n",
    "\n",
    "# plot trainig statistics\n",
    "plot_statistics(statistics)"
   ]
  },
  {
   "attachments": {},
   "cell_type": "markdown",
   "metadata": {},
   "source": [
    "---"
   ]
  },
  {
   "attachments": {},
   "cell_type": "markdown",
   "metadata": {},
   "source": [
    "## Continue training "
   ]
  },
  {
   "attachments": {},
   "cell_type": "markdown",
   "metadata": {},
   "source": [
    "### Load Model"
   ]
  },
  {
   "cell_type": "code",
   "execution_count": 10,
   "metadata": {},
   "outputs": [],
   "source": [
    "loadPath = \"./saved_model-Mem80k/2100/\"\n",
    "\n",
    "agent = DQNAgent.load(loadPath)\n",
    "\n",
    "# load stats\n",
    "with open(path.join(loadPath, \"statistics.pkl\"), \"rb\") as f:\n",
    "    global statistics\n",
    "    statistics:list\n",
    "    statistics = pickle.load(f)\n",
    "    f.close()"
   ]
  },
  {
   "cell_type": "code",
   "execution_count": 11,
   "metadata": {},
   "outputs": [
    {
     "data": {
      "image/png": "[encoded data removed]",
      "text/plain": [
       "<Figure size 640x480 with 1 Axes>"
      ]
     },
     "metadata": {},
     "output_type": "display_data"
    }
   ],
   "source": [
    "# Display current training statistics\n",
    "plot_statistics(statistics)"
   ]
  },
  {
   "attachments": {},
   "cell_type": "markdown",
   "metadata": {},
   "source": [
    "### Train"
   ]
  },
  {
   "cell_type": "code",
   "execution_count": 18,
   "metadata": {},
   "outputs": [
    {
     "name": "stderr",
     "output_type": "stream",
     "text": [
      "2023-01-10 16:51:06.038554: I tensorflow/compiler/xla/stream_executor/cuda/cuda_dnn.cc:428] Loaded cuDNN version 8100\n",
      "2023-01-10 16:51:06.512151: I tensorflow/tsl/platform/default/subprocess.cc:304] Start cannot spawn child process: No such file or directory\n",
      "2023-01-10 16:51:06.994518: I tensorflow/compiler/xla/stream_executor/cuda/cuda_blas.cc:630] TensorFloat-32 will be used for the matrix multiplication. This will only be logged once.\n"
     ]
    },
    {
     "name": "stdout",
     "output_type": "stream",
     "text": [
      "episode: 2100/3100, score: 17.0, steps: 114, total steps: 114, e: 0.010, speed: 14.91 steps/s, time: 2023-01-10 16:51:13.138051\n",
      "try saving!\n",
      "Saving success!\n",
      "episode: 2101/3100, score: 22.0, steps: 165, total steps: 279, e: 0.010, speed: 20.13 steps/s, time: 2023-01-10 16:51:24.982365\n",
      "episode: 2102/3100, score: 10.0, steps: 74, total steps: 353, e: 0.010, speed: 20.55 steps/s, time: 2023-01-10 16:51:28.594138\n",
      "episode: 2103/3100, score: 34.0, steps: 303, total steps: 656, e: 0.010, speed: 20.07 steps/s, time: 2023-01-10 16:51:43.713066\n",
      "episode: 2104/3100, score: 114.0, steps: 810, total steps: 1466, e: 0.010, speed: 19.96 steps/s, time: 2023-01-10 16:52:24.294843\n",
      "episode: 2105/3100, score: 25.0, steps: 336, total steps: 1802, e: 0.010, speed: 20.61 steps/s, time: 2023-01-10 16:52:40.606016\n",
      "episode: 2106/3100, score: 7.0, steps: 42, total steps: 1844, e: 0.010, speed: 21.27 steps/s, time: 2023-01-10 16:52:42.604859\n",
      "episode: 2107/3100, score: 17.0, steps: 111, total steps: 1955, e: 0.010, speed: 20.38 steps/s, time: 2023-01-10 16:52:48.057337\n",
      "episode: 2108/3100, score: 21.0, steps: 191, total steps: 2146, e: 0.010, speed: 18.43 steps/s, time: 2023-01-10 16:52:58.428420\n",
      "episode: 2109/3100, score: 103.0, steps: 639, total steps: 2785, e: 0.010, speed: 20.48 steps/s, time: 2023-01-10 16:53:29.657248\n",
      "episode: 2110/3100, score: 17.0, steps: 162, total steps: 2947, e: 0.010, speed: 18.05 steps/s, time: 2023-01-10 16:53:38.639496\n",
      "episode: 2111/3100, score: 19.0, steps: 83, total steps: 3030, e: 0.010, speed: 19.95 steps/s, time: 2023-01-10 16:53:42.807443\n",
      "episode: 2112/3100, score: 2.0, steps: 36, total steps: 3066, e: 0.010, speed: 20.18 steps/s, time: 2023-01-10 16:53:44.608953\n",
      "episode: 2113/3100, score: 1.0, steps: 42, total steps: 3108, e: 0.010, speed: 20.52 steps/s, time: 2023-01-10 16:53:46.663776\n",
      "episode: 2114/3100, score: 17.0, steps: 182, total steps: 3290, e: 0.010, speed: 20.70 steps/s, time: 2023-01-10 16:53:55.462291\n",
      "episode: 2115/3100, score: 26.0, steps: 206, total steps: 3496, e: 0.010, speed: 20.94 steps/s, time: 2023-01-10 16:54:05.318145\n",
      "episode: 2116/3100, score: 0.0, steps: 53, total steps: 3549, e: 0.010, speed: 20.91 steps/s, time: 2023-01-10 16:54:07.864108\n",
      "episode: 2117/3100, score: 0.0, steps: 19, total steps: 3568, e: 0.010, speed: 21.71 steps/s, time: 2023-01-10 16:54:08.745920\n",
      "episode: 2118/3100, score: 0.0, steps: 131, total steps: 3699, e: 0.010, speed: 18.14 steps/s, time: 2023-01-10 16:54:15.985468\n",
      "episode: 2119/3100, score: 41.0, steps: 407, total steps: 4106, e: 0.010, speed: 20.23 steps/s, time: 2023-01-10 16:54:36.113016\n",
      "episode: 2120/3100, score: 0.0, steps: 60, total steps: 4166, e: 0.010, speed: 20.46 steps/s, time: 2023-01-10 16:54:39.054682\n",
      "episode: 2121/3100, score: 12.0, steps: 77, total steps: 4243, e: 0.010, speed: 20.14 steps/s, time: 2023-01-10 16:54:42.910639\n",
      "episode: 2122/3100, score: 88.0, steps: 504, total steps: 4747, e: 0.010, speed: 19.31 steps/s, time: 2023-01-10 16:55:09.013410\n",
      "episode: 2123/3100, score: 25.0, steps: 142, total steps: 4889, e: 0.010, speed: 20.26 steps/s, time: 2023-01-10 16:55:16.032593\n",
      "episode: 2124/3100, score: 0.0, steps: 117, total steps: 5006, e: 0.010, speed: 20.43 steps/s, time: 2023-01-10 16:55:21.766213\n",
      "episode: 2125/3100, score: 6.0, steps: 55, total steps: 5061, e: 0.010, speed: 20.23 steps/s, time: 2023-01-10 16:55:24.518521\n",
      "episode: 2126/3100, score: 2.0, steps: 19, total steps: 5080, e: 0.010, speed: 21.13 steps/s, time: 2023-01-10 16:55:25.425937\n",
      "episode: 2127/3100, score: 30.0, steps: 243, total steps: 5323, e: 0.010, speed: 18.83 steps/s, time: 2023-01-10 16:55:38.338232\n",
      "episode: 2128/3100, score: 28.0, steps: 118, total steps: 5441, e: 0.010, speed: 20.33 steps/s, time: 2023-01-10 16:55:44.159648\n",
      "episode: 2129/3100, score: 12.0, steps: 204, total steps: 5645, e: 0.010, speed: 20.51 steps/s, time: 2023-01-10 16:55:54.111649\n",
      "episode: 2130/3100, score: 5.0, steps: 41, total steps: 5686, e: 0.010, speed: 20.43 steps/s, time: 2023-01-10 16:55:56.125644\n",
      "episode: 2131/3100, score: 0.0, steps: 182, total steps: 5868, e: 0.010, speed: 20.21 steps/s, time: 2023-01-10 16:56:05.153400\n",
      "episode: 2132/3100, score: 1.0, steps: 108, total steps: 5976, e: 0.010, speed: 20.42 steps/s, time: 2023-01-10 16:56:10.447500\n",
      "episode: 2133/3100, score: 6.0, steps: 49, total steps: 6025, e: 0.010, speed: 20.52 steps/s, time: 2023-01-10 16:56:12.842853\n",
      "episode: 2134/3100, score: 23.0, steps: 146, total steps: 6171, e: 0.010, speed: 17.54 steps/s, time: 2023-01-10 16:56:21.200428\n",
      "episode: 2135/3100, score: 33.0, steps: 256, total steps: 6427, e: 0.010, speed: 20.47 steps/s, time: 2023-01-10 16:56:33.711870\n",
      "episode: 2136/3100, score: 60.0, steps: 349, total steps: 6776, e: 0.010, speed: 20.54 steps/s, time: 2023-01-10 16:56:50.710600\n",
      "episode: 2137/3100, score: 53.0, steps: 299, total steps: 7075, e: 0.010, speed: 18.97 steps/s, time: 2023-01-10 16:57:06.492517\n",
      "episode: 2138/3100, score: 47.0, steps: 379, total steps: 7454, e: 0.010, speed: 20.60 steps/s, time: 2023-01-10 16:57:24.894825\n",
      "episode: 2139/3100, score: 26.0, steps: 305, total steps: 7759, e: 0.010, speed: 19.25 steps/s, time: 2023-01-10 16:57:40.747372\n",
      "episode: 2140/3100, score: 28.0, steps: 262, total steps: 8021, e: 0.010, speed: 20.14 steps/s, time: 2023-01-10 16:57:53.776079\n",
      "episode: 2141/3100, score: 52.0, steps: 273, total steps: 8294, e: 0.010, speed: 20.74 steps/s, time: 2023-01-10 16:58:06.945631\n",
      "episode: 2142/3100, score: 18.0, steps: 133, total steps: 8427, e: 0.010, speed: 20.13 steps/s, time: 2023-01-10 16:58:13.561843\n",
      "episode: 2143/3100, score: 9.0, steps: 103, total steps: 8530, e: 0.010, speed: 17.29 steps/s, time: 2023-01-10 16:58:19.540869\n",
      "episode: 2144/3100, score: 49.0, steps: 360, total steps: 8890, e: 0.010, speed: 20.12 steps/s, time: 2023-01-10 16:58:37.442790\n",
      "episode: 2145/3100, score: 11.0, steps: 146, total steps: 9036, e: 0.010, speed: 20.55 steps/s, time: 2023-01-10 16:58:44.557709\n",
      "episode: 2146/3100, score: 20.0, steps: 177, total steps: 9213, e: 0.010, speed: 20.20 steps/s, time: 2023-01-10 16:58:53.347361\n",
      "episode: 2147/3100, score: 0.0, steps: 31, total steps: 9244, e: 0.010, speed: 20.29 steps/s, time: 2023-01-10 16:58:54.882827\n",
      "episode: 2148/3100, score: 31.0, steps: 471, total steps: 9715, e: 0.010, speed: 19.63 steps/s, time: 2023-01-10 16:59:18.879228\n",
      "episode: 2149/3100, score: 34.0, steps: 332, total steps: 10047, e: 0.010, speed: 20.52 steps/s, time: 2023-01-10 16:59:35.075116\n",
      "episode: 2150/3100, score: 3.0, steps: 54, total steps: 10101, e: 0.010, speed: 17.31 steps/s, time: 2023-01-10 16:59:38.201498\n",
      "episode: 2151/3100, score: 18.0, steps: 126, total steps: 10227, e: 0.010, speed: 18.91 steps/s, time: 2023-01-10 16:59:44.873216\n",
      "episode: 2152/3100, score: 12.0, steps: 94, total steps: 10321, e: 0.010, speed: 20.56 steps/s, time: 2023-01-10 16:59:49.476963\n",
      "episode: 2153/3100, score: 64.0, steps: 441, total steps: 10762, e: 0.010, speed: 20.38 steps/s, time: 2023-01-10 17:00:11.127176\n",
      "episode: 2154/3100, score: 11.0, steps: 265, total steps: 11027, e: 0.010, speed: 18.82 steps/s, time: 2023-01-10 17:00:25.212789\n",
      "episode: 2155/3100, score: 9.0, steps: 210, total steps: 11237, e: 0.010, speed: 20.53 steps/s, time: 2023-01-10 17:00:35.460720\n",
      "episode: 2156/3100, score: 6.0, steps: 62, total steps: 11299, e: 0.010, speed: 20.15 steps/s, time: 2023-01-10 17:00:38.545995\n",
      "episode: 2157/3100, score: 7.0, steps: 98, total steps: 11397, e: 0.010, speed: 20.71 steps/s, time: 2023-01-10 17:00:43.284404\n",
      "episode: 2158/3100, score: 0.0, steps: 21, total steps: 11418, e: 0.010, speed: 19.39 steps/s, time: 2023-01-10 17:00:44.388277\n",
      "episode: 2159/3100, score: 0.0, steps: 145, total steps: 11563, e: 0.010, speed: 20.50 steps/s, time: 2023-01-10 17:00:51.469422\n",
      "episode: 2160/3100, score: 29.0, steps: 206, total steps: 11769, e: 0.010, speed: 19.00 steps/s, time: 2023-01-10 17:01:02.317965\n",
      "episode: 2161/3100, score: 34.0, steps: 487, total steps: 12256, e: 0.010, speed: 20.33 steps/s, time: 2023-01-10 17:01:26.297860\n",
      "episode: 2162/3100, score: 4.0, steps: 98, total steps: 12354, e: 0.010, speed: 20.21 steps/s, time: 2023-01-10 17:01:31.154631\n",
      "episode: 2163/3100, score: 52.0, steps: 515, total steps: 12869, e: 0.010, speed: 19.67 steps/s, time: 2023-01-10 17:01:57.341467\n",
      "episode: 2164/3100, score: 12.0, steps: 60, total steps: 12929, e: 0.010, speed: 21.27 steps/s, time: 2023-01-10 17:02:00.193780\n",
      "episode: 2165/3100, score: 33.0, steps: 189, total steps: 13118, e: 0.010, speed: 20.48 steps/s, time: 2023-01-10 17:02:09.428429\n",
      "episode: 2166/3100, score: 29.0, steps: 224, total steps: 13342, e: 0.010, speed: 19.26 steps/s, time: 2023-01-10 17:02:21.067100\n",
      "episode: 2167/3100, score: 17.0, steps: 188, total steps: 13530, e: 0.010, speed: 19.58 steps/s, time: 2023-01-10 17:02:30.694493\n",
      "episode: 2168/3100, score: 7.0, steps: 208, total steps: 13738, e: 0.010, speed: 20.55 steps/s, time: 2023-01-10 17:02:40.830923\n",
      "episode: 2169/3100, score: 25.0, steps: 132, total steps: 13870, e: 0.010, speed: 20.46 steps/s, time: 2023-01-10 17:02:47.288280\n",
      "episode: 2170/3100, score: 76.0, steps: 465, total steps: 14335, e: 0.010, speed: 19.60 steps/s, time: 2023-01-10 17:03:11.032057\n",
      "episode: 2171/3100, score: 5.0, steps: 102, total steps: 14437, e: 0.010, speed: 20.09 steps/s, time: 2023-01-10 17:03:16.117335\n",
      "episode: 2172/3100, score: 16.0, steps: 96, total steps: 14533, e: 0.010, speed: 20.56 steps/s, time: 2023-01-10 17:03:20.793407\n",
      "episode: 2173/3100, score: 9.0, steps: 182, total steps: 14715, e: 0.010, speed: 20.37 steps/s, time: 2023-01-10 17:03:29.751409\n",
      "episode: 2174/3100, score: 6.0, steps: 36, total steps: 14751, e: 0.010, speed: 20.98 steps/s, time: 2023-01-10 17:03:31.474467\n",
      "episode: 2175/3100, score: 2.0, steps: 133, total steps: 14884, e: 0.010, speed: 20.47 steps/s, time: 2023-01-10 17:03:37.979495\n",
      "episode: 2176/3100, score: 0.0, steps: 188, total steps: 15072, e: 0.010, speed: 18.29 steps/s, time: 2023-01-10 17:03:48.287516\n",
      "episode: 2177/3100, score: 14.0, steps: 79, total steps: 15151, e: 0.010, speed: 20.64 steps/s, time: 2023-01-10 17:03:52.122345\n",
      "episode: 2178/3100, score: 67.0, steps: 349, total steps: 15500, e: 0.010, speed: 20.48 steps/s, time: 2023-01-10 17:04:09.166741\n",
      "episode: 2179/3100, score: 47.0, steps: 294, total steps: 15794, e: 0.010, speed: 19.16 steps/s, time: 2023-01-10 17:04:24.539575\n",
      "episode: 2180/3100, score: 32.0, steps: 424, total steps: 16218, e: 0.010, speed: 20.21 steps/s, time: 2023-01-10 17:04:45.528615\n",
      "episode: 2181/3100, score: 10.0, steps: 72, total steps: 16290, e: 0.010, speed: 20.67 steps/s, time: 2023-01-10 17:04:49.019848\n",
      "episode: 2182/3100, score: 12.0, steps: 106, total steps: 16396, e: 0.010, speed: 20.99 steps/s, time: 2023-01-10 17:04:54.094747\n",
      "episode: 2183/3100, score: 11.0, steps: 60, total steps: 16456, e: 0.010, speed: 21.53 steps/s, time: 2023-01-10 17:04:56.889160\n",
      "episode: 2184/3100, score: 11.0, steps: 192, total steps: 16648, e: 0.010, speed: 18.75 steps/s, time: 2023-01-10 17:05:07.138414\n",
      "episode: 2185/3100, score: 33.0, steps: 226, total steps: 16874, e: 0.010, speed: 20.29 steps/s, time: 2023-01-10 17:05:18.307013\n",
      "episode: 2186/3100, score: 13.0, steps: 93, total steps: 16967, e: 0.010, speed: 20.59 steps/s, time: 2023-01-10 17:05:22.831559\n",
      "episode: 2187/3100, score: 8.0, steps: 42, total steps: 17009, e: 0.010, speed: 19.99 steps/s, time: 2023-01-10 17:05:24.942614\n",
      "episode: 2188/3100, score: 64.0, steps: 411, total steps: 17420, e: 0.010, speed: 19.34 steps/s, time: 2023-01-10 17:05:46.207583\n",
      "episode: 2189/3100, score: 6.0, steps: 102, total steps: 17522, e: 0.010, speed: 19.89 steps/s, time: 2023-01-10 17:05:51.342421\n",
      "episode: 2190/3100, score: 0.0, steps: 110, total steps: 17632, e: 0.010, speed: 20.63 steps/s, time: 2023-01-10 17:05:56.688828\n",
      "episode: 2191/3100, score: 3.0, steps: 119, total steps: 17751, e: 0.010, speed: 20.61 steps/s, time: 2023-01-10 17:06:02.492871\n",
      "episode: 2192/3100, score: 19.0, steps: 191, total steps: 17942, e: 0.010, speed: 20.35 steps/s, time: 2023-01-10 17:06:11.887795\n",
      "episode: 2193/3100, score: 121.0, steps: 913, total steps: 18855, e: 0.010, speed: 20.00 steps/s, time: 2023-01-10 17:06:57.556815\n",
      "episode: 2194/3100, score: 3.0, steps: 36, total steps: 18891, e: 0.010, speed: 19.54 steps/s, time: 2023-01-10 17:06:59.431357\n",
      "episode: 2195/3100, score: 1.0, steps: 128, total steps: 19019, e: 0.010, speed: 18.01 steps/s, time: 2023-01-10 17:07:06.546947\n",
      "episode: 2196/3100, score: 15.0, steps: 117, total steps: 19136, e: 0.010, speed: 19.64 steps/s, time: 2023-01-10 17:07:12.511852\n",
      "episode: 2197/3100, score: 8.0, steps: 71, total steps: 19207, e: 0.010, speed: 20.70 steps/s, time: 2023-01-10 17:07:15.970440\n"
     ]
    },
    {
     "data": {
      "image/png": "[encoded data removed]",
      "text/plain": [
       "<Figure size 640x480 with 1 Axes>"
      ]
     },
     "metadata": {},
     "output_type": "display_data"
    }
   ],
   "source": [
    "# train more\n",
    "\n",
    "# parameter\n",
    "episodes = 1000\n",
    "save_interval = 100\n",
    "episode_offset = statistics[-1][\"episode\"] + 1\n",
    "print_modulo = 1\n",
    "\n",
    "statistics = interact_with_environment(env, agent, n_episodes=episodes, episode_offset=episode_offset, verbose=True, print_mod=print_modulo, save_interval=save_interval, statistics=statistics)\n",
    "env.close()\n"
   ]
  },
  {
   "attachments": {},
   "cell_type": "markdown",
   "metadata": {},
   "source": [
    "---"
   ]
  },
  {
   "attachments": {},
   "cell_type": "markdown",
   "metadata": {},
   "source": [
    "## Results"
   ]
  },
  {
   "attachments": {},
   "cell_type": "markdown",
   "metadata": {},
   "source": [
    "### Load model 3100Eps"
   ]
  },
  {
   "cell_type": "code",
   "execution_count": 14,
   "metadata": {},
   "outputs": [],
   "source": [
    "loadPath = \"./saved_model-Mem80k/3100/\"\n",
    "\n",
    "agent = DQNAgent.load(loadPath)\n",
    "\n",
    "# load stats\n",
    "with open(path.join(loadPath, \"statistics.pkl\"), \"rb\") as f:\n",
    "    global statistics\n",
    "    statistics:list\n",
    "    statistics = pickle.load(f)\n",
    "    f.close()"
   ]
  },
  {
   "attachments": {},
   "cell_type": "markdown",
   "metadata": {},
   "source": [
    "### Test model"
   ]
  },
  {
   "cell_type": "code",
   "execution_count": 15,
   "metadata": {},
   "outputs": [
    {
     "data": {
      "image/png": "[encoded data removed]",
      "text/plain": [
       "<Figure size 640x480 with 1 Axes>"
      ]
     },
     "metadata": {},
     "output_type": "display_data"
    }
   ],
   "source": [
    "plot_statistics(statistics)"
   ]
  },
  {
   "cell_type": "code",
   "execution_count": 16,
   "metadata": {
    "execution": {
     "iopub.execute_input": "2023-01-06T23:22:55.179086Z",
     "iopub.status.busy": "2023-01-06T23:22:55.178786Z",
     "iopub.status.idle": "2023-01-06T23:23:13.894906Z",
     "shell.execute_reply": "2023-01-06T23:23:13.893664Z",
     "shell.execute_reply.started": "2023-01-06T23:22:55.179060Z"
    },
    "id": "kxXdW7Biea4M"
   },
   "outputs": [
    {
     "data": {
      "image/png": "[encoded data removed]",
      "text/plain": [
       "<Figure size 640x480 with 1 Axes>"
      ]
     },
     "metadata": {},
     "output_type": "display_data"
    }
   ],
   "source": [
    "from gym.wrappers.monitoring import video_recorder\n",
    "vid = video_recorder.VideoRecorder(env,path=\"./recordings/vid_3100EPS.mp4\")\n",
    "\n",
    "# let the loaded model play\n",
    "times_to_play = 3\n",
    "\n",
    "for i in range(times_to_play):\n",
    "    state = env.reset()\n",
    "    img = plt.imshow(env.render(mode='rgb_array'))\n",
    "    done = False\n",
    "    while not done:\n",
    "        action = agent.act(state)\n",
    "        img.set_data(env.render(mode='rgb_array'))\n",
    "        vid.capture_frame()\n",
    "        plt.axis('off')\n",
    "        display.display(plt.gcf())\n",
    "        display.clear_output(wait=True)\n",
    "        state, reward, done, _ = env.step(action)\n",
    "    \n",
    "vid.close()\n",
    "env.close()"
   ]
  },
  {
   "attachments": {},
   "cell_type": "markdown",
   "metadata": {},
   "source": [
    "### Load model 0Eps"
   ]
  },
  {
   "cell_type": "code",
   "execution_count": 14,
   "metadata": {},
   "outputs": [],
   "source": [
    "loadPath = \"./saved_model-Mem100k/0/\"\n",
    "\n",
    "agent = DQNAgent.load(loadPath)\n",
    "\n",
    "# load stats\n",
    "with open(path.join(loadPath, \"statistics.pkl\"), \"rb\") as f:\n",
    "    global statistics\n",
    "    statistics:list\n",
    "    statistics = pickle.load(f)\n",
    "    f.close()"
   ]
  },
  {
   "cell_type": "code",
   "execution_count": 16,
   "metadata": {
    "execution": {
     "iopub.execute_input": "2023-01-06T23:22:55.179086Z",
     "iopub.status.busy": "2023-01-06T23:22:55.178786Z",
     "iopub.status.idle": "2023-01-06T23:23:13.894906Z",
     "shell.execute_reply": "2023-01-06T23:23:13.893664Z",
     "shell.execute_reply.started": "2023-01-06T23:22:55.179060Z"
    },
    "id": "kxXdW7Biea4M"
   },
   "outputs": [
    {
     "data": {
      "image/png": "[encoded data removed]",
      "text/plain": [
       "<Figure size 640x480 with 1 Axes>"
      ]
     },
     "metadata": {},
     "output_type": "display_data"
    }
   ],
   "source": [
    "from gym.wrappers.monitoring import video_recorder\n",
    "vid = video_recorder.VideoRecorder(env,path=\"./recordings/vid_0EPS.mp4\")\n",
    "\n",
    "# let the loaded model play\n",
    "times_to_play = 3\n",
    "\n",
    "for i in range(times_to_play):\n",
    "    state = env.reset()\n",
    "    img = plt.imshow(env.render(mode='rgb_array'))\n",
    "    done = False\n",
    "    while not done:\n",
    "        action = agent.act(state)\n",
    "        img.set_data(env.render(mode='rgb_array'))\n",
    "        vid.capture_frame()\n",
    "        plt.axis('off')\n",
    "        display.display(plt.gcf())\n",
    "        display.clear_output(wait=True)\n",
    "        state, reward, done, _ = env.step(action)\n",
    "    \n",
    "vid.close()\n",
    "env.close()"
   ]
  },
  {
   "attachments": {},
   "cell_type": "markdown",
   "metadata": {
    "id": "h5UV7EPfZE_B"
   },
   "source": [
    "---"
   ]
  },
  {
   "cell_type": "markdown",
   "metadata": {},
   "source": []
  }
 ],
 "metadata": {
  "accelerator": "GPU",
  "colab": {
   "provenance": []
  },
  "gpuClass": "standard",
  "kernelspec": {
   "display_name": "devTF",
   "language": "python",
   "name": "python3"
  },
  "language_info": {
   "codemirror_mode": {
    "name": "ipython",
    "version": 3
   },
   "file_extension": ".py",
   "mimetype": "text/x-python",
   "name": "python",
   "nbconvert_exporter": "python",
   "pygments_lexer": "ipython3",
   "version": "3.9.15"
  },
  "vscode": {
   "interpreter": {
    "hash": "1ce8864802367537b527200e067f5fb604683023f01986fd630e96f719c8f2fc"
   }
  }
 },
 "nbformat": 4,
 "nbformat_minor": 4
}
