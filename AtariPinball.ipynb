{
 "cells": [
  {
   "cell_type": "markdown",
   "metadata": {
    "id": "F0CXP1j7ZE-y"
   },
   "source": [
    "# Video Pinball"
   ]
  },
  {
   "cell_type": "markdown",
   "metadata": {
    "id": "PfohG30UZE-1"
   },
   "source": [
    "This project aims to teach a reinforcement learning agent to play the game [Atari Video Pinball](https://gymnasium.farama.org/environments/atari/video_pinball/).  \n",
    "For this purpose, the Deep Q-Learning approach is followed using a neural network."
   ]
  },
  {
   "cell_type": "markdown",
   "metadata": {
    "id": "oha95PZYZE-2"
   },
   "source": [
    "## Information"
   ]
  },
  {
   "cell_type": "markdown",
   "metadata": {
    "id": "uto_yJs4ZE-3"
   },
   "source": [
    "General information:\n",
    "\n",
    "|                   |                                   |\n",
    "| ----------------- | --------------------------------- |\n",
    "| Action Space      | Discrete(18)                      |\n",
    "| Observation Space | (210, 160, 3)                     |\n",
    "| Observation High  | 255                               |\n",
    "| Observation Low   | 0                                 |\n",
    "| Import            | `gym.make(\"ALE/VideoPinball-v5\")` |\n"
   ]
  },
  {
   "cell_type": "markdown",
   "metadata": {
    "id": "hsq5OxhTZE-3"
   },
   "source": [
    "### Actions"
   ]
  },
  {
   "cell_type": "markdown",
   "metadata": {
    "id": "zZmT7C3NZE-3"
   },
   "source": [
    "The `Video Pinball` Game form the Atari (2600) environment has the following actions which are described in the [manual of the game](https://atariage.com/manual_html_page.php?SoftwareLabelID=588):\n",
    "**This is the reduced action space, which is available when choosing `v0`, `v4` or specifying `full_action_space=false` during initialization. Otherwise more actions will be available.**\n",
    "\n",
    "| Num | Action    | Description                                                                                  |\n",
    "| --- | --------- | -------------------------------------------------------------------------------------------- |\n",
    "| 0   | NOOP      | No Operation                                                                                 |\n",
    "| 1   | FIRE      | Press the red controller button to release the spring and shoot the ball into the playfield. |\n",
    "| 2   | UP        | Move the Joystick up to move both flippers at the same time.                                 |\n",
    "| 3   | RIGHT     | Move the Joystick to the right to move the right flipper up.                                 |\n",
    "| 4   | LEFT      | Move the Joystick to the left to move the left flipper up.                                   |\n",
    "| 5   | DOWN      | Pull the Joystick down (towards you) to bring the plunger back.                              |\n",
    "| 6   | UPFIRE    | \"Nudge\" the ball into upwards direction.                                                     |\n",
    "| 7   | RIGHTFIRE | \"Nudge\" the ball to the right.                                                               |\n",
    "| 8   | LEFTFIRE  | \"Nudge\" the ball to the left.                                                                |\n",
    "\n",
    "Furthermore it might be interesting to try different modes/difficulties of the game.\n"
   ]
  },
  {
   "cell_type": "markdown",
   "metadata": {
    "id": "8aXY11AEZE-4"
   },
   "source": [
    "### Difficulties"
   ]
  },
  {
   "cell_type": "markdown",
   "metadata": {
    "id": "mmu_V-S3ZE-5"
   },
   "source": [
    "There are two available difficulties:\n",
    "\n",
    "- `a` (aka. pinbal wizards) is for expert players and has two additional drain holes at the bottom\n",
    "- `b` is for the beginning/novice players"
   ]
  },
  {
   "cell_type": "markdown",
   "metadata": {
    "id": "pXbi9DXyZE-5"
   },
   "source": [
    "### Observations"
   ]
  },
  {
   "cell_type": "markdown",
   "metadata": {
    "id": "uopuLRE6ZE-5"
   },
   "source": [
    "By default, the environment returns the RGB image which is displayed to human players as an observation.  \n",
    "However it is possible to observe\n",
    "- The 128 Bytes of RAM of the console (`Box([0 ... 0], [255 ... 255], (128,), uint8)`)\n",
    "- A grayscale image (`Box([[0 ... 0] ... [0  ... 0]], [[255 ... 255] ... [255  ... 255]], (250, 160), uint8)`)\n",
    "\n",
    "instead. "
   ]
  },
  {
   "cell_type": "markdown",
   "metadata": {
    "id": "NXoodpnfZE-6"
   },
   "source": [
    "## Preparation"
   ]
  },
  {
   "cell_type": "markdown",
   "metadata": {
    "id": "w0SEDNjFZE-6"
   },
   "source": [
    "### Installs"
   ]
  },
  {
   "cell_type": "code",
   "execution_count": 1,
   "metadata": {
    "colab": {
     "base_uri": "https://localhost:8080/"
    },
    "execution": {
     "iopub.execute_input": "2023-01-06T19:48:33.726357Z",
     "iopub.status.busy": "2023-01-06T19:48:33.725352Z",
     "iopub.status.idle": "2023-01-06T19:48:48.867345Z",
     "shell.execute_reply": "2023-01-06T19:48:48.866311Z",
     "shell.execute_reply.started": "2023-01-06T19:48:33.726277Z"
    },
    "id": "l5_4qIlyfODG",
    "outputId": "60bf481f-297c-4605-fb2b-5ad56edf87af"
   },
   "outputs": [],
   "source": [
    "# !apt-get update\n",
    "# !apt-get install -y xvfb python-opengl"
   ]
  },
  {
   "cell_type": "code",
   "execution_count": 2,
   "metadata": {},
   "outputs": [],
   "source": [
    "# %pip install -q --upgrade pip\n",
    "# %pip install -q gym==0.21.0"
   ]
  },
  {
   "cell_type": "code",
   "execution_count": 3,
   "metadata": {
    "colab": {
     "base_uri": "https://localhost:8080/"
    },
    "execution": {
     "iopub.execute_input": "2023-01-06T19:48:48.870415Z",
     "iopub.status.busy": "2023-01-06T19:48:48.869974Z",
     "iopub.status.idle": "2023-01-06T19:49:47.086129Z",
     "shell.execute_reply": "2023-01-06T19:49:47.084655Z",
     "shell.execute_reply.started": "2023-01-06T19:48:48.870374Z"
    },
    "id": "DWU1zl7jZE-7",
    "outputId": "c0db7be7-9e0f-4fe6-c300-c4017a69be24"
   },
   "outputs": [],
   "source": [
    "\n",
    "\n",
    "# %pip install -q matplotlib\n",
    "# %pip install -q pyvirtualdisplay"
   ]
  },
  {
   "cell_type": "code",
   "execution_count": 4,
   "metadata": {},
   "outputs": [],
   "source": [
    "# %pip install -q 'gym[atari]==0.12.5'"
   ]
  },
  {
   "cell_type": "markdown",
   "metadata": {
    "id": "9f7F9DYhOUy-"
   },
   "source": [
    "### Download required files from Drive"
   ]
  },
  {
   "cell_type": "code",
   "execution_count": 5,
   "metadata": {
    "colab": {
     "base_uri": "https://localhost:8080/"
    },
    "execution": {
     "iopub.execute_input": "2023-01-06T19:49:47.091167Z",
     "iopub.status.busy": "2023-01-06T19:49:47.090816Z",
     "iopub.status.idle": "2023-01-06T19:49:47.099633Z",
     "shell.execute_reply": "2023-01-06T19:49:47.098162Z",
     "shell.execute_reply.started": "2023-01-06T19:49:47.091124Z"
    },
    "id": "X31W6SxqO2Rg",
    "outputId": "4eef9cbd-0e16-45e3-fda6-4d5078012242"
   },
   "outputs": [],
   "source": [
    "# import sys\n",
    "\n",
    "# if 'google.colab' in sys.modules:\n",
    "#     %pip install -q --upgrade gdown\n",
    "#     from gdown import download_folder\n",
    "\n",
    "#     download_folder(\"https://drive.google.com/drive/folders/1SW56nbccfHJtC6oGBIcp7XCeJDkKehGK\")"
   ]
  },
  {
   "cell_type": "markdown",
   "metadata": {
    "id": "fhpjsB9bZE-8"
   },
   "source": [
    "### Imports"
   ]
  },
  {
   "cell_type": "code",
   "execution_count": 6,
   "metadata": {
    "colab": {
     "base_uri": "https://localhost:8080/"
    },
    "execution": {
     "iopub.execute_input": "2023-01-06T19:49:47.101516Z",
     "iopub.status.busy": "2023-01-06T19:49:47.101165Z",
     "iopub.status.idle": "2023-01-06T19:49:54.951778Z",
     "shell.execute_reply": "2023-01-06T19:49:54.950615Z",
     "shell.execute_reply.started": "2023-01-06T19:49:47.101488Z"
    },
    "id": "iTdn0YfeZE-8",
    "outputId": "b80af935-b178-4b57-9b3a-605e41c16a7e"
   },
   "outputs": [
    {
     "name": "stderr",
     "output_type": "stream",
     "text": [
      "2023-01-10 11:41:09.714231: I tensorflow/core/platform/cpu_feature_guard.cc:193] This TensorFlow binary is optimized with oneAPI Deep Neural Network Library (oneDNN) to use the following CPU instructions in performance-critical operations:  AVX2 FMA\n",
      "To enable them in other operations, rebuild TensorFlow with the appropriate compiler flags.\n",
      "2023-01-10 11:41:10.189795: W tensorflow/compiler/xla/stream_executor/platform/default/dso_loader.cc:64] Could not load dynamic library 'libnvinfer.so.7'; dlerror: libnvinfer.so.7: cannot open shared object file: No such file or directory; LD_LIBRARY_PATH: :/home/tree/anaconda3/envs/devTF/lib/\n",
      "2023-01-10 11:41:10.189840: W tensorflow/compiler/xla/stream_executor/platform/default/dso_loader.cc:64] Could not load dynamic library 'libnvinfer_plugin.so.7'; dlerror: libnvinfer_plugin.so.7: cannot open shared object file: No such file or directory; LD_LIBRARY_PATH: :/home/tree/anaconda3/envs/devTF/lib/\n",
      "2023-01-10 11:41:10.189845: W tensorflow/compiler/tf2tensorrt/utils/py_utils.cc:38] TF-TRT Warning: Cannot dlopen some TensorRT libraries. If you would like to use Nvidia GPU with TensorRT, please make sure the missing libraries mentioned above are installed properly.\n"
     ]
    },
    {
     "name": "stdout",
     "output_type": "stream",
     "text": [
      "WARNING:tensorflow:From /home/tree/.local/lib/python3.9/site-packages/tensorflow/python/compat/v2_compat.py:107: disable_resource_variables (from tensorflow.python.ops.variable_scope) is deprecated and will be removed in a future version.\n",
      "Instructions for updating:\n",
      "non-resource variables are not supported in the long term\n"
     ]
    }
   ],
   "source": [
    "import json\n",
    "import os\n",
    "import time\n",
    "from abc import ABC, abstractmethod\n",
    "from collections import deque\n",
    "from contextlib import suppress\n",
    "from datetime import datetime\n",
    "from random import sample\n",
    "from typing import Any, Tuple\n",
    "\n",
    "import gym\n",
    "import numpy as np\n",
    "import tensorflow as tf\n",
    "#from tensorflow import keras\n",
    "from tensorflow.keras import Model\n",
    "from tensorflow.keras.layers import Conv2D, Dense, Flatten, Input, Lambda, multiply\n",
    "from tensorflow.keras.losses import Huber\n",
    "from tensorflow.keras.optimizers import Adam\n",
    "from tensorflow.keras.utils import to_categorical\n",
    "\n",
    "from tensorflow.compat.v1.keras.backend import set_session\n",
    "from pyvirtualdisplay import Display\n",
    "import matplotlib.pyplot as plt\n",
    "%matplotlib inline\n",
    "\n",
    "# local files\n",
    "from external.abstract_agent import AbstractAgent\n",
    "from external.atari_helpers import LazyFrames, make_atari, wrap_deepmind\n",
    "from external.loggers import TensorBoardLogger, tf_summary_image\n",
    "from external.plot_utils import plot_statistics\n",
    "\n",
    "# \n",
    "import pickle\n",
    "from os import path, makedirs\n",
    "from datetime import datetime"
   ]
  },
  {
   "cell_type": "code",
   "execution_count": 7,
   "metadata": {
    "execution": {
     "iopub.execute_input": "2023-01-06T19:49:54.955659Z",
     "iopub.status.busy": "2023-01-06T19:49:54.954886Z",
     "iopub.status.idle": "2023-01-06T19:49:55.462314Z",
     "shell.execute_reply": "2023-01-06T19:49:55.460986Z",
     "shell.execute_reply.started": "2023-01-06T19:49:54.955617Z"
    },
    "id": "OXBi9qXufV-l"
   },
   "outputs": [
    {
     "data": {
      "text/plain": [
       "<contextlib.ExitStack at 0x7f837c18fcd0>"
      ]
     },
     "execution_count": 7,
     "metadata": {},
     "output_type": "execute_result"
    }
   ],
   "source": [
    "display = Display(visible=0, size=(1400, 900))\n",
    "display.start()\n",
    "\n",
    "is_ipython = 'inline' in plt.get_backend()\n",
    "if is_ipython:\n",
    "    from IPython import display\n",
    "    from IPython.display import SVG\n",
    "\n",
    "plt.ion()"
   ]
  },
  {
   "cell_type": "code",
   "execution_count": 8,
   "metadata": {},
   "outputs": [],
   "source": [
    "tf.compat.v1.enable_eager_execution()"
   ]
  },
  {
   "cell_type": "markdown",
   "metadata": {
    "id": "IgU4OVMIZE-9"
   },
   "source": [
    "### Extended DQN-Agent"
   ]
  },
  {
   "cell_type": "code",
   "execution_count": 9,
   "metadata": {
    "execution": {
     "iopub.execute_input": "2023-01-06T19:49:55.464495Z",
     "iopub.status.busy": "2023-01-06T19:49:55.464187Z",
     "iopub.status.idle": "2023-01-06T19:49:55.485976Z",
     "shell.execute_reply": "2023-01-06T19:49:55.484196Z",
     "shell.execute_reply.started": "2023-01-06T19:49:55.464464Z"
    },
    "id": "iaJZTcGhZE-9"
   },
   "outputs": [],
   "source": [
    "class AbstractDQNAgent(AbstractAgent):\n",
    "    __slots__ = [\n",
    "        \"action_size\",\n",
    "        \"state_size\",\n",
    "        \"gamma\",\n",
    "        \"epsilon\",\n",
    "        \"epsilon_decay\",\n",
    "        \"epsilon_min\",\n",
    "        \"alpha\",\n",
    "        \"batch_size\",\n",
    "        \"memory_size\",\n",
    "        \"start_replay_step\",\n",
    "        \"target_model_update_interval\",\n",
    "        \"train_freq\",\n",
    "    ]\n",
    "\n",
    "    def __init__(self,\n",
    "                 action_size: int,\n",
    "                 state_size: int,\n",
    "                 gamma: float,\n",
    "                 epsilon: float,\n",
    "                 epsilon_decay: float,\n",
    "                 epsilon_min: float,\n",
    "                 alpha: float,\n",
    "                 batch_size: int,\n",
    "                 memory_size: int,\n",
    "                 start_replay_step: int,\n",
    "                 target_model_update_interval: int,\n",
    "                 train_freq: int,\n",
    "                 ):\n",
    "        self.action_size = action_size\n",
    "        self.state_size = state_size\n",
    "\n",
    "        self.replay_has_started = False\n",
    "\n",
    "        self.gamma = gamma\n",
    "        self.epsilon = epsilon\n",
    "        self.epsilon_decay = epsilon_decay\n",
    "        self.epsilon_min = epsilon_min\n",
    "        self.alpha = alpha\n",
    "\n",
    "        self.memory_size = memory_size\n",
    "        self.memory = deque(maxlen=self.memory_size)\n",
    "        self.batch_size = batch_size\n",
    "\n",
    "        self.step = 0\n",
    "        self.start_replay_step = start_replay_step\n",
    "\n",
    "        self.target_model_update_interval = target_model_update_interval\n",
    "\n",
    "        self.train_freq = train_freq\n",
    "\n",
    "        assert self.start_replay_step >= self.batch_size, \"The number of steps to start replay must be at least as large as the batch size\"\n",
    "\n",
    "        self.action_mask = np.ones((1, self.action_size))\n",
    "        self.action_mask_batch = np.ones((self.batch_size, self.action_size))\n",
    "\n",
    "        self.tf_config_intra_threads = 8\n",
    "        self.tf_config_inter_threads = 4\n",
    "        self.tf_config_soft_placement = True\n",
    "        self.tf_config_allow_growth = True\n",
    "\n",
    "        config = tf.compat.v1.ConfigProto(intra_op_parallelism_threads=self.tf_config_intra_threads,\n",
    "                                inter_op_parallelism_threads=self.tf_config_inter_threads,\n",
    "                                allow_soft_placement=self.tf_config_soft_placement\n",
    "                                )\n",
    "\n",
    "        config.gpu_options.allow_growth = self.tf_config_allow_growth\n",
    "        session = tf.compat.v1.Session(config=config)\n",
    "        set_session(session)  # set this TensorFlow session as the default session for Keras\n",
    "\n",
    "        self.model = self._build_model()\n",
    "        self.target_model = self._build_model()\n",
    "\n",
    "    def save(self, target_path: str, statistics=None) -> None:\n",
    "      \"\"\"\n",
    "        Saves the current state of the DQNAgent to some output files.\n",
    "        Together with `load` this serves as a very rudimentary checkpointing.\n",
    "      \"\"\"\n",
    "\n",
    "      if not statistics == None:\n",
    "        with open(path.join(target_path, \"statistics.pkl\"), \"wb\") as f:\n",
    "          pickle.dump(statistics, f)\n",
    "          f.close()\n",
    "        \n",
    "\n",
    "      self.model.save(path.join(target_path, \"model.tf\"))\n",
    "      self.target_model.save(path.join(target_path, \"target_model.tf\"))\n",
    "\n",
    "      model = self.model\n",
    "      target_model = self.target_model\n",
    "\n",
    "\n",
    "      self.model = None\n",
    "      self.target_model = None\n",
    "\n",
    "      with open(path.join(target_path, \"agent.pkl\"), \"wb\") as f:\n",
    "          pickle.dump(self, f)\n",
    "          f.close()\n",
    "\n",
    "      self.model = model\n",
    "      self.target_model = target_model\n",
    "\n",
    "      \n",
    "    @classmethod\n",
    "    def load(cls, source_path: str) -> \"AbstractDQNAgent\":\n",
    "      \"\"\"\n",
    "        Loads the serialized state of a DQNAgent and returns an instance of it.\n",
    "      \"\"\"\n",
    "\n",
    "      with open(path.join(source_path, \"agent.pkl\"), \"rb\") as f:\n",
    "          agent: AbstractDQNAgent = pickle.load(f)\n",
    "          f.close()\n",
    "\n",
    "      agent.model = tf.keras.models.load_model(path.join(source_path, \"model.tf\"))\n",
    "      agent.target_model = tf.keras.models.load_model(path.join(source_path, \"target_model.tf\"))\n",
    "\n",
    "      return agent\n",
    "\n",
    "    @abstractmethod\n",
    "    def train(self, experience):\n",
    "      raise NotImplementedError\n",
    "\n",
    "    @abstractmethod\n",
    "    def act(self, state):\n",
    "      raise NotImplementedError\n",
    "\n",
    "    @abstractmethod\n",
    "    def _build_model(self) -> Model:\n",
    "      raise NotImplementedError"
   ]
  },
  {
   "cell_type": "markdown",
   "metadata": {
    "id": "efDYrUf9ZE--"
   },
   "source": [
    "## Deep Q-Learning Network (DQN)"
   ]
  },
  {
   "cell_type": "code",
   "execution_count": 10,
   "metadata": {
    "colab": {
     "base_uri": "https://localhost:8080/"
    },
    "execution": {
     "iopub.execute_input": "2023-01-06T19:49:55.487943Z",
     "iopub.status.busy": "2023-01-06T19:49:55.487306Z",
     "iopub.status.idle": "2023-01-06T19:49:55.807979Z",
     "shell.execute_reply": "2023-01-06T19:49:55.806905Z",
     "shell.execute_reply.started": "2023-01-06T19:49:55.487912Z"
    },
    "id": "qADJ-_MoZE--",
    "outputId": "1bd87456-97fa-4795-fa7b-0dd1272ad3c8"
   },
   "outputs": [
    {
     "name": "stdout",
     "output_type": "stream",
     "text": [
      "NoopResetEnv (max 30) wrapper is used.\n",
      "MaxAndSkipEnv (skip 4) wrapper is used.\n",
      "EpisodicLifeEnv wrapper is used.\n",
      "FireResetEnv wrapper is used.\n",
      "ClipRewardEnv wrapper is used.\n",
      "FrameStack (4) wrapper is used.\n"
     ]
    }
   ],
   "source": [
    "env = make_atari(\"VideoPinball-v4\")\n",
    "env = wrap_deepmind(env, frame_stack=True) # maps frames to 84x84x4"
   ]
  },
  {
   "cell_type": "markdown",
   "metadata": {
    "id": "G5v-6xVSZE--"
   },
   "source": [
    "### Create the DQN Agent"
   ]
  },
  {
   "cell_type": "markdown",
   "metadata": {
    "id": "yO2DzOVAZE-_"
   },
   "source": [
    "Take the given `AbstractDQNAgent` (previously called `DQNAgent`) and add missing methods."
   ]
  },
  {
   "cell_type": "code",
   "execution_count": 11,
   "metadata": {
    "execution": {
     "iopub.execute_input": "2023-01-06T19:49:55.809779Z",
     "iopub.status.busy": "2023-01-06T19:49:55.809506Z",
     "iopub.status.idle": "2023-01-06T19:49:55.830618Z",
     "shell.execute_reply": "2023-01-06T19:49:55.829246Z",
     "shell.execute_reply.started": "2023-01-06T19:49:55.809754Z"
    },
    "id": "I9nQIr7xZE-_"
   },
   "outputs": [],
   "source": [
    "class DQNAgent(AbstractDQNAgent):\n",
    "    def _build_model(self) -> Model:\n",
    "        \"\"\"Deep Q-network as defined in the DeepMind article on Nature\n",
    "        \n",
    "        Returns:\n",
    "            Model: Tensorflow Model which will be used as internal deep neural network\n",
    "        \"\"\"\n",
    "\n",
    "        atari_shape = (84, 84, 4)\n",
    "\n",
    "        # Frames from the observation\n",
    "        frames_input = Input(atari_shape, name=\"frames\")\n",
    "\n",
    "        # Actions as input\n",
    "        action_mask = Input((self.action_size,), name=\"action_mask\")\n",
    "\n",
    "        # Normalize the frames from [0, 255] to [0, 1]\n",
    "        normalized = Lambda(lambda x: x / 255.0, name=\"normalization\")(frames_input)\n",
    "\n",
    "        # \"The first hidden layer convolves 16 8×8 filters with stride 4 with the \n",
    "        # input image and applies a rectifier nonlinearity.\"\n",
    "        # Results in an output shape of (20, 20, 16)\n",
    "        conv1 = Conv2D(\n",
    "            filters=32,\n",
    "            kernel_size=(8, 8),\n",
    "            strides=(4, 4),\n",
    "            activation=\"relu\"\n",
    "        )(normalized)\n",
    "\n",
    "        # \"The second hidden layer convolves 32 4×4 filters with stride 2, again followed \n",
    "        # by a rectifier nonlinearity.\" \n",
    "        # Results in an output shape of (9, 9, 32)\n",
    "        conv2 = Conv2D(\n",
    "            filters=64,\n",
    "            kernel_size=(4,4),\n",
    "            strides=(2,2),\n",
    "            activation=\"relu\"\n",
    "        )(conv1)\n",
    "\n",
    "        conv3 = Conv2D(\n",
    "            filters=64,\n",
    "            kernel_size=(4,4),\n",
    "            strides=(1,1),\n",
    "            activation=\"relu\"\n",
    "        )(conv2)\n",
    "\n",
    "        # Flattening the last convolutional layer.\n",
    "        conv_flattened = Flatten()(conv3)\n",
    "\n",
    "        # \"The final hidden layer is fully-connected and consists of 256 rectifier units.\"\n",
    "        hidden = Dense(units=512, activation='relu')(conv_flattened)\n",
    "\n",
    "        # \"The output layer is a fully-connected linear layer with a single output \n",
    "        # for each valid action.\"\n",
    "        output = Dense(self.action_size)(hidden)\n",
    "\n",
    "        # Multiply the output with the action mask to get only one action output\n",
    "        filtered_output = multiply([output, action_mask])\n",
    "\n",
    "        model = Model(inputs=[frames_input, action_mask], outputs=filtered_output)\n",
    "        model.compile(loss=Huber(), optimizer=Adam(learning_rate=self.alpha), metrics=None)\n",
    "\n",
    "        return model\n",
    "\n",
    "\n",
    "    def act(self, state: LazyFrames) -> int:\n",
    "        \"\"\"Selects the action to be executed based on the given state.\n",
    "\n",
    "        Implements epsilon greedy exploration strategy, i.e. with a probability of\n",
    "        epsilon, a random action is selected.\n",
    "\n",
    "        Args:\n",
    "            state [LazyFrames]: LazyFrames object representing the state based on 4 stacked observations (images)\n",
    "\n",
    "        Returns:\n",
    "            action [int]\n",
    "        \"\"\"\n",
    "\n",
    "        if np.random.rand() <= self.epsilon:\n",
    "            action = env.action_space.sample()\n",
    "        else:\n",
    "            # ! TODO self.model.predict oder self.target_model.predict?\n",
    "            #print(state)\n",
    "            #q_values = self.model.predict([[np.array(state)], self.action_mask])\n",
    "            q_values = self.model.predict([np.array([state]), self.action_mask], verbose=0)\n",
    "        \n",
    "            action = np.argmax(q_values)\n",
    "        return action\n",
    "\n",
    "        \n",
    "    def train(self, experience: Tuple[LazyFrames, int, LazyFrames, float, bool]):\n",
    "        \"\"\"Stores the experience in memory. If memory is full trains network by replay.\n",
    "\n",
    "        Args:\n",
    "            experience [tuple]: Tuple of state, action, next state, reward, done.\n",
    "\n",
    "        Returns:\n",
    "            None\n",
    "        \"\"\"\n",
    "        \n",
    "        self.memory.append(experience)\n",
    "        \n",
    "        #  - Update epsilon as long as it is not minimal\n",
    "        #  - Update weights of the target model (syn of the two models)\n",
    "        #  - Execute replay\n",
    "        if self.step >= self.start_replay_step:\n",
    "            if self.epsilon > self.epsilon_min:\n",
    "                self.epsilon -= self.epsilon_decay\n",
    "            if self.step % self.target_model_update_interval == 0:\n",
    "                self.target_model.set_weights(self.model.get_weights())\n",
    "            if self.step % self.train_freq == 0:\n",
    "                self._replay()\n",
    "\n",
    "        self.step += 1\n",
    "\n",
    "\n",
    "    def _replay(self) -> None:\n",
    "        \"\"\"Gets random experiences from memory for batch update of Q-function.\n",
    "\n",
    "        Returns:\n",
    "            None\n",
    "        \"\"\"\n",
    "\n",
    "        states, actions, next_states, rewards, dones = [np.array(memory) for memory in zip(*sample(self.memory, self.batch_size))]\n",
    "\n",
    "        # ! Can be left out if useless\n",
    "        assert all(isinstance(x, np.ndarray) for x in (states, actions, rewards, next_states, dones)), \\\n",
    "            \"All experience batches should be of type np.ndarray.\"\n",
    "        assert states.shape == (self.batch_size, 84, 84, 4), \\\n",
    "            f\"States shape should be: {(self.batch_size, 84, 84, 4)}\"\n",
    "        assert actions.shape == (self.batch_size,), f\"Actions shape should be: {(self.batch_size,)}\"\n",
    "        assert rewards.shape == (self.batch_size,), f\"Rewards shape should be: {(self.batch_size,)}\"\n",
    "        assert next_states.shape == (self.batch_size, 84, 84, 4), \\\n",
    "            f\"Next states shape should be: {(self.batch_size, 84, 84, 4)}\"\n",
    "        assert dones.shape == (self.batch_size,), f\"Dones shape should be: {(self.batch_size,)}\"\n",
    "\n",
    "        # Predict the Q values of the next states. Passing ones as the action mask.\n",
    "        next_q_values = self.target_model.predict([next_states, self.action_mask_batch], verbose=0)\n",
    "\n",
    "        # Calculate the Q values.\n",
    "        # - Terminal states get the reward\n",
    "        # - Non-terminal states get reward + gamma * max next_state q_value\n",
    "        q_values = [reward + (1 - done) * self.gamma * np.max(next_q_value) for done, reward, next_q_value in zip(dones, rewards, next_q_values)]\n",
    "\n",
    "        # Create a one hot encoding of the actions (the selected action is 1 all others 0)\n",
    "        one_hot_actions = to_categorical(actions, num_classes=self.action_size)\n",
    "\n",
    "        # Create the target Q values based on the one hot encoding of the actions and the calculated Q values\n",
    "        # This can be seen as matrix multiplication\n",
    "        # q_values = [0.5, 0.7, 0.9]\n",
    "        # actions [[1. 0. 0. 0.]\n",
    "        #          [0. 0. 1. 0.]\n",
    "        #          [0. 0. 0. 1.]]\n",
    "        # output  [[0.5 0.  0.   0. ]\n",
    "        #          [0.  0.  0.7  0. ]\n",
    "        #          [0.  0.  0.9  0. ]]\n",
    "        target_q_values = np.array(q_values)[np.newaxis].T * one_hot_actions\n",
    "\n",
    "        # Fit the model with the given states and the selected actions as one hot vector and the target_q_values as y\n",
    "        self.model.fit(\n",
    "           x=[states, one_hot_actions],  # states and mask\n",
    "           y=target_q_values,  # target Q values\n",
    "           batch_size=self.batch_size,\n",
    "           verbose=0\n",
    "        )\n",
    "        \n"
   ]
  },
  {
   "cell_type": "code",
   "execution_count": 12,
   "metadata": {
    "execution": {
     "iopub.execute_input": "2023-01-06T19:49:55.833024Z",
     "iopub.status.busy": "2023-01-06T19:49:55.832535Z",
     "iopub.status.idle": "2023-01-06T19:49:55.845710Z",
     "shell.execute_reply": "2023-01-06T19:49:55.844763Z",
     "shell.execute_reply.started": "2023-01-06T19:49:55.832996Z"
    },
    "id": "nkMxNKmAZE_A"
   },
   "outputs": [],
   "source": [
    "def interact_with_environment(env, agent, n_episodes=600, episode_offset=0, max_steps=1000000, train=True, verbose=True, print_mod=10, save_interval=500, statistics=[]):      \n",
    "\n",
    "    # tb_logger = TensorBoardLogger(f'./logs/run-{datetime.now().strftime(\"%Y-%m-%d_%H:%M:%S\")}')\n",
    "    with suppress(KeyboardInterrupt):\n",
    "        total_step = 0\n",
    "        for episode in range(episode_offset, episode_offset + n_episodes):\n",
    "            done = False\n",
    "            episode_reward = 0\n",
    "            state = env.reset()\n",
    "            episode_start_time = time.time()\n",
    "            episode_step = 0\n",
    "\n",
    "            while not done:\n",
    "                action = agent.act(state)\n",
    "                next_state, reward, done, _ = env.step(action)\n",
    "\n",
    "                if train:\n",
    "                    agent.train((state, action, next_state, reward, done))\n",
    "\n",
    "                #if episode == 0:\n",
    "                    # for debug purpose log every state of first episode\n",
    "                    #for obs in state:\n",
    "                        #tb_logger.log_image(f'state_t{episode_step}:', tf_summary_image(np.array(obs, copy=False)),\n",
    "                        #                    global_step=total_step)                 \n",
    "                state = next_state\n",
    "                episode_reward += reward\n",
    "                episode_step += 1\n",
    "            \n",
    "            total_step += episode_step\n",
    "\n",
    "            if episode % print_mod == 0:\n",
    "                speed = episode_step / (time.time() - episode_start_time)\n",
    "                # tb_logger.log_scalar('score', episode_reward, global_step=total_step)\n",
    "                # tb_logger.log_scalar('epsilon', agent.epsilon, global_step=total_step)\n",
    "                # tb_logger.log_scalar('speed', speed, global_step=total_step)\n",
    "                if verbose:\n",
    "                    print(f'episode: {episode}/{episode_offset + n_episodes}, score: {episode_reward}, steps: {episode_step}, '\n",
    "                          f'total steps: {total_step}, e: {agent.epsilon:.3f}, speed: {speed:.2f} steps/s, time: {datetime.now()}')\n",
    "            if episode % save_interval == 0:\n",
    "                print(\"try saving!\")\n",
    "                savePath = \"./saved_model/\" + str(episode) + \"/\"\n",
    "\n",
    "                # creating new folder\n",
    "                if not path.exists(savePath):\n",
    "                    makedirs(savePath)\n",
    "                # saving to path\n",
    "                agent.save(savePath, statistics)\n",
    "                print(\"Saving success!\")\n",
    "\n",
    "            statistics.append({\n",
    "                'episode': episode,\n",
    "                'score': episode_reward,\n",
    "                'steps': episode_step\n",
    "            })\n",
    "            \n",
    "            if total_step >= max_steps:\n",
    "                break\n",
    "        \n",
    "    return statistics\n"
   ]
  },
  {
   "cell_type": "code",
   "execution_count": 13,
   "metadata": {
    "colab": {
     "base_uri": "https://localhost:8080/"
    },
    "execution": {
     "iopub.execute_input": "2023-01-06T19:49:55.847843Z",
     "iopub.status.busy": "2023-01-06T19:49:55.847536Z",
     "iopub.status.idle": "2023-01-06T23:22:55.177375Z",
     "shell.execute_reply": "2023-01-06T23:22:55.176328Z",
     "shell.execute_reply.started": "2023-01-06T19:49:55.847816Z"
    },
    "id": "Ae5vkyyHZE_A",
    "outputId": "165e0373-e37a-4b60-dcc8-678d83f9b16e"
   },
   "outputs": [
    {
     "name": "stderr",
     "output_type": "stream",
     "text": [
      "2023-01-10 11:41:12.785771: I tensorflow/core/platform/cpu_feature_guard.cc:193] This TensorFlow binary is optimized with oneAPI Deep Neural Network Library (oneDNN) to use the following CPU instructions in performance-critical operations:  AVX2 FMA\n",
      "To enable them in other operations, rebuild TensorFlow with the appropriate compiler flags.\n",
      "2023-01-10 11:41:12.825168: I tensorflow/compiler/xla/stream_executor/cuda/cuda_gpu_executor.cc:981] successful NUMA node read from SysFS had negative value (-1), but there must be at least one NUMA node, so returning NUMA node zero\n",
      "2023-01-10 11:41:12.829195: I tensorflow/compiler/xla/stream_executor/cuda/cuda_gpu_executor.cc:981] successful NUMA node read from SysFS had negative value (-1), but there must be at least one NUMA node, so returning NUMA node zero\n",
      "2023-01-10 11:41:12.829646: I tensorflow/compiler/xla/stream_executor/cuda/cuda_gpu_executor.cc:981] successful NUMA node read from SysFS had negative value (-1), but there must be at least one NUMA node, so returning NUMA node zero\n",
      "2023-01-10 11:41:13.209331: I tensorflow/compiler/xla/stream_executor/cuda/cuda_gpu_executor.cc:981] successful NUMA node read from SysFS had negative value (-1), but there must be at least one NUMA node, so returning NUMA node zero\n",
      "2023-01-10 11:41:13.209961: I tensorflow/compiler/xla/stream_executor/cuda/cuda_gpu_executor.cc:981] successful NUMA node read from SysFS had negative value (-1), but there must be at least one NUMA node, so returning NUMA node zero\n",
      "2023-01-10 11:41:13.210526: I tensorflow/compiler/xla/stream_executor/cuda/cuda_gpu_executor.cc:981] successful NUMA node read from SysFS had negative value (-1), but there must be at least one NUMA node, so returning NUMA node zero\n",
      "2023-01-10 11:41:13.211043: I tensorflow/core/common_runtime/gpu/gpu_device.cc:1613] Created device /job:localhost/replica:0/task:0/device:GPU:0 with 5125 MB memory:  -> device: 0, name: NVIDIA GeForce RTX 3070, pci bus id: 0000:2d:00.0, compute capability: 8.6\n",
      "2023-01-10 11:41:13.306589: I tensorflow/compiler/xla/stream_executor/cuda/cuda_gpu_executor.cc:981] successful NUMA node read from SysFS had negative value (-1), but there must be at least one NUMA node, so returning NUMA node zero\n",
      "2023-01-10 11:41:13.307089: I tensorflow/compiler/xla/stream_executor/cuda/cuda_gpu_executor.cc:981] successful NUMA node read from SysFS had negative value (-1), but there must be at least one NUMA node, so returning NUMA node zero\n",
      "2023-01-10 11:41:13.307476: I tensorflow/compiler/xla/stream_executor/cuda/cuda_gpu_executor.cc:981] successful NUMA node read from SysFS had negative value (-1), but there must be at least one NUMA node, so returning NUMA node zero\n",
      "2023-01-10 11:41:13.308025: I tensorflow/compiler/xla/stream_executor/cuda/cuda_gpu_executor.cc:981] successful NUMA node read from SysFS had negative value (-1), but there must be at least one NUMA node, so returning NUMA node zero\n",
      "2023-01-10 11:41:13.308417: I tensorflow/compiler/xla/stream_executor/cuda/cuda_gpu_executor.cc:981] successful NUMA node read from SysFS had negative value (-1), but there must be at least one NUMA node, so returning NUMA node zero\n",
      "2023-01-10 11:41:13.308800: I tensorflow/compiler/xla/stream_executor/cuda/cuda_gpu_executor.cc:981] successful NUMA node read from SysFS had negative value (-1), but there must be at least one NUMA node, so returning NUMA node zero\n",
      "2023-01-10 11:41:13.309149: I tensorflow/compiler/xla/stream_executor/cuda/cuda_gpu_executor.cc:981] successful NUMA node read from SysFS had negative value (-1), but there must be at least one NUMA node, so returning NUMA node zero\n",
      "2023-01-10 11:41:13.309455: I tensorflow/compiler/xla/stream_executor/cuda/cuda_gpu_executor.cc:981] successful NUMA node read from SysFS had negative value (-1), but there must be at least one NUMA node, so returning NUMA node zero\n",
      "2023-01-10 11:41:13.309744: I tensorflow/core/common_runtime/gpu/gpu_device.cc:1613] Created device /job:localhost/replica:0/task:0/device:GPU:0 with 5125 MB memory:  -> device: 0, name: NVIDIA GeForce RTX 3070, pci bus id: 0000:2d:00.0, compute capability: 8.6\n"
     ]
    }
   ],
   "source": [
    "# init train\n",
    "\n",
    "action_size = env.action_space.n\n",
    "state_size = env.observation_space.shape[0]\n",
    "\n",
    "# Hyperparams (should be sufficient)\n",
    "episodes = 20000\n",
    "save_interval = 500\n",
    "\n",
    "annealing_steps = 1000000  # not episodes!\n",
    "gamma = 0.99\n",
    "epsilon = 1.0\n",
    "epsilon_min = 0.01\n",
    "epsilon_decay = 0.000004\n",
    "alpha = 0.0001\n",
    "batch_size = 64\n",
    "memory_size = 50000\n",
    "start_replay_step = 10000\n",
    "target_model_update_interval = 1000\n",
    "train_freq = 8\n",
    "\n",
    "\n",
    "\n",
    "agent = DQNAgent(action_size=action_size, state_size=state_size, gamma=gamma, \n",
    "                 epsilon=epsilon, epsilon_decay=epsilon_decay, epsilon_min=epsilon_min, \n",
    "                 alpha=alpha, batch_size=batch_size, memory_size=memory_size,\n",
    "                 start_replay_step=start_replay_step, \n",
    "                 target_model_update_interval=target_model_update_interval, train_freq=train_freq)\n",
    "\n"
   ]
  },
  {
   "cell_type": "code",
   "execution_count": null,
   "metadata": {},
   "outputs": [],
   "source": [
    "statistics = interact_with_environment(env, agent, n_episodes=episodes, verbose=True, print_mod=100, save_interval=save_interval)\n",
    "env.close()\n",
    "plot_statistics(statistics)"
   ]
  },
  {
   "cell_type": "code",
   "execution_count": 14,
   "metadata": {
    "execution": {
     "iopub.execute_input": "2023-01-06T23:22:55.179086Z",
     "iopub.status.busy": "2023-01-06T23:22:55.178786Z",
     "iopub.status.idle": "2023-01-06T23:23:13.894906Z",
     "shell.execute_reply": "2023-01-06T23:23:13.893664Z",
     "shell.execute_reply.started": "2023-01-06T23:22:55.179060Z"
    },
    "id": "kxXdW7Biea4M"
   },
   "outputs": [
    {
     "data": {
      "image/png": "[encoded data removed]",
      "text/plain": [
       "<Figure size 640x480 with 1 Axes>"
      ]
     },
     "metadata": {},
     "output_type": "display_data"
    }
   ],
   "source": [
    "for i in range(3):\n",
    "    state = env.reset()\n",
    "    img = plt.imshow(env.render(mode='rgb_array'))\n",
    "    for j in range(200):\n",
    "        action = agent.act(state)\n",
    "        img.set_data(env.render(mode='rgb_array')) \n",
    "        plt.axis('off')\n",
    "        display.display(plt.gcf())\n",
    "        display.clear_output(wait=True)\n",
    "        state, reward, done, _ = env.step(action)\n",
    "        if done:\n",
    "            break\n",
    "\n",
    "env.close()"
   ]
  },
  {
   "cell_type": "code",
   "execution_count": 15,
   "metadata": {
    "id": "BHZxhRSHf6yU"
   },
   "outputs": [],
   "source": [
    "# tf.keras.utils.plot_model(agent.model, to_file='keras_plot_model_2.png', show_shapes=True)\n",
    "# display.Image('keras_plot_model_2.png')"
   ]
  },
  {
   "cell_type": "code",
   "execution_count": null,
   "metadata": {},
   "outputs": [],
   "source": []
  },
  {
   "attachments": {},
   "cell_type": "markdown",
   "metadata": {},
   "source": [
    "### Load Model"
   ]
  },
  {
   "cell_type": "code",
   "execution_count": 14,
   "metadata": {},
   "outputs": [],
   "source": [
    "loadPath = \"./saved_model/600/\"\n",
    "\n",
    "agent = DQNAgent.load(loadPath)\n",
    "\n",
    "# load stats\n",
    "with open(path.join(loadPath, \"statistics.pkl\"), \"rb\") as f:\n",
    "    global statistics\n",
    "    statistics:list\n",
    "    statistics = pickle.load(f)\n",
    "    f.close()"
   ]
  },
  {
   "cell_type": "code",
   "execution_count": 15,
   "metadata": {},
   "outputs": [
    {
     "data": {
      "image/png": "[encoded data removed]",
      "text/plain": [
       "<Figure size 640x480 with 1 Axes>"
      ]
     },
     "metadata": {},
     "output_type": "display_data"
    }
   ],
   "source": [
    "plot_statistics(statistics)"
   ]
  },
  {
   "cell_type": "code",
   "execution_count": 16,
   "metadata": {},
   "outputs": [
    {
     "name": "stderr",
     "output_type": "stream",
     "text": [
      "2023-01-10 11:41:56.212879: I tensorflow/compiler/xla/stream_executor/cuda/cuda_dnn.cc:428] Loaded cuDNN version 8100\n",
      "2023-01-10 11:41:56.698396: I tensorflow/tsl/platform/default/subprocess.cc:304] Start cannot spawn child process: No such file or directory\n",
      "2023-01-10 11:41:57.165869: I tensorflow/compiler/xla/stream_executor/cuda/cuda_blas.cc:630] TensorFloat-32 will be used for the matrix multiplication. This will only be logged once.\n"
     ]
    },
    {
     "name": "stdout",
     "output_type": "stream",
     "text": [
      "episode: 600/1100, score: 10.0, steps: 191, total steps: 191, e: 0.566, speed: 26.31 steps/s, time: 2023-01-10 11:42:02.901994\n",
      "try saving!\n",
      "Saving success!\n",
      "episode: 610/1100, score: 10.0, steps: 202, total steps: 1529, e: 0.561, speed: 37.41 steps/s, time: 2023-01-10 11:42:42.346771\n",
      "episode: 620/1100, score: 3.0, steps: 44, total steps: 2821, e: 0.556, speed: 37.60 steps/s, time: 2023-01-10 11:43:19.291455\n",
      "episode: 630/1100, score: 1.0, steps: 102, total steps: 4041, e: 0.551, speed: 38.21 steps/s, time: 2023-01-10 11:43:53.919261\n",
      "episode: 640/1100, score: 8.0, steps: 78, total steps: 5443, e: 0.545, speed: 37.40 steps/s, time: 2023-01-10 11:44:33.654719\n",
      "episode: 650/1100, score: 28.0, steps: 325, total steps: 7264, e: 0.538, speed: 34.28 steps/s, time: 2023-01-10 11:45:25.408637\n",
      "episode: 660/1100, score: 1.0, steps: 99, total steps: 8577, e: 0.533, speed: 38.82 steps/s, time: 2023-01-10 11:46:02.795144\n",
      "episode: 670/1100, score: 0.0, steps: 150, total steps: 10102, e: 0.527, speed: 36.20 steps/s, time: 2023-01-10 11:46:47.341975\n",
      "episode: 680/1100, score: 1.0, steps: 63, total steps: 11328, e: 0.522, speed: 33.75 steps/s, time: 2023-01-10 11:47:22.860569\n",
      "episode: 690/1100, score: 7.0, steps: 57, total steps: 12326, e: 0.518, speed: 38.58 steps/s, time: 2023-01-10 11:47:51.918779\n",
      "episode: 700/1100, score: 55.0, steps: 529, total steps: 13953, e: 0.511, speed: 35.55 steps/s, time: 2023-01-10 11:48:39.131717\n",
      "try saving!\n",
      "Saving success!\n",
      "episode: 710/1100, score: 16.0, steps: 162, total steps: 15283, e: 0.506, speed: 34.95 steps/s, time: 2023-01-10 11:49:21.696263\n",
      "episode: 720/1100, score: 13.0, steps: 118, total steps: 16436, e: 0.501, speed: 35.33 steps/s, time: 2023-01-10 11:49:55.584234\n",
      "episode: 730/1100, score: 0.0, steps: 147, total steps: 17925, e: 0.495, speed: 33.84 steps/s, time: 2023-01-10 11:50:40.268361\n",
      "episode: 740/1100, score: 18.0, steps: 202, total steps: 19273, e: 0.490, speed: 33.30 steps/s, time: 2023-01-10 11:51:20.345112\n",
      "episode: 750/1100, score: 20.0, steps: 198, total steps: 20645, e: 0.485, speed: 33.47 steps/s, time: 2023-01-10 11:52:01.564028\n",
      "episode: 760/1100, score: 19.0, steps: 280, total steps: 21923, e: 0.479, speed: 32.36 steps/s, time: 2023-01-10 11:52:40.243850\n",
      "episode: 770/1100, score: 28.0, steps: 246, total steps: 23103, e: 0.475, speed: 32.29 steps/s, time: 2023-01-10 11:53:16.913895\n",
      "episode: 780/1100, score: 11.0, steps: 106, total steps: 24350, e: 0.470, speed: 32.82 steps/s, time: 2023-01-10 11:53:56.142687\n",
      "episode: 790/1100, score: 23.0, steps: 221, total steps: 26125, e: 0.463, speed: 32.86 steps/s, time: 2023-01-10 11:54:51.494841\n"
     ]
    }
   ],
   "source": [
    "# train more\n",
    "\n",
    "# parameter\n",
    "episodes = 500\n",
    "save_interval = 100\n",
    "episode_offset = statistics[-1][\"episode\"] + 1\n",
    "print_modulo = 10\n",
    "\n",
    "statistics = interact_with_environment(env, agent, n_episodes=episodes, episode_offset=episode_offset, verbose=True, print_mod=print_modulo, save_interval=save_interval, statistics=statistics)\n",
    "env.close()\n",
    "plot_statistics(statistics)\n"
   ]
  },
  {
   "attachments": {},
   "cell_type": "markdown",
   "metadata": {},
   "source": [
    "# Eval Model"
   ]
  },
  {
   "cell_type": "code",
   "execution_count": null,
   "metadata": {},
   "outputs": [],
   "source": [
    "## Statics concat &&  Plt.\n",
    "plot_statistics(statistics)"
   ]
  },
  {
   "cell_type": "markdown",
   "metadata": {
    "id": "hMBpIA_oZE_A"
   },
   "source": [
    "## To-Dos\n",
    "\n",
    "- Create on place for hyperparameters for inside the model and pass it on\n",
    "  - e. g. optimizer, different metrics, checkpointing for the internal model, etc."
   ]
  },
  {
   "cell_type": "markdown",
   "metadata": {
    "id": "h5UV7EPfZE_B"
   },
   "source": []
  }
 ],
 "metadata": {
  "accelerator": "GPU",
  "colab": {
   "provenance": []
  },
  "gpuClass": "standard",
  "kernelspec": {
   "display_name": "devTF",
   "language": "python",
   "name": "python3"
  },
  "language_info": {
   "codemirror_mode": {
    "name": "ipython",
    "version": 3
   },
   "file_extension": ".py",
   "mimetype": "text/x-python",
   "name": "python",
   "nbconvert_exporter": "python",
   "pygments_lexer": "ipython3",
   "version": "3.9.15"
  },
  "vscode": {
   "interpreter": {
    "hash": "1ce8864802367537b527200e067f5fb604683023f01986fd630e96f719c8f2fc"
   }
  }
 },
 "nbformat": 4,
 "nbformat_minor": 4
}
