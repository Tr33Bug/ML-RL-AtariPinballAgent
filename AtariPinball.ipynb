{
 "cells": [
  {
   "attachments": {},
   "cell_type": "markdown",
   "metadata": {},
   "source": [
    "# Video Pinball"
   ]
  },
  {
   "attachments": {},
   "cell_type": "markdown",
   "metadata": {},
   "source": [
    "This project aims to teach a reinforcement learning agent to play the game [Atari Video Pinball](https://gymnasium.farama.org/environments/atari/video_pinball/).  \n",
    "For this purpose, the Deep Q-Learning approach is followed using a neural network."
   ]
  },
  {
   "attachments": {},
   "cell_type": "markdown",
   "metadata": {},
   "source": [
    "## Information"
   ]
  },
  {
   "attachments": {},
   "cell_type": "markdown",
   "metadata": {},
   "source": [
    "General information:\n",
    "\n",
    "|                   |                                   |\n",
    "| ----------------- | --------------------------------- |\n",
    "| Action Space      | Discrete(18)                      |\n",
    "| Observation Space | (210, 160, 3)                     |\n",
    "| Observation High  | 255                               |\n",
    "| Observation Low   | 0                                 |\n",
    "| Import            | `gym.make(\"ALE/VideoPinball-v5\")` |\n"
   ]
  },
  {
   "attachments": {},
   "cell_type": "markdown",
   "metadata": {},
   "source": [
    "### Actions"
   ]
  },
  {
   "attachments": {},
   "cell_type": "markdown",
   "metadata": {},
   "source": [
    "The `Video Pinball` Game form the Atari (2600) environment has the following actions which are described in the [manual of the game](https://atariage.com/manual_html_page.php?SoftwareLabelID=588):\n",
    "**This is the reduced action space, which is available when choosing `v0`, `v4` or specifying `full_action_space=false` during initialization. Otherwise more actions will be available.**\n",
    "\n",
    "| Num | Action    | Description                                                                                  |\n",
    "| --- | --------- | -------------------------------------------------------------------------------------------- |\n",
    "| 0   | NOOP      | No Operation                                                                                 |\n",
    "| 1   | FIRE      | Press the red controller button to release the spring and shoot the ball into the playfield. |\n",
    "| 2   | UP        | Move the Joystick up to move both flippers at the same time.                                 |\n",
    "| 3   | RIGHT     | Move the Joystick to the right to move the right flipper up.                                 |\n",
    "| 4   | LEFT      | Move the Joystick to the left to move the left flipper up.                                   |\n",
    "| 5   | DOWN      | Pull the Joystick down (towards you) to bring the plunger back.                              |\n",
    "| 6   | UPFIRE    | \"Nudge\" the ball into upwards direction.                                                     |\n",
    "| 7   | RIGHTFIRE | \"Nudge\" the ball to the right.                                                               |\n",
    "| 8   | LEFTFIRE  | \"Nudge\" the ball to the left.                                                                |\n",
    "\n",
    "Furthermore it might be interesting to try different modes/difficulties of the game.\n"
   ]
  },
  {
   "attachments": {},
   "cell_type": "markdown",
   "metadata": {},
   "source": [
    "### Difficulties"
   ]
  },
  {
   "attachments": {},
   "cell_type": "markdown",
   "metadata": {},
   "source": [
    "There are two available difficulties:\n",
    "\n",
    "- `a` (aka. pinbal wizards) is for expert players and has two additional drain holes at the bottom\n",
    "- `b` is for the beginning/novice players"
   ]
  },
  {
   "attachments": {},
   "cell_type": "markdown",
   "metadata": {},
   "source": [
    "### Observations"
   ]
  },
  {
   "attachments": {},
   "cell_type": "markdown",
   "metadata": {},
   "source": [
    "By default, the environment returns the RGB image which is displayed to human players as an observation.  \n",
    "However it is possible to observe\n",
    "- The 128 Bytes of RAM of the console (`Box([0 ... 0], [255 ... 255], (128,), uint8)`)\n",
    "- A grayscale image (`Box([[0 ... 0] ... [0  ... 0]], [[255 ... 255] ... [255  ... 255]], (250, 160), uint8)`)\n",
    "\n",
    "instead. "
   ]
  },
  {
   "attachments": {},
   "cell_type": "markdown",
   "metadata": {},
   "source": [
    "## Preparation"
   ]
  },
  {
   "attachments": {},
   "cell_type": "markdown",
   "metadata": {},
   "source": [
    "### Installs"
   ]
  },
  {
   "cell_type": "code",
   "execution_count": 9,
   "metadata": {},
   "outputs": [
    {
     "name": "stdout",
     "output_type": "stream",
     "text": [
      "Requirement already satisfied: pip in /Users/sschwarzer/opt/anaconda3/lib/python3.9/site-packages (22.3.1)\n",
      "Note: you may need to restart the kernel to use updated packages.\n",
      "Requirement already satisfied: gym==0.21.0 in /Users/sschwarzer/opt/anaconda3/lib/python3.9/site-packages (0.21.0)\n",
      "Requirement already satisfied: cloudpickle>=1.2.0 in /Users/sschwarzer/opt/anaconda3/lib/python3.9/site-packages (from gym==0.21.0) (2.0.0)\n",
      "Requirement already satisfied: numpy>=1.18.0 in /Users/sschwarzer/opt/anaconda3/lib/python3.9/site-packages (from gym==0.21.0) (1.21.5)\n",
      "Note: you may need to restart the kernel to use updated packages.\n",
      "Collecting gym[atari]==0.12.5\n",
      "  Using cached gym-0.12.5-py3-none-any.whl\n",
      "Requirement already satisfied: scipy in /Users/sschwarzer/opt/anaconda3/lib/python3.9/site-packages (from gym[atari]==0.12.5) (1.7.3)\n",
      "Requirement already satisfied: numpy>=1.10.4 in /Users/sschwarzer/opt/anaconda3/lib/python3.9/site-packages (from gym[atari]==0.12.5) (1.21.5)\n",
      "Requirement already satisfied: six in /Users/sschwarzer/opt/anaconda3/lib/python3.9/site-packages (from gym[atari]==0.12.5) (1.16.0)\n",
      "Requirement already satisfied: pyglet>=1.2.0 in /Users/sschwarzer/opt/anaconda3/lib/python3.9/site-packages (from gym[atari]==0.12.5) (1.3.2)\n",
      "Requirement already satisfied: opencv-python in /Users/sschwarzer/opt/anaconda3/lib/python3.9/site-packages (from gym[atari]==0.12.5) (4.6.0.66)\n",
      "Requirement already satisfied: Pillow in /Users/sschwarzer/opt/anaconda3/lib/python3.9/site-packages (from gym[atari]==0.12.5) (9.3.0)\n",
      "Requirement already satisfied: atari-py~=0.1.4 in /Users/sschwarzer/opt/anaconda3/lib/python3.9/site-packages (from gym[atari]==0.12.5) (0.1.7)\n",
      "Requirement already satisfied: future in /Users/sschwarzer/opt/anaconda3/lib/python3.9/site-packages (from pyglet>=1.2.0->gym[atari]==0.12.5) (0.18.2)\n",
      "Installing collected packages: gym\n",
      "  Attempting uninstall: gym\n",
      "    Found existing installation: gym 0.21.0\n",
      "    Uninstalling gym-0.21.0:\n",
      "      Successfully uninstalled gym-0.21.0\n",
      "Successfully installed gym-0.12.5\n",
      "Note: you may need to restart the kernel to use updated packages.\n",
      "Requirement already satisfied: matplotlib in /Users/sschwarzer/opt/anaconda3/lib/python3.9/site-packages (3.5.3)\n",
      "Requirement already satisfied: python-dateutil>=2.7 in /Users/sschwarzer/opt/anaconda3/lib/python3.9/site-packages (from matplotlib) (2.8.2)\n",
      "Requirement already satisfied: pillow>=6.2.0 in /Users/sschwarzer/opt/anaconda3/lib/python3.9/site-packages (from matplotlib) (9.3.0)\n",
      "Requirement already satisfied: numpy>=1.17 in /Users/sschwarzer/opt/anaconda3/lib/python3.9/site-packages (from matplotlib) (1.21.5)\n",
      "Requirement already satisfied: cycler>=0.10 in /Users/sschwarzer/opt/anaconda3/lib/python3.9/site-packages (from matplotlib) (0.11.0)\n",
      "Requirement already satisfied: pyparsing>=2.2.1 in /Users/sschwarzer/opt/anaconda3/lib/python3.9/site-packages (from matplotlib) (3.0.9)\n",
      "Requirement already satisfied: fonttools>=4.22.0 in /Users/sschwarzer/opt/anaconda3/lib/python3.9/site-packages (from matplotlib) (4.25.0)\n",
      "Requirement already satisfied: packaging>=20.0 in /Users/sschwarzer/opt/anaconda3/lib/python3.9/site-packages (from matplotlib) (22.0)\n",
      "Requirement already satisfied: kiwisolver>=1.0.1 in /Users/sschwarzer/opt/anaconda3/lib/python3.9/site-packages (from matplotlib) (1.4.2)\n",
      "Requirement already satisfied: six>=1.5 in /Users/sschwarzer/opt/anaconda3/lib/python3.9/site-packages (from python-dateutil>=2.7->matplotlib) (1.16.0)\n",
      "Note: you may need to restart the kernel to use updated packages.\n"
     ]
    }
   ],
   "source": [
    "%pip install --upgrade pip\n",
    "%pip install gym==0.21.0\n",
    "%pip install 'gym[atari]==0.12.5'\n",
    "%pip install matplotlib"
   ]
  },
  {
   "attachments": {},
   "cell_type": "markdown",
   "metadata": {},
   "source": [
    "### Imports"
   ]
  },
  {
   "cell_type": "code",
   "execution_count": 1,
   "metadata": {},
   "outputs": [
    {
     "name": "stderr",
     "output_type": "stream",
     "text": [
      "2023-01-03 12:25:12.126241: I tensorflow/core/platform/cpu_feature_guard.cc:193] This TensorFlow binary is optimized with oneAPI Deep Neural Network Library (oneDNN) to use the following CPU instructions in performance-critical operations:  AVX2 FMA\n",
      "To enable them in other operations, rebuild TensorFlow with the appropriate compiler flags.\n"
     ]
    },
    {
     "name": "stdout",
     "output_type": "stream",
     "text": [
      "WARNING:tensorflow:From /Users/sschwarzer/opt/anaconda3/lib/python3.9/site-packages/tensorflow/python/compat/v2_compat.py:107: disable_resource_variables (from tensorflow.python.ops.variable_scope) is deprecated and will be removed in a future version.\n",
      "Instructions for updating:\n",
      "non-resource variables are not supported in the long term\n"
     ]
    },
    {
     "name": "stderr",
     "output_type": "stream",
     "text": [
      "WARNING:tensorflow:From /Users/sschwarzer/opt/anaconda3/lib/python3.9/site-packages/tensorflow/python/compat/v2_compat.py:107: disable_resource_variables (from tensorflow.python.ops.variable_scope) is deprecated and will be removed in a future version.\n",
      "Instructions for updating:\n",
      "non-resource variables are not supported in the long term\n"
     ]
    }
   ],
   "source": [
    "import json\n",
    "import os\n",
    "import time\n",
    "from abc import ABC, abstractmethod\n",
    "from collections import deque\n",
    "from contextlib import suppress\n",
    "from datetime import datetime\n",
    "from random import sample\n",
    "from typing import Any\n",
    "\n",
    "import gym\n",
    "import numpy as np\n",
    "import tensorflow as tf\n",
    "from keras import Model\n",
    "from keras.layers import Conv2D, Dense, Flatten, Input, Lambda, multiply\n",
    "from keras.losses import huber_loss\n",
    "from keras.optimizers import Adam\n",
    "from keras.utils import to_categorical\n",
    "from tensorflow import keras\n",
    "from tensorflow.compat.v1.keras.backend import set_session\n",
    "\n",
    "# local files\n",
    "from external.abstract_agent import AbstractAgent\n",
    "from external.atari_helpers import LazyFrames, make_atari, wrap_deepmind\n",
    "from external.loggers import TensorBoardLogger, tf_summary_image\n",
    "from external.plot_utils import plot_statistics"
   ]
  },
  {
   "attachments": {},
   "cell_type": "markdown",
   "metadata": {},
   "source": [
    "### Extended DQN-Agent"
   ]
  },
  {
   "cell_type": "code",
   "execution_count": 7,
   "metadata": {},
   "outputs": [],
   "source": [
    "class AbstractDQNAgent(AbstractAgent):\n",
    "    __slots__ = [\n",
    "        \"action_size\",\n",
    "        \"state_size\",\n",
    "        \"gamma\",\n",
    "        \"epsilon\",\n",
    "        \"epsilon_decay\",\n",
    "        \"epsilon_min\",\n",
    "        \"alpha\",\n",
    "        \"batch_size\",\n",
    "        \"memory_size\",\n",
    "        \"start_replay_step\",\n",
    "        \"target_model_update_interval\",\n",
    "        \"train_freq\",\n",
    "    ]\n",
    "\n",
    "    def __init__(self,\n",
    "                 action_size: int,\n",
    "                 state_size: int,\n",
    "                 gamma: float,\n",
    "                 epsilon: float,\n",
    "                 epsilon_decay: float,\n",
    "                 epsilon_min: float,\n",
    "                 alpha: float,\n",
    "                 batch_size: int,\n",
    "                 memory_size: int,\n",
    "                 start_replay_step: int,\n",
    "                 target_model_update_interval: int,\n",
    "                 train_freq: int,\n",
    "                 ):\n",
    "        self.action_size = action_size\n",
    "        self.state_size = state_size\n",
    "\n",
    "        self.gamma = gamma\n",
    "        self.epsilon = epsilon\n",
    "        self.epsilon_decay = epsilon_decay\n",
    "        self.epsilon_min = epsilon_min\n",
    "        self.alpha = alpha\n",
    "\n",
    "        self.memory_size = memory_size\n",
    "        self.memory = deque(maxlen=self.memory_size)\n",
    "        self.batch_size = batch_size\n",
    "\n",
    "        self.step = 0\n",
    "        self.start_replay_step = start_replay_step\n",
    "\n",
    "        self.target_model_update_interval = target_model_update_interval\n",
    "\n",
    "        self.train_freq = train_freq\n",
    "\n",
    "        assert self.start_replay_step >= self.batch_size, \"The number of steps to start replay must be at least as large as the batch size\"\n",
    "\n",
    "        self.action_mask = np.ones((1, self.action_size))\n",
    "        self.action_mask_batch = np.ones((self.batch_size, self.action_size))\n",
    "\n",
    "        self.tf_config_intra_threads = 8\n",
    "        self.tf_config_inter_threads = 4\n",
    "        self.tf_config_soft_placement = True\n",
    "        self.tf_config_allow_growth = True\n",
    "\n",
    "        config = tf.compat.v1.ConfigProto(intra_op_parallelism_threads=self.tf_config_intra_threads,\n",
    "                                inter_op_parallelism_threads=self.tf_config_inter_threads,\n",
    "                                allow_soft_placement=self.tf_config_soft_placement\n",
    "                                )\n",
    "\n",
    "        config.gpu_options.allow_growth = self.tf_config_allow_growth\n",
    "        session = tf.compat.v1.Session(config=config)\n",
    "        set_session(session)  # set this TensorFlow session as the default session for Keras\n",
    "\n",
    "        self.model = self._build_model()\n",
    "        self.target_model = self._build_model()\n",
    "\n",
    "    def save(self, target_path: str) -> None:\n",
    "      \"\"\"\n",
    "        Saves the current state of the DQNAgent to some output files.\n",
    "        Together with `load` this serves as a very rudimentary checkpointing.\n",
    "      \"\"\"\n",
    "      agent_dict = {\n",
    "            \"agent_init\": {},\n",
    "            \"agent_params\": {},\n",
    "            \"tf_config\": {}\n",
    "        }\n",
    "\n",
    "      if not os.path.exists(target_path):\n",
    "        os.makedirs(target_path)\n",
    "\n",
    "      for slot in self.__slots__:\n",
    "          agent_dict[\"agent_init\"].update({slot: getattr(self, slot)})\n",
    "\n",
    "      agent_dict[\"agent_init\"].update({\"memory_size\": self.memory.maxlen})\n",
    "\n",
    "      for attr in [\"action_mask\", \"action_mask_batch\"]:\n",
    "          agent_dict[\"agent_params\"].update({attr: getattr(self, attr).tolist()})\n",
    "\n",
    "      agent_dict[\"agent_params\"].update({\"memory\": list(self.memory)})\n",
    "\n",
    "      for tf_config in [\n",
    "          \"tf_config_intra_threads\",\n",
    "          \"tf_config_inter_threads\",\n",
    "          \"tf_config_soft_placement\",\n",
    "          \"tf_config_allow_growth\",\n",
    "      ]:\n",
    "          agent_dict[\"tf_config\"].update({tf_config: getattr(self, tf_config)})\n",
    "\n",
    "      with open(os.path.join(target_path, \"agent.json\"), \"w\") as f:\n",
    "          json.dump(agent_dict, f)\n",
    "\n",
    "      self.model.save_weights(os.path.join(target_path, \"model.h5\"))\n",
    "      self.target_model.save_weights(os.path.join(target_path, \"target_model.h5\"))\n",
    "\n",
    "    @classmethod\n",
    "    def load(cls, path: str) -> \"AbstractDQNAgent\":\n",
    "      \"\"\"\n",
    "        Loads the serialized state of a DQNAgent and returns an instance of it.\n",
    "      \"\"\"\n",
    "\n",
    "      with open(os.path.join(path, \"agent.json\"), \"r\") as f:\n",
    "          agent_dict = json.load(f)\n",
    "\n",
    "      agent = cls(**agent_dict[\"agent_init\"])\n",
    "\n",
    "      agent.action_mask = np.array(agent_dict[\"agent_params\"][\"action_mask\"])\n",
    "      agent.action_mask_batch = np.array(agent_dict[\"agent_params\"][\"action_mask_batch\"])\n",
    "\n",
    "      config = tf.compat.v1.ConfigProto(\n",
    "          intra_op_parallelism_threads=agent_dict[\"tf_config\"][\"tf_config_intra_threads\"],\n",
    "          inter_op_parallelism_threads=agent_dict[\"tf_config\"][\"tf_config_inter_threads\"],\n",
    "          allow_soft_placement=agent_dict[\"tf_config\"][\"tf_config_soft_placement\"])\n",
    "\n",
    "      config.gpu_options.allow_growth = agent_dict[\"tf_config\"][\"tf_config_allow_growth\"]\n",
    "      session = tf.compat.v1.Session(config=config)\n",
    "      set_session(session)\n",
    "\n",
    "      agent.model.load_weights('model.h5')\n",
    "      agent.target_model.load_weights(\"target_model.h5\")\n",
    "\n",
    "      return agent\n",
    "\n",
    "    @abstractmethod\n",
    "    def train(self, experience):\n",
    "      raise NotImplementedError\n",
    "\n",
    "    @abstractmethod\n",
    "    def act(self, state):\n",
    "      raise NotImplementedError\n",
    "\n",
    "    @abstractmethod\n",
    "    def _build_model(self) -> Model:\n",
    "      raise NotImplementedError"
   ]
  },
  {
   "attachments": {},
   "cell_type": "markdown",
   "metadata": {},
   "source": [
    "## Deep Q-Learning Network (DQN)"
   ]
  },
  {
   "cell_type": "code",
   "execution_count": 8,
   "metadata": {},
   "outputs": [
    {
     "name": "stdout",
     "output_type": "stream",
     "text": [
      "NoopResetEnv (max 30) wrapper is used.\n",
      "MaxAndSkipEnv (skip 4) wrapper is used.\n",
      "EpisodicLifeEnv wrapper is used.\n",
      "FireResetEnv wrapper is used.\n",
      "ClipRewardEnv wrapper is used.\n",
      "FrameStack (4) wrapper is used.\n"
     ]
    }
   ],
   "source": [
    "env = make_atari(\"VideoPinball-v4\")\n",
    "env = wrap_deepmind(env, frame_stack=True) # maps frames to 84x84x4"
   ]
  },
  {
   "attachments": {},
   "cell_type": "markdown",
   "metadata": {},
   "source": [
    "### Create the DQN Agent"
   ]
  },
  {
   "attachments": {},
   "cell_type": "markdown",
   "metadata": {},
   "source": [
    "Take the given `AbstractDQNAgent` (previously called `DQNAgent`) and add missing methods."
   ]
  },
  {
   "cell_type": "code",
   "execution_count": 9,
   "metadata": {},
   "outputs": [],
   "source": [
    "class DQNAgent(AbstractDQNAgent):\n",
    "    def _build_model(self) -> Model:\n",
    "        \"\"\"Deep Q-network as defined in the DeepMind article on Nature\n",
    "        \n",
    "        Returns:\n",
    "            Model: Tensorflow Model which will be used as internal deep neural network\n",
    "        \"\"\"\n",
    "\n",
    "        atari_shape = (84, 84, 4)\n",
    "\n",
    "        # Frames from the observation\n",
    "        frames_input = Input(atari_shape, name=\"frames\")\n",
    "\n",
    "        # Actions as input\n",
    "        action_mask = Input((self.action_size,), name=\"action_mask\")\n",
    "\n",
    "        # Normalize the frames from [0, 255] to [0, 1]\n",
    "        normalized = Lambda(lambda x: x / 255.0, name=\"normalization\")(frames_input)\n",
    "\n",
    "        # \"The first hidden layer convolves 16 8×8 filters with stride 4 with the \n",
    "        # input image and applies a rectifier nonlinearity.\"\n",
    "        # Results in an output shape of (20, 20, 16)\n",
    "        conv1 = Conv2D(\n",
    "            filters=16,\n",
    "            kernel_size=(8, 8),\n",
    "            strides=(4, 4),\n",
    "            activation=\"relu\"\n",
    "        )(normalized)\n",
    "\n",
    "        # \"The second hidden layer convolves 32 4×4 filters with stride 2, again followed \n",
    "        # by a rectifier nonlinearity.\" \n",
    "        # Results in an output shape of (9, 9, 32)\n",
    "        conv2 = Conv2D(\n",
    "            filters=32,\n",
    "            kernel_size=(4,4),\n",
    "            strides=(2,2),\n",
    "            activation=\"relu\"\n",
    "        )(conv1)\n",
    "\n",
    "        # Flattening the last convolutional layer.\n",
    "        conv_flattened = Flatten()(conv2)\n",
    "\n",
    "        # \"The final hidden layer is fully-connected and consists of 256 rectifier units.\"\n",
    "        hidden = Dense(units=256, activation='relu')(conv_flattened)\n",
    "\n",
    "        # \"The output layer is a fully-connected linear layer with a single output \n",
    "        # for each valid action.\"\n",
    "        output = Dense(self.action_size)(hidden)\n",
    "\n",
    "        # Multiply the output with the action mask to get only one action output\n",
    "        filtered_output = multiply([output, action_mask])\n",
    "\n",
    "        model = Model(inputs=[frames_input, action_mask], outputs=filtered_output)\n",
    "        model.compile(loss=huber_loss, optimizer=Adam(learning_rate=self.alpha), metrics=None)\n",
    "\n",
    "        return model\n",
    "\n",
    "\n",
    "    def act(self, state: LazyFrames) -> int:\n",
    "        \"\"\"Selects the action to be executed based on the given state.\n",
    "\n",
    "        Implements epsilon greedy exploration strategy, i.e. with a probability of\n",
    "        epsilon, a random action is selected.\n",
    "\n",
    "        Args:\n",
    "            state [LazyFrames]: LazyFrames object representing the state based on 4 stacked observations (images)\n",
    "\n",
    "        Returns:\n",
    "            action [int]\n",
    "        \"\"\"\n",
    "\n",
    "        if np.random.rand() <= self.epsilon:\n",
    "            action = env.action_space.sample()\n",
    "        else:\n",
    "            # ! TODO self.model.predict oder self.target_model.predict?\n",
    "            q_values = self.model.predict([[np.array(state)], self.action_mask])\n",
    "            action = np.argmax(q_values)\n",
    "        return action\n",
    "\n",
    "        \n",
    "    def train(self, experience: tuple[LazyFrames, int, LazyFrames, float, bool]):\n",
    "        \"\"\"Stores the experience in memory. If memory is full trains network by replay.\n",
    "\n",
    "        Args:\n",
    "            experience [tuple]: Tuple of state, action, next state, reward, done.\n",
    "\n",
    "        Returns:\n",
    "            None\n",
    "        \"\"\"\n",
    "        \n",
    "        self.memory.append(experience)\n",
    "        \n",
    "        #  - Update epsilon as long as it is not minimal\n",
    "        #  - Update weights of the target model (syn of the two models)\n",
    "        #  - Execute replay\n",
    "        if self.step >= self.start_replay_step:\n",
    "            if self.epsilon > self.epsilon_min:\n",
    "                self.epsilon -= self.epsilon_decay\n",
    "            if self.step % self.target_model_update_interval == 0:\n",
    "                self.target_model.set_weights(self.model.get_weights())\n",
    "            self._replay()\n",
    "\n",
    "        self.step += 1\n",
    "\n",
    "\n",
    "    def _replay(self) -> None:\n",
    "        \"\"\"Gets random experiences from memory for batch update of Q-function.\n",
    "\n",
    "        Returns:\n",
    "            None\n",
    "        \"\"\"\n",
    "\n",
    "        states, actions, next_states, rewards, dones = [np.array(memory) for memory in zip(*sample(self.memory, self.batch_size))]\n",
    "\n",
    "        # ! Can be left out if useless\n",
    "        assert all(isinstance(x, np.ndarray) for x in (states, actions, rewards, next_states, dones)), \\\n",
    "            \"All experience batches should be of type np.ndarray.\"\n",
    "        assert states.shape == (self.batch_size, 84, 84, 4), \\\n",
    "            f\"States shape should be: {(self.batch_size, 84, 84, 4)}\"\n",
    "        assert actions.shape == (self.batch_size,), f\"Actions shape should be: {(self.batch_size,)}\"\n",
    "        assert rewards.shape == (self.batch_size,), f\"Rewards shape should be: {(self.batch_size,)}\"\n",
    "        assert next_states.shape == (self.batch_size, 84, 84, 4), \\\n",
    "            f\"Next states shape should be: {(self.batch_size, 84, 84, 4)}\"\n",
    "        assert dones.shape == (self.batch_size,), f\"Dones shape should be: {(self.batch_size,)}\"\n",
    "\n",
    "        # Predict the Q values of the next states. Passing ones as the action mask.\n",
    "        next_q_values = self.target_model.predict([next_states, self.action_mask_batch], verbose=0)\n",
    "\n",
    "        # Calculate the Q values.\n",
    "        # - Terminal states get the reward\n",
    "        # - Non-terminal states get reward + gamma * max next_state q_value\n",
    "        q_values = [reward + (1 - done) * self.gamma * np.max(next_q_value) for done, reward, next_q_value in zip(dones, rewards, next_q_values)]\n",
    "\n",
    "        # Create a one hot encoding of the actions (the selected action is 1 all others 0)\n",
    "        one_hot_actions = to_categorical(actions, num_classes=self.action_size)\n",
    "\n",
    "        # Create the target Q values based on the one hot encoding of the actions and the calculated Q values\n",
    "        # This can be seen as matrix multiplication\n",
    "        # q_values = [0.5, 0.7, 0.9]\n",
    "        # actions [[1. 0. 0. 0.]\n",
    "        #          [0. 0. 1. 0.]\n",
    "        #          [0. 0. 0. 1.]]\n",
    "        # output  [[0.5 0.  0.   0. ]\n",
    "        #          [0.  0.  0.7  0. ]\n",
    "        #          [0.  0.  0.9  0. ]]\n",
    "        target_q_values = np.array(q_values)[np.newaxis].T * one_hot_actions\n",
    "\n",
    "        # Fit the model with the given states and the selected actions as one hot vector and the target_q_values as y\n",
    "        self.model.fit(\n",
    "           x=[states, one_hot_actions],  # states and mask\n",
    "           y=target_q_values,  # target Q values\n",
    "           batch_size=self.batch_size,\n",
    "           verbose=0\n",
    "        )\n",
    "        \n"
   ]
  },
  {
   "cell_type": "code",
   "execution_count": 10,
   "metadata": {},
   "outputs": [],
   "source": [
    "def interact_with_environment(env, agent, n_episodes=600, max_steps=1000000, train=True, verbose=True):      \n",
    "    statistics = []\n",
    "    tb_logger = TensorBoardLogger(f'./logs/run-{datetime.now().strftime(\"%Y-%m-%d_%H:%M:%S\")}')\n",
    "    \n",
    "    with suppress(KeyboardInterrupt):\n",
    "        total_step = 0\n",
    "        for episode in range(n_episodes):\n",
    "            done = False\n",
    "            episode_reward = 0\n",
    "            state = env.reset()\n",
    "            episode_start_time = time.time()\n",
    "            episode_step = 0\n",
    "\n",
    "            while not done:\n",
    "                action = agent.act(state)\n",
    "                next_state, reward, done, _ = env.step(action)\n",
    "\n",
    "                if train:\n",
    "                    agent.train((state, action, next_state, reward, done))\n",
    "\n",
    "                if episode == 0:\n",
    "                    # for debug purpose log every state of first episode\n",
    "                    for obs in state:\n",
    "                        tb_logger.log_image(f'state_t{episode_step}:', tf_summary_image(np.array(obs, copy=False)),\n",
    "                                            global_step=total_step)\n",
    "                state = next_state\n",
    "                episode_reward += reward\n",
    "                episode_step += 1\n",
    "            \n",
    "            total_step += episode_step\n",
    "\n",
    "            if episode % 10 == 0:\n",
    "                speed = episode_step / (time.time() - episode_start_time)\n",
    "                tb_logger.log_scalar('score', episode_reward, global_step=total_step)\n",
    "                tb_logger.log_scalar('epsilon', agent.epsilon, global_step=total_step)\n",
    "                tb_logger.log_scalar('speed', speed, global_step=total_step)\n",
    "                if verbose:\n",
    "                    print(f'episode: {episode}/{n_episodes}, score: {episode_reward}, steps: {episode_step}, '\n",
    "                          f'total steps: {total_step}, e: {agent.epsilon:.3f}, speed: {speed:.2f} steps/s')\n",
    "\n",
    "            statistics.append({\n",
    "                'episode': episode,\n",
    "                'score': episode_reward,\n",
    "                'steps': episode_step\n",
    "            })\n",
    "                                  \n",
    "            if total_step >= max_steps:\n",
    "                break\n",
    "        \n",
    "    return statistics"
   ]
  },
  {
   "cell_type": "code",
   "execution_count": 11,
   "metadata": {},
   "outputs": [
    {
     "name": "stdout",
     "output_type": "stream",
     "text": [
      "episode: 0/400, score: 16.0, steps: 201, total steps: 201, e: 1.000, speed: 141.10 steps/s\n",
      "episode: 10/400, score: 45.0, steps: 432, total steps: 1934, e: 1.000, speed: 189.52 steps/s\n",
      "episode: 20/400, score: 14.0, steps: 235, total steps: 4080, e: 1.000, speed: 173.17 steps/s\n",
      "episode: 30/400, score: 55.0, steps: 348, total steps: 6095, e: 1.000, speed: 183.62 steps/s\n",
      "episode: 40/400, score: 3.0, steps: 51, total steps: 7632, e: 1.000, speed: 235.80 steps/s\n",
      "episode: 50/400, score: 7.0, steps: 35, total steps: 8927, e: 1.000, speed: 233.36 steps/s\n"
     ]
    },
    {
     "name": "stderr",
     "output_type": "stream",
     "text": [
      "/Users/sschwarzer/opt/anaconda3/lib/python3.9/site-packages/keras/engine/training_v1.py:2356: UserWarning: `Model.state_updates` will be removed in a future version. This property should not be used in TensorFlow 2.0, as `updates` are applied automatically.\n",
      "  updates=self.state_updates,\n"
     ]
    },
    {
     "data": {
      "image/png": "[encoded data removed]",
      "image/svg+xml": "<?xml version=\"1.0\" encoding=\"utf-8\" standalone=\"no\"?>\n<!DOCTYPE svg PUBLIC \"-//W3C//DTD SVG 1.1//EN\"\n  \"http://www.w3.org/Graphics/SVG/1.1/DTD/svg11.dtd\">\n<svg xmlns:xlink=\"http://www.w3.org/1999/xlink\" width=\"581.616625pt\" height=\"297.190125pt\" viewBox=\"0 0 581.616625 297.190125\" xmlns=\"http://www.w3.org/2000/svg\" version=\"1.1\">\n <metadata>\n  <rdf:RDF xmlns:dc=\"http://purl.org/dc/elements/1.1/\" xmlns:cc=\"http://creativecommons.org/ns#\" xmlns:rdf=\"http://www.w3.org/1999/02/22-rdf-syntax-ns#\">\n   <cc:Work>\n    <dc:type rdf:resource=\"http://purl.org/dc/dcmitype/StillImage\"/>\n    <dc:date>2023-01-03T12:27:38.817200</dc:date>\n    <dc:format>image/svg+xml</dc:format>\n    <dc:creator>\n     <cc:Agent>\n      <dc:title>Matplotlib v3.5.3, https://matplotlib.org/</dc:title>\n     </cc:Agent>\n    </dc:creator>\n   </cc:Work>\n  </rdf:RDF>\n </metadata>\n <defs>\n  <style type=\"text/css\">*{stroke-linejoin: round; stroke-linecap: butt}</style>\n </defs>\n <g id=\"figure_1\">\n  <g id=\"patch_1\">\n   <path d=\"M 0 297.190125 \nL 581.616625 297.190125 \nL 581.616625 0 \nL 0 0 \nz\n\" style=\"fill: #ffffff\"/>\n  </g>\n  <g id=\"axes_1\">\n   <g id=\"patch_2\">\n    <path d=\"M 26.925 273.312 \nL 384.045 273.312 \nL 384.045 7.2 \nL 26.925 7.2 \nz\n\" style=\"fill: #ffffff\"/>\n   </g>\n   <g id=\"matplotlib.axis_1\">\n    <g id=\"xtick_1\">\n     <g id=\"line2d_1\">\n      <defs>\n       <path id=\"m7354bb4845\" d=\"M 0 0 \nL 0 3.5 \n\" style=\"stroke: #000000; stroke-width: 0.8\"/>\n      </defs>\n      <g>\n       <use xlink:href=\"#m7354bb4845\" x=\"43.157727\" y=\"273.312\" style=\"stroke: #000000; stroke-width: 0.8\"/>\n      </g>\n     </g>\n     <g id=\"text_1\">\n      <!-- 0 -->\n      <g transform=\"translate(39.976477 287.910437)scale(0.1 -0.1)\">\n       <defs>\n        <path id=\"DejaVuSans-30\" d=\"M 2034 4250 \nQ 1547 4250 1301 3770 \nQ 1056 3291 1056 2328 \nQ 1056 1369 1301 889 \nQ 1547 409 2034 409 \nQ 2525 409 2770 889 \nQ 3016 1369 3016 2328 \nQ 3016 3291 2770 3770 \nQ 2525 4250 2034 4250 \nz\nM 2034 4750 \nQ 2819 4750 3233 4129 \nQ 3647 3509 3647 2328 \nQ 3647 1150 3233 529 \nQ 2819 -91 2034 -91 \nQ 1250 -91 836 529 \nQ 422 1150 422 2328 \nQ 422 3509 836 4129 \nQ 1250 4750 2034 4750 \nz\n\" transform=\"scale(0.015625)\"/>\n       </defs>\n       <use xlink:href=\"#DejaVuSans-30\"/>\n      </g>\n     </g>\n    </g>\n    <g id=\"xtick_2\">\n     <g id=\"line2d_2\">\n      <g>\n       <use xlink:href=\"#m7354bb4845\" x=\"101.131753\" y=\"273.312\" style=\"stroke: #000000; stroke-width: 0.8\"/>\n      </g>\n     </g>\n     <g id=\"text_2\">\n      <!-- 10 -->\n      <g transform=\"translate(94.769253 287.910437)scale(0.1 -0.1)\">\n       <defs>\n        <path id=\"DejaVuSans-31\" d=\"M 794 531 \nL 1825 531 \nL 1825 4091 \nL 703 3866 \nL 703 4441 \nL 1819 4666 \nL 2450 4666 \nL 2450 531 \nL 3481 531 \nL 3481 0 \nL 794 0 \nL 794 531 \nz\n\" transform=\"scale(0.015625)\"/>\n       </defs>\n       <use xlink:href=\"#DejaVuSans-31\"/>\n       <use xlink:href=\"#DejaVuSans-30\" x=\"63.623047\"/>\n      </g>\n     </g>\n    </g>\n    <g id=\"xtick_3\">\n     <g id=\"line2d_3\">\n      <g>\n       <use xlink:href=\"#m7354bb4845\" x=\"159.105779\" y=\"273.312\" style=\"stroke: #000000; stroke-width: 0.8\"/>\n      </g>\n     </g>\n     <g id=\"text_3\">\n      <!-- 20 -->\n      <g transform=\"translate(152.743279 287.910437)scale(0.1 -0.1)\">\n       <defs>\n        <path id=\"DejaVuSans-32\" d=\"M 1228 531 \nL 3431 531 \nL 3431 0 \nL 469 0 \nL 469 531 \nQ 828 903 1448 1529 \nQ 2069 2156 2228 2338 \nQ 2531 2678 2651 2914 \nQ 2772 3150 2772 3378 \nQ 2772 3750 2511 3984 \nQ 2250 4219 1831 4219 \nQ 1534 4219 1204 4116 \nQ 875 4013 500 3803 \nL 500 4441 \nQ 881 4594 1212 4672 \nQ 1544 4750 1819 4750 \nQ 2544 4750 2975 4387 \nQ 3406 4025 3406 3419 \nQ 3406 3131 3298 2873 \nQ 3191 2616 2906 2266 \nQ 2828 2175 2409 1742 \nQ 1991 1309 1228 531 \nz\n\" transform=\"scale(0.015625)\"/>\n       </defs>\n       <use xlink:href=\"#DejaVuSans-32\"/>\n       <use xlink:href=\"#DejaVuSans-30\" x=\"63.623047\"/>\n      </g>\n     </g>\n    </g>\n    <g id=\"xtick_4\">\n     <g id=\"line2d_4\">\n      <g>\n       <use xlink:href=\"#m7354bb4845\" x=\"217.079805\" y=\"273.312\" style=\"stroke: #000000; stroke-width: 0.8\"/>\n      </g>\n     </g>\n     <g id=\"text_4\">\n      <!-- 30 -->\n      <g transform=\"translate(210.717305 287.910437)scale(0.1 -0.1)\">\n       <defs>\n        <path id=\"DejaVuSans-33\" d=\"M 2597 2516 \nQ 3050 2419 3304 2112 \nQ 3559 1806 3559 1356 \nQ 3559 666 3084 287 \nQ 2609 -91 1734 -91 \nQ 1441 -91 1130 -33 \nQ 819 25 488 141 \nL 488 750 \nQ 750 597 1062 519 \nQ 1375 441 1716 441 \nQ 2309 441 2620 675 \nQ 2931 909 2931 1356 \nQ 2931 1769 2642 2001 \nQ 2353 2234 1838 2234 \nL 1294 2234 \nL 1294 2753 \nL 1863 2753 \nQ 2328 2753 2575 2939 \nQ 2822 3125 2822 3475 \nQ 2822 3834 2567 4026 \nQ 2313 4219 1838 4219 \nQ 1578 4219 1281 4162 \nQ 984 4106 628 3988 \nL 628 4550 \nQ 988 4650 1302 4700 \nQ 1616 4750 1894 4750 \nQ 2613 4750 3031 4423 \nQ 3450 4097 3450 3541 \nQ 3450 3153 3228 2886 \nQ 3006 2619 2597 2516 \nz\n\" transform=\"scale(0.015625)\"/>\n       </defs>\n       <use xlink:href=\"#DejaVuSans-33\"/>\n       <use xlink:href=\"#DejaVuSans-30\" x=\"63.623047\"/>\n      </g>\n     </g>\n    </g>\n    <g id=\"xtick_5\">\n     <g id=\"line2d_5\">\n      <g>\n       <use xlink:href=\"#m7354bb4845\" x=\"275.053831\" y=\"273.312\" style=\"stroke: #000000; stroke-width: 0.8\"/>\n      </g>\n     </g>\n     <g id=\"text_5\">\n      <!-- 40 -->\n      <g transform=\"translate(268.691331 287.910437)scale(0.1 -0.1)\">\n       <defs>\n        <path id=\"DejaVuSans-34\" d=\"M 2419 4116 \nL 825 1625 \nL 2419 1625 \nL 2419 4116 \nz\nM 2253 4666 \nL 3047 4666 \nL 3047 1625 \nL 3713 1625 \nL 3713 1100 \nL 3047 1100 \nL 3047 0 \nL 2419 0 \nL 2419 1100 \nL 313 1100 \nL 313 1709 \nL 2253 4666 \nz\n\" transform=\"scale(0.015625)\"/>\n       </defs>\n       <use xlink:href=\"#DejaVuSans-34\"/>\n       <use xlink:href=\"#DejaVuSans-30\" x=\"63.623047\"/>\n      </g>\n     </g>\n    </g>\n    <g id=\"xtick_6\">\n     <g id=\"line2d_6\">\n      <g>\n       <use xlink:href=\"#m7354bb4845\" x=\"333.027857\" y=\"273.312\" style=\"stroke: #000000; stroke-width: 0.8\"/>\n      </g>\n     </g>\n     <g id=\"text_6\">\n      <!-- 50 -->\n      <g transform=\"translate(326.665357 287.910437)scale(0.1 -0.1)\">\n       <defs>\n        <path id=\"DejaVuSans-35\" d=\"M 691 4666 \nL 3169 4666 \nL 3169 4134 \nL 1269 4134 \nL 1269 2991 \nQ 1406 3038 1543 3061 \nQ 1681 3084 1819 3084 \nQ 2600 3084 3056 2656 \nQ 3513 2228 3513 1497 \nQ 3513 744 3044 326 \nQ 2575 -91 1722 -91 \nQ 1428 -91 1123 -41 \nQ 819 9 494 109 \nL 494 744 \nQ 775 591 1075 516 \nQ 1375 441 1709 441 \nQ 2250 441 2565 725 \nQ 2881 1009 2881 1497 \nQ 2881 1984 2565 2268 \nQ 2250 2553 1709 2553 \nQ 1456 2553 1204 2497 \nQ 953 2441 691 2322 \nL 691 4666 \nz\n\" transform=\"scale(0.015625)\"/>\n       </defs>\n       <use xlink:href=\"#DejaVuSans-35\"/>\n       <use xlink:href=\"#DejaVuSans-30\" x=\"63.623047\"/>\n      </g>\n     </g>\n    </g>\n   </g>\n   <g id=\"matplotlib.axis_2\">\n    <g id=\"ytick_1\">\n     <g id=\"line2d_7\">\n      <defs>\n       <path id=\"m4bc34a3820\" d=\"M 0 0 \nL -3.5 0 \n\" style=\"stroke: #000000; stroke-width: 0.8\"/>\n      </defs>\n      <g>\n       <use xlink:href=\"#m4bc34a3820\" x=\"26.925\" y=\"261.216\" style=\"stroke: #000000; stroke-width: 0.8\"/>\n      </g>\n     </g>\n     <g id=\"text_7\">\n      <!-- 0 -->\n      <g transform=\"translate(13.5625 265.015219)scale(0.1 -0.1)\">\n       <use xlink:href=\"#DejaVuSans-30\"/>\n      </g>\n     </g>\n    </g>\n    <g id=\"ytick_2\">\n     <g id=\"line2d_8\">\n      <g>\n       <use xlink:href=\"#m4bc34a3820\" x=\"26.925\" y=\"206.234182\" style=\"stroke: #000000; stroke-width: 0.8\"/>\n      </g>\n     </g>\n     <g id=\"text_8\">\n      <!-- 20 -->\n      <g transform=\"translate(7.2 210.033401)scale(0.1 -0.1)\">\n       <use xlink:href=\"#DejaVuSans-32\"/>\n       <use xlink:href=\"#DejaVuSans-30\" x=\"63.623047\"/>\n      </g>\n     </g>\n    </g>\n    <g id=\"ytick_3\">\n     <g id=\"line2d_9\">\n      <g>\n       <use xlink:href=\"#m4bc34a3820\" x=\"26.925\" y=\"151.252364\" style=\"stroke: #000000; stroke-width: 0.8\"/>\n      </g>\n     </g>\n     <g id=\"text_9\">\n      <!-- 40 -->\n      <g transform=\"translate(7.2 155.051582)scale(0.1 -0.1)\">\n       <use xlink:href=\"#DejaVuSans-34\"/>\n       <use xlink:href=\"#DejaVuSans-30\" x=\"63.623047\"/>\n      </g>\n     </g>\n    </g>\n    <g id=\"ytick_4\">\n     <g id=\"line2d_10\">\n      <g>\n       <use xlink:href=\"#m4bc34a3820\" x=\"26.925\" y=\"96.270545\" style=\"stroke: #000000; stroke-width: 0.8\"/>\n      </g>\n     </g>\n     <g id=\"text_10\">\n      <!-- 60 -->\n      <g transform=\"translate(7.2 100.069764)scale(0.1 -0.1)\">\n       <defs>\n        <path id=\"DejaVuSans-36\" d=\"M 2113 2584 \nQ 1688 2584 1439 2293 \nQ 1191 2003 1191 1497 \nQ 1191 994 1439 701 \nQ 1688 409 2113 409 \nQ 2538 409 2786 701 \nQ 3034 994 3034 1497 \nQ 3034 2003 2786 2293 \nQ 2538 2584 2113 2584 \nz\nM 3366 4563 \nL 3366 3988 \nQ 3128 4100 2886 4159 \nQ 2644 4219 2406 4219 \nQ 1781 4219 1451 3797 \nQ 1122 3375 1075 2522 \nQ 1259 2794 1537 2939 \nQ 1816 3084 2150 3084 \nQ 2853 3084 3261 2657 \nQ 3669 2231 3669 1497 \nQ 3669 778 3244 343 \nQ 2819 -91 2113 -91 \nQ 1303 -91 875 529 \nQ 447 1150 447 2328 \nQ 447 3434 972 4092 \nQ 1497 4750 2381 4750 \nQ 2619 4750 2861 4703 \nQ 3103 4656 3366 4563 \nz\n\" transform=\"scale(0.015625)\"/>\n       </defs>\n       <use xlink:href=\"#DejaVuSans-36\"/>\n       <use xlink:href=\"#DejaVuSans-30\" x=\"63.623047\"/>\n      </g>\n     </g>\n    </g>\n    <g id=\"ytick_5\">\n     <g id=\"line2d_11\">\n      <g>\n       <use xlink:href=\"#m4bc34a3820\" x=\"26.925\" y=\"41.288727\" style=\"stroke: #000000; stroke-width: 0.8\"/>\n      </g>\n     </g>\n     <g id=\"text_11\">\n      <!-- 80 -->\n      <g transform=\"translate(7.2 45.087946)scale(0.1 -0.1)\">\n       <defs>\n        <path id=\"DejaVuSans-38\" d=\"M 2034 2216 \nQ 1584 2216 1326 1975 \nQ 1069 1734 1069 1313 \nQ 1069 891 1326 650 \nQ 1584 409 2034 409 \nQ 2484 409 2743 651 \nQ 3003 894 3003 1313 \nQ 3003 1734 2745 1975 \nQ 2488 2216 2034 2216 \nz\nM 1403 2484 \nQ 997 2584 770 2862 \nQ 544 3141 544 3541 \nQ 544 4100 942 4425 \nQ 1341 4750 2034 4750 \nQ 2731 4750 3128 4425 \nQ 3525 4100 3525 3541 \nQ 3525 3141 3298 2862 \nQ 3072 2584 2669 2484 \nQ 3125 2378 3379 2068 \nQ 3634 1759 3634 1313 \nQ 3634 634 3220 271 \nQ 2806 -91 2034 -91 \nQ 1263 -91 848 271 \nQ 434 634 434 1313 \nQ 434 1759 690 2068 \nQ 947 2378 1403 2484 \nz\nM 1172 3481 \nQ 1172 3119 1398 2916 \nQ 1625 2713 2034 2713 \nQ 2441 2713 2670 2916 \nQ 2900 3119 2900 3481 \nQ 2900 3844 2670 4047 \nQ 2441 4250 2034 4250 \nQ 1625 4250 1398 4047 \nQ 1172 3844 1172 3481 \nz\n\" transform=\"scale(0.015625)\"/>\n       </defs>\n       <use xlink:href=\"#DejaVuSans-38\"/>\n       <use xlink:href=\"#DejaVuSans-30\" x=\"63.623047\"/>\n      </g>\n     </g>\n    </g>\n   </g>\n   <g id=\"line2d_12\">\n    <path d=\"M 43.157727 217.230545 \nL 48.95513 247.470545 \nL 54.752532 90.772364 \nL 60.549935 247.470545 \nL 66.347338 261.216 \nL 72.14474 250.219636 \nL 77.942143 228.226909 \nL 83.739545 261.216 \nL 89.536948 211.732364 \nL 95.334351 239.223273 \nL 101.131753 137.506909 \nL 106.929156 230.976 \nL 112.726558 239.223273 \nL 118.523961 148.503273 \nL 124.321364 96.270545 \nL 130.118766 244.721455 \nL 135.916169 230.976 \nL 141.713571 71.528727 \nL 147.510974 230.976 \nL 153.308377 247.470545 \nL 159.105779 222.728727 \nL 164.903182 90.772364 \nL 170.700584 118.263273 \nL 176.497987 241.972364 \nL 182.29539 250.219636 \nL 188.092792 93.521455 \nL 193.890195 225.477818 \nL 199.687597 252.968727 \nL 205.485 244.721455 \nL 211.282403 250.219636 \nL 217.079805 110.016 \nL 222.877208 173.245091 \nL 228.67461 255.717818 \nL 234.472013 200.736 \nL 240.269416 241.972364 \nL 246.066818 261.216 \nL 251.864221 197.986909 \nL 257.661623 230.976 \nL 263.459026 19.296 \nL 269.256429 208.983273 \nL 275.053831 252.968727 \nL 280.851234 63.281455 \nL 286.648636 164.997818 \nL 292.446039 236.474182 \nL 298.243442 255.717818 \nL 304.040844 233.725091 \nL 309.838247 258.466909 \nL 315.635649 255.717818 \nL 321.433052 250.219636 \nL 327.230455 222.728727 \nL 333.027857 241.972364 \nL 338.82526 178.743273 \nL 344.622662 107.266909 \nL 350.420065 250.219636 \nL 356.217468 258.466909 \nL 362.01487 239.223273 \nL 367.812273 230.976 \n\" clip-path=\"url(#p409aa6140e)\" style=\"fill: none; stroke: #1f77b4; stroke-width: 1.5; stroke-linecap: square\"/>\n   </g>\n   <g id=\"line2d_13\">\n    <path d=\"M 43.157727 205.703656 \nL 48.95513 205.703656 \nL 54.752532 205.703656 \nL 60.549935 205.703656 \nL 66.347338 205.703656 \nL 72.14474 205.703656 \nL 77.942143 205.703656 \nL 83.739545 205.703656 \nL 89.536948 205.703656 \nL 95.334351 205.703656 \nL 101.131753 205.703656 \nL 106.929156 205.703656 \nL 112.726558 205.703656 \nL 118.523961 205.703656 \nL 124.321364 205.703656 \nL 130.118766 205.703656 \nL 135.916169 205.703656 \nL 141.713571 205.703656 \nL 147.510974 205.703656 \nL 153.308377 205.703656 \nL 159.105779 205.703656 \nL 164.903182 205.703656 \nL 170.700584 205.703656 \nL 176.497987 205.703656 \nL 182.29539 205.703656 \nL 188.092792 205.703656 \nL 193.890195 205.703656 \nL 199.687597 205.703656 \nL 205.485 205.703656 \nL 211.282403 205.703656 \nL 217.079805 205.703656 \nL 222.877208 205.703656 \nL 228.67461 205.703656 \nL 234.472013 205.703656 \nL 240.269416 205.703656 \nL 246.066818 205.703656 \nL 251.864221 205.703656 \nL 257.661623 205.703656 \nL 263.459026 205.703656 \nL 269.256429 205.703656 \nL 275.053831 205.703656 \nL 280.851234 205.703656 \nL 286.648636 205.703656 \nL 292.446039 205.703656 \nL 298.243442 205.703656 \nL 304.040844 205.703656 \nL 309.838247 205.703656 \nL 315.635649 205.703656 \nL 321.433052 205.703656 \nL 327.230455 205.703656 \nL 333.027857 205.703656 \nL 338.82526 205.703656 \nL 344.622662 205.703656 \nL 350.420065 205.703656 \nL 356.217468 205.703656 \nL 362.01487 205.703656 \nL 367.812273 205.703656 \n\" clip-path=\"url(#p409aa6140e)\" style=\"fill: none; stroke: #ff7f0e; stroke-width: 1.5; stroke-linecap: square\"/>\n   </g>\n   <g id=\"patch_3\">\n    <path d=\"M 26.925 273.312 \nL 26.925 7.2 \n\" style=\"fill: none; stroke: #000000; stroke-width: 0.8; stroke-linejoin: miter; stroke-linecap: square\"/>\n   </g>\n   <g id=\"patch_4\">\n    <path d=\"M 384.045 273.312 \nL 384.045 7.2 \n\" style=\"fill: none; stroke: #000000; stroke-width: 0.8; stroke-linejoin: miter; stroke-linecap: square\"/>\n   </g>\n   <g id=\"patch_5\">\n    <path d=\"M 26.925 273.312 \nL 384.045 273.312 \n\" style=\"fill: none; stroke: #000000; stroke-width: 0.8; stroke-linejoin: miter; stroke-linecap: square\"/>\n   </g>\n   <g id=\"patch_6\">\n    <path d=\"M 26.925 7.2 \nL 384.045 7.2 \n\" style=\"fill: none; stroke: #000000; stroke-width: 0.8; stroke-linejoin: miter; stroke-linecap: square\"/>\n   </g>\n   <g id=\"legend_1\">\n    <g id=\"patch_7\">\n     <path d=\"M 403.901 39.55625 \nL 572.416625 39.55625 \nQ 574.416625 39.55625 574.416625 37.55625 \nL 574.416625 9.2 \nQ 574.416625 7.2 572.416625 7.2 \nL 403.901 7.2 \nQ 401.901 7.2 401.901 9.2 \nL 401.901 37.55625 \nQ 401.901 39.55625 403.901 39.55625 \nz\n\" style=\"fill: #ffffff; opacity: 0.8; stroke: #cccccc; stroke-linejoin: miter\"/>\n    </g>\n    <g id=\"line2d_14\">\n     <path d=\"M 405.901 15.298437 \nL 415.901 15.298437 \nL 425.901 15.298437 \n\" style=\"fill: none; stroke: #1f77b4; stroke-width: 1.5; stroke-linecap: square\"/>\n    </g>\n    <g id=\"text_12\">\n     <!-- scores -->\n     <g transform=\"translate(433.901 18.798437)scale(0.1 -0.1)\">\n      <defs>\n       <path id=\"DejaVuSans-73\" d=\"M 2834 3397 \nL 2834 2853 \nQ 2591 2978 2328 3040 \nQ 2066 3103 1784 3103 \nQ 1356 3103 1142 2972 \nQ 928 2841 928 2578 \nQ 928 2378 1081 2264 \nQ 1234 2150 1697 2047 \nL 1894 2003 \nQ 2506 1872 2764 1633 \nQ 3022 1394 3022 966 \nQ 3022 478 2636 193 \nQ 2250 -91 1575 -91 \nQ 1294 -91 989 -36 \nQ 684 19 347 128 \nL 347 722 \nQ 666 556 975 473 \nQ 1284 391 1588 391 \nQ 1994 391 2212 530 \nQ 2431 669 2431 922 \nQ 2431 1156 2273 1281 \nQ 2116 1406 1581 1522 \nL 1381 1569 \nQ 847 1681 609 1914 \nQ 372 2147 372 2553 \nQ 372 3047 722 3315 \nQ 1072 3584 1716 3584 \nQ 2034 3584 2315 3537 \nQ 2597 3491 2834 3397 \nz\n\" transform=\"scale(0.015625)\"/>\n       <path id=\"DejaVuSans-63\" d=\"M 3122 3366 \nL 3122 2828 \nQ 2878 2963 2633 3030 \nQ 2388 3097 2138 3097 \nQ 1578 3097 1268 2742 \nQ 959 2388 959 1747 \nQ 959 1106 1268 751 \nQ 1578 397 2138 397 \nQ 2388 397 2633 464 \nQ 2878 531 3122 666 \nL 3122 134 \nQ 2881 22 2623 -34 \nQ 2366 -91 2075 -91 \nQ 1284 -91 818 406 \nQ 353 903 353 1747 \nQ 353 2603 823 3093 \nQ 1294 3584 2113 3584 \nQ 2378 3584 2631 3529 \nQ 2884 3475 3122 3366 \nz\n\" transform=\"scale(0.015625)\"/>\n       <path id=\"DejaVuSans-6f\" d=\"M 1959 3097 \nQ 1497 3097 1228 2736 \nQ 959 2375 959 1747 \nQ 959 1119 1226 758 \nQ 1494 397 1959 397 \nQ 2419 397 2687 759 \nQ 2956 1122 2956 1747 \nQ 2956 2369 2687 2733 \nQ 2419 3097 1959 3097 \nz\nM 1959 3584 \nQ 2709 3584 3137 3096 \nQ 3566 2609 3566 1747 \nQ 3566 888 3137 398 \nQ 2709 -91 1959 -91 \nQ 1206 -91 779 398 \nQ 353 888 353 1747 \nQ 353 2609 779 3096 \nQ 1206 3584 1959 3584 \nz\n\" transform=\"scale(0.015625)\"/>\n       <path id=\"DejaVuSans-72\" d=\"M 2631 2963 \nQ 2534 3019 2420 3045 \nQ 2306 3072 2169 3072 \nQ 1681 3072 1420 2755 \nQ 1159 2438 1159 1844 \nL 1159 0 \nL 581 0 \nL 581 3500 \nL 1159 3500 \nL 1159 2956 \nQ 1341 3275 1631 3429 \nQ 1922 3584 2338 3584 \nQ 2397 3584 2469 3576 \nQ 2541 3569 2628 3553 \nL 2631 2963 \nz\n\" transform=\"scale(0.015625)\"/>\n       <path id=\"DejaVuSans-65\" d=\"M 3597 1894 \nL 3597 1613 \nL 953 1613 \nQ 991 1019 1311 708 \nQ 1631 397 2203 397 \nQ 2534 397 2845 478 \nQ 3156 559 3463 722 \nL 3463 178 \nQ 3153 47 2828 -22 \nQ 2503 -91 2169 -91 \nQ 1331 -91 842 396 \nQ 353 884 353 1716 \nQ 353 2575 817 3079 \nQ 1281 3584 2069 3584 \nQ 2775 3584 3186 3129 \nQ 3597 2675 3597 1894 \nz\nM 3022 2063 \nQ 3016 2534 2758 2815 \nQ 2500 3097 2075 3097 \nQ 1594 3097 1305 2825 \nQ 1016 2553 972 2059 \nL 3022 2063 \nz\n\" transform=\"scale(0.015625)\"/>\n      </defs>\n      <use xlink:href=\"#DejaVuSans-73\"/>\n      <use xlink:href=\"#DejaVuSans-63\" x=\"52.099609\"/>\n      <use xlink:href=\"#DejaVuSans-6f\" x=\"107.080078\"/>\n      <use xlink:href=\"#DejaVuSans-72\" x=\"168.261719\"/>\n      <use xlink:href=\"#DejaVuSans-65\" x=\"207.125\"/>\n      <use xlink:href=\"#DejaVuSans-73\" x=\"268.648438\"/>\n     </g>\n    </g>\n    <g id=\"line2d_15\">\n     <path d=\"M 405.901 29.976562 \nL 415.901 29.976562 \nL 425.901 29.976562 \n\" style=\"fill: none; stroke: #ff7f0e; stroke-width: 1.5; stroke-linecap: square\"/>\n    </g>\n    <g id=\"text_13\">\n     <!-- mean 20.19298245614035 -->\n     <g transform=\"translate(433.901 33.476562)scale(0.1 -0.1)\">\n      <defs>\n       <path id=\"DejaVuSans-6d\" d=\"M 3328 2828 \nQ 3544 3216 3844 3400 \nQ 4144 3584 4550 3584 \nQ 5097 3584 5394 3201 \nQ 5691 2819 5691 2113 \nL 5691 0 \nL 5113 0 \nL 5113 2094 \nQ 5113 2597 4934 2840 \nQ 4756 3084 4391 3084 \nQ 3944 3084 3684 2787 \nQ 3425 2491 3425 1978 \nL 3425 0 \nL 2847 0 \nL 2847 2094 \nQ 2847 2600 2669 2842 \nQ 2491 3084 2119 3084 \nQ 1678 3084 1418 2786 \nQ 1159 2488 1159 1978 \nL 1159 0 \nL 581 0 \nL 581 3500 \nL 1159 3500 \nL 1159 2956 \nQ 1356 3278 1631 3431 \nQ 1906 3584 2284 3584 \nQ 2666 3584 2933 3390 \nQ 3200 3197 3328 2828 \nz\n\" transform=\"scale(0.015625)\"/>\n       <path id=\"DejaVuSans-61\" d=\"M 2194 1759 \nQ 1497 1759 1228 1600 \nQ 959 1441 959 1056 \nQ 959 750 1161 570 \nQ 1363 391 1709 391 \nQ 2188 391 2477 730 \nQ 2766 1069 2766 1631 \nL 2766 1759 \nL 2194 1759 \nz\nM 3341 1997 \nL 3341 0 \nL 2766 0 \nL 2766 531 \nQ 2569 213 2275 61 \nQ 1981 -91 1556 -91 \nQ 1019 -91 701 211 \nQ 384 513 384 1019 \nQ 384 1609 779 1909 \nQ 1175 2209 1959 2209 \nL 2766 2209 \nL 2766 2266 \nQ 2766 2663 2505 2880 \nQ 2244 3097 1772 3097 \nQ 1472 3097 1187 3025 \nQ 903 2953 641 2809 \nL 641 3341 \nQ 956 3463 1253 3523 \nQ 1550 3584 1831 3584 \nQ 2591 3584 2966 3190 \nQ 3341 2797 3341 1997 \nz\n\" transform=\"scale(0.015625)\"/>\n       <path id=\"DejaVuSans-6e\" d=\"M 3513 2113 \nL 3513 0 \nL 2938 0 \nL 2938 2094 \nQ 2938 2591 2744 2837 \nQ 2550 3084 2163 3084 \nQ 1697 3084 1428 2787 \nQ 1159 2491 1159 1978 \nL 1159 0 \nL 581 0 \nL 581 3500 \nL 1159 3500 \nL 1159 2956 \nQ 1366 3272 1645 3428 \nQ 1925 3584 2291 3584 \nQ 2894 3584 3203 3211 \nQ 3513 2838 3513 2113 \nz\n\" transform=\"scale(0.015625)\"/>\n       <path id=\"DejaVuSans-20\" transform=\"scale(0.015625)\"/>\n       <path id=\"DejaVuSans-2e\" d=\"M 684 794 \nL 1344 794 \nL 1344 0 \nL 684 0 \nL 684 794 \nz\n\" transform=\"scale(0.015625)\"/>\n       <path id=\"DejaVuSans-39\" d=\"M 703 97 \nL 703 672 \nQ 941 559 1184 500 \nQ 1428 441 1663 441 \nQ 2288 441 2617 861 \nQ 2947 1281 2994 2138 \nQ 2813 1869 2534 1725 \nQ 2256 1581 1919 1581 \nQ 1219 1581 811 2004 \nQ 403 2428 403 3163 \nQ 403 3881 828 4315 \nQ 1253 4750 1959 4750 \nQ 2769 4750 3195 4129 \nQ 3622 3509 3622 2328 \nQ 3622 1225 3098 567 \nQ 2575 -91 1691 -91 \nQ 1453 -91 1209 -44 \nQ 966 3 703 97 \nz\nM 1959 2075 \nQ 2384 2075 2632 2365 \nQ 2881 2656 2881 3163 \nQ 2881 3666 2632 3958 \nQ 2384 4250 1959 4250 \nQ 1534 4250 1286 3958 \nQ 1038 3666 1038 3163 \nQ 1038 2656 1286 2365 \nQ 1534 2075 1959 2075 \nz\n\" transform=\"scale(0.015625)\"/>\n      </defs>\n      <use xlink:href=\"#DejaVuSans-6d\"/>\n      <use xlink:href=\"#DejaVuSans-65\" x=\"97.412109\"/>\n      <use xlink:href=\"#DejaVuSans-61\" x=\"158.935547\"/>\n      <use xlink:href=\"#DejaVuSans-6e\" x=\"220.214844\"/>\n      <use xlink:href=\"#DejaVuSans-20\" x=\"283.59375\"/>\n      <use xlink:href=\"#DejaVuSans-32\" x=\"315.380859\"/>\n      <use xlink:href=\"#DejaVuSans-30\" x=\"379.003906\"/>\n      <use xlink:href=\"#DejaVuSans-2e\" x=\"442.626953\"/>\n      <use xlink:href=\"#DejaVuSans-31\" x=\"474.414062\"/>\n      <use xlink:href=\"#DejaVuSans-39\" x=\"538.037109\"/>\n      <use xlink:href=\"#DejaVuSans-32\" x=\"601.660156\"/>\n      <use xlink:href=\"#DejaVuSans-39\" x=\"665.283203\"/>\n      <use xlink:href=\"#DejaVuSans-38\" x=\"728.90625\"/>\n      <use xlink:href=\"#DejaVuSans-32\" x=\"792.529297\"/>\n      <use xlink:href=\"#DejaVuSans-34\" x=\"856.152344\"/>\n      <use xlink:href=\"#DejaVuSans-35\" x=\"919.775391\"/>\n      <use xlink:href=\"#DejaVuSans-36\" x=\"983.398438\"/>\n      <use xlink:href=\"#DejaVuSans-31\" x=\"1047.021484\"/>\n      <use xlink:href=\"#DejaVuSans-34\" x=\"1110.644531\"/>\n      <use xlink:href=\"#DejaVuSans-30\" x=\"1174.267578\"/>\n      <use xlink:href=\"#DejaVuSans-33\" x=\"1237.890625\"/>\n      <use xlink:href=\"#DejaVuSans-35\" x=\"1301.513672\"/>\n     </g>\n    </g>\n   </g>\n  </g>\n </g>\n <defs>\n  <clipPath id=\"p409aa6140e\">\n   <rect x=\"26.925\" y=\"7.2\" width=\"357.12\" height=\"266.112\"/>\n  </clipPath>\n </defs>\n</svg>\n",
      "text/plain": [
       "<Figure size 640x480 with 1 Axes>"
      ]
     },
     "metadata": {},
     "output_type": "display_data"
    }
   ],
   "source": [
    "action_size = env.action_space.n\n",
    "state_size = env.observation_space.shape[0]\n",
    "\n",
    "# Hyperparams (should be sufficient)\n",
    "annealing_steps = 100000  # not episodes!\n",
    "gamma = 0.99\n",
    "epsilon = 1.0\n",
    "epsilon_min = 0.01\n",
    "epsilon_decay = (epsilon - epsilon_min) / annealing_steps\n",
    "alpha = 0.0001\n",
    "batch_size = 64\n",
    "memory_size = 10000\n",
    "start_replay_step = 10000\n",
    "target_model_update_interval = 1000\n",
    "train_freq = 4\n",
    "\n",
    "agent = DQNAgent(action_size=action_size, state_size=state_size, gamma=gamma, \n",
    "                 epsilon=epsilon, epsilon_decay=epsilon_decay, epsilon_min=epsilon_min, \n",
    "                 alpha=alpha, batch_size=batch_size, memory_size=memory_size,\n",
    "                 start_replay_step=start_replay_step, \n",
    "                 target_model_update_interval=target_model_update_interval, train_freq=train_freq)\n",
    "\n",
    "statistics = interact_with_environment(env, agent, n_episodes=400, verbose=True)\n",
    "env.close()\n",
    "plot_statistics(statistics)"
   ]
  },
  {
   "attachments": {},
   "cell_type": "markdown",
   "metadata": {},
   "source": [
    "## To-Dos\n",
    "\n",
    "- Create on place for hyperparameters for inside the model and pass it on\n",
    "  - e. g. optimizer, different metrics, checkpointing for the internal model, etc."
   ]
  },
  {
   "cell_type": "markdown",
   "metadata": {},
   "source": []
  }
 ],
 "metadata": {
  "kernelspec": {
   "display_name": "base",
   "language": "python",
   "name": "python3"
  },
  "language_info": {
   "codemirror_mode": {
    "name": "ipython",
    "version": 3
   },
   "file_extension": ".py",
   "mimetype": "text/x-python",
   "name": "python",
   "nbconvert_exporter": "python",
   "pygments_lexer": "ipython3",
   "version": "3.9.15"
  },
  "orig_nbformat": 4,
  "vscode": {
   "interpreter": {
    "hash": "119d84cb8c3b84b6d48a93e2933b395fcb363c6d1cda3c0de52c91f1ece8e0fb"
   }
  }
 },
 "nbformat": 4,
 "nbformat_minor": 2
}
