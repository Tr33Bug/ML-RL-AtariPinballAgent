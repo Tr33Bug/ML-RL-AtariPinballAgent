{
 "cells": [
  {
   "attachments": {},
   "cell_type": "markdown",
   "metadata": {},
   "source": [
    "# RL Atari VideoPinball Agent\n",
    "\n",
    "Notebook to train a RL-agent to play *Atari VideoPinball* in a gym environment.\n",
    "\n",
    "Some usefull ressources:\n",
    "- [www.gymlibrary.dev/environments/atari/video_pinball](https://www.gymlibrary.dev/environments/atari/video_pinball/)\n",
    "- "
   ]
  },
  {
   "attachments": {},
   "cell_type": "markdown",
   "metadata": {},
   "source": [
    "## Analyse\n",
    "\n",
    "![Atari VideoPinball](https://www.gymlibrary.dev/_images/video_pinball.gif)"
   ]
  },
  {
   "attachments": {},
   "cell_type": "markdown",
   "metadata": {},
   "source": [
    "### Actionspace\n",
    "Reduce actionspace by using v0, v4 or specify full_action_space=False during initialization.\n",
    "\n",
    "|Num| Action    |\n",
    "|---|   ---     |\n",
    "|0  | NOOP      |\n",
    "|1  | FIRE      |\n",
    "|2  | UP        |\n",
    "|3  | RIGHT     |\n",
    "|4  | LEFT      |\n",
    "|5  | DOWN      |\n",
    "|6  | UPFIRE    |\n",
    "|7  | RIGHTFIRE |\n",
    "|8  | LEFTFIRE  |\n",
    "\n",
    "\n",
    "### Observation\n",
    "\n",
    "- 128Bytes Atari-RAM as Box-datatype\n",
    "- grayscale image as Box-datatype\n",
    "\n",
    "\n",
    "### Env Arguments\n",
    "\n",
    "```Python\n",
    "# create envirement with arguments\n",
    "env = gym.make(\"ALE/'VideoPinball-v5\", difficulty=0, obs_type='image', frameskip=1, repeat_action_probability=0.0)\n",
    "\n",
    "# version v0 and v4 not in ALE-namespace\n",
    "env = gym.make('VideoPinball-v0')\n",
    "\n",
    "```\n",
    "- difficulty --> `[0, 1]` (default = `0`)\n",
    "- mode --> `[0, 2]` (default = `0`) --> mode 1?\n",
    "- obs_type --> `['image', 'ram', 'rgb']`\n",
    "- frameskip, repeat_action_probability --> [AtariDoc](https://www.gymlibrary.dev/environments/atari/#stochasticity)\n",
    "- full_action_space --> `[True, False]` --> Use all available console actions on/of\n",
    "- render_mode\n",
    "    - `'human'` --> interactively display the screen\n",
    "    - `'rgb_array'` --> return the `rgb` key in step metadata with the current environment RGB frame.\n",
    "\n",
    "\n",
    "\n",
    "\n",
    "### Version History\n",
    "\n",
    "\n",
    "- v5: Stickiness was added back and stochastic frameskipping was removed. The entire action space is used by default. The environments are now in the “ALE” namespace.\n",
    "- v4: Stickiness of actions was removed\n",
    "- v0: Initial versions release (1.0.0)\n",
    "\n",
    "\n",
    "*Atari VideoPinball Documentation: [www.gymlibrary.dev/environments/atari/video_pinball](https://www.gymlibrary.dev/environments/atari/video_pinball/)*\n",
    "\n"
   ]
  },
  {
   "attachments": {},
   "cell_type": "markdown",
   "metadata": {},
   "source": [
    "---\n",
    "## Init"
   ]
  },
  {
   "cell_type": "code",
   "execution_count": null,
   "metadata": {},
   "outputs": [],
   "source": [
    "! pip install gym\n",
    "! pip install 'gym[atari]'\n",
    "! pip uninstall ale-py\n",
    "! pip install ale-py==0.8.0 --force-reinstall\n",
    "! pip install autorom\n"
   ]
  },
  {
   "cell_type": "code",
   "execution_count": 6,
   "metadata": {},
   "outputs": [
    {
     "name": "stdout",
     "output_type": "stream",
     "text": [
      "0.21.0\n",
      "0.8.0\n"
     ]
    }
   ],
   "source": [
    "# print version of gym\n",
    "import gym\n",
    "print(gym.__version__)\n",
    "\n",
    "# print version of ale-py\n",
    "import ale_py\n",
    "print(ale_py.__version__)\n"
   ]
  },
  {
   "cell_type": "code",
   "execution_count": 7,
   "metadata": {},
   "outputs": [],
   "source": [
    "# imports\n",
    "import gym\n",
    "import numpy as np\n",
    "import random\n",
    "import tensorflow as tf"
   ]
  },
  {
   "cell_type": "code",
   "execution_count": null,
   "metadata": {},
   "outputs": [],
   "source": [
    "env = gym.make(\"ALE/VideoPinball-v5\")"
   ]
  }
 ],
 "metadata": {
  "kernelspec": {
   "display_name": "Ki-Lab3.9",
   "language": "python",
   "name": "python3"
  },
  "language_info": {
   "codemirror_mode": {
    "name": "ipython",
    "version": 3
   },
   "file_extension": ".py",
   "mimetype": "text/x-python",
   "name": "python",
   "nbconvert_exporter": "python",
   "pygments_lexer": "ipython3",
   "version": "3.9.13"
  },
  "orig_nbformat": 4,
  "vscode": {
   "interpreter": {
    "hash": "401949f8f22344ab70dfcd116b53776ca8bac82eaa601e9464a5719ba1fa738c"
   }
  }
 },
 "nbformat": 4,
 "nbformat_minor": 2
}
