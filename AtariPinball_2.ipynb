{
 "cells": [
  {
   "cell_type": "markdown",
   "metadata": {
    "id": "F0CXP1j7ZE-y"
   },
   "source": [
    "# Video Pinball"
   ]
  },
  {
   "cell_type": "markdown",
   "metadata": {
    "id": "PfohG30UZE-1"
   },
   "source": [
    "This project aims to teach a reinforcement learning agent to play the game [Atari Video Pinball](https://gymnasium.farama.org/environments/atari/video_pinball/).  \n",
    "For this purpose, the Deep Q-Learning approach is followed using a neural network."
   ]
  },
  {
   "cell_type": "markdown",
   "metadata": {
    "id": "oha95PZYZE-2"
   },
   "source": [
    "## Information"
   ]
  },
  {
   "cell_type": "markdown",
   "metadata": {
    "id": "uto_yJs4ZE-3"
   },
   "source": [
    "General information:\n",
    "\n",
    "|                   |                                   |\n",
    "| ----------------- | --------------------------------- |\n",
    "| Action Space      | Discrete(18)                      |\n",
    "| Observation Space | (210, 160, 3)                     |\n",
    "| Observation High  | 255                               |\n",
    "| Observation Low   | 0                                 |\n",
    "| Import            | `gym.make(\"ALE/VideoPinball-v5\")` |\n"
   ]
  },
  {
   "cell_type": "markdown",
   "metadata": {
    "id": "hsq5OxhTZE-3"
   },
   "source": [
    "### Actions"
   ]
  },
  {
   "cell_type": "markdown",
   "metadata": {
    "id": "zZmT7C3NZE-3"
   },
   "source": [
    "The `Video Pinball` Game form the Atari (2600) environment has the following actions which are described in the [manual of the game](https://atariage.com/manual_html_page.php?SoftwareLabelID=588):\n",
    "**This is the reduced action space, which is available when choosing `v0`, `v4` or specifying `full_action_space=false` during initialization. Otherwise more actions will be available.**\n",
    "\n",
    "| Num | Action    | Description                                                                                  |\n",
    "| --- | --------- | -------------------------------------------------------------------------------------------- |\n",
    "| 0   | NOOP      | No Operation                                                                                 |\n",
    "| 1   | FIRE      | Press the red controller button to release the spring and shoot the ball into the playfield. |\n",
    "| 2   | UP        | Move the Joystick up to move both flippers at the same time.                                 |\n",
    "| 3   | RIGHT     | Move the Joystick to the right to move the right flipper up.                                 |\n",
    "| 4   | LEFT      | Move the Joystick to the left to move the left flipper up.                                   |\n",
    "| 5   | DOWN      | Pull the Joystick down (towards you) to bring the plunger back.                              |\n",
    "| 6   | UPFIRE    | \"Nudge\" the ball into upwards direction.                                                     |\n",
    "| 7   | RIGHTFIRE | \"Nudge\" the ball to the right.                                                               |\n",
    "| 8   | LEFTFIRE  | \"Nudge\" the ball to the left.                                                                |\n",
    "\n",
    "Furthermore it might be interesting to try different modes/difficulties of the game.\n"
   ]
  },
  {
   "cell_type": "markdown",
   "metadata": {
    "id": "8aXY11AEZE-4"
   },
   "source": [
    "### Difficulties"
   ]
  },
  {
   "cell_type": "markdown",
   "metadata": {
    "id": "mmu_V-S3ZE-5"
   },
   "source": [
    "There are two available difficulties:\n",
    "\n",
    "- `a` (aka. pinbal wizards) is for expert players and has two additional drain holes at the bottom\n",
    "- `b` is for the beginning/novice players"
   ]
  },
  {
   "cell_type": "markdown",
   "metadata": {
    "id": "pXbi9DXyZE-5"
   },
   "source": [
    "### Observations"
   ]
  },
  {
   "cell_type": "markdown",
   "metadata": {
    "id": "uopuLRE6ZE-5"
   },
   "source": [
    "By default, the environment returns the RGB image which is displayed to human players as an observation.  \n",
    "However it is possible to observe\n",
    "- The 128 Bytes of RAM of the console (`Box([0 ... 0], [255 ... 255], (128,), uint8)`)\n",
    "- A grayscale image (`Box([[0 ... 0] ... [0  ... 0]], [[255 ... 255] ... [255  ... 255]], (250, 160), uint8)`)\n",
    "\n",
    "instead. "
   ]
  },
  {
   "cell_type": "markdown",
   "metadata": {},
   "source": [
    "---"
   ]
  },
  {
   "cell_type": "markdown",
   "metadata": {
    "id": "NXoodpnfZE-6"
   },
   "source": [
    "## Preparation"
   ]
  },
  {
   "cell_type": "markdown",
   "metadata": {
    "id": "w0SEDNjFZE-6"
   },
   "source": [
    "### Installs"
   ]
  },
  {
   "cell_type": "code",
   "execution_count": 1,
   "metadata": {
    "colab": {
     "base_uri": "https://localhost:8080/"
    },
    "execution": {
     "iopub.execute_input": "2023-01-12T23:14:47.968349Z",
     "iopub.status.busy": "2023-01-12T23:14:47.967473Z",
     "iopub.status.idle": "2023-01-12T23:15:02.586922Z",
     "shell.execute_reply": "2023-01-12T23:15:02.585767Z",
     "shell.execute_reply.started": "2023-01-12T23:14:47.968262Z"
    },
    "id": "l5_4qIlyfODG",
    "outputId": "60bf481f-297c-4605-fb2b-5ad56edf87af"
   },
   "outputs": [
    {
     "name": "stdout",
     "output_type": "stream",
     "text": [
      "Get:1 http://security.ubuntu.com/ubuntu focal-security InRelease [114 kB]\n",
      "Get:2 https://deb.nodesource.com/node_16.x focal InRelease [4583 B]            \n",
      "Get:3 http://archive.ubuntu.com/ubuntu focal InRelease [265 kB]                \n",
      "Get:4 http://security.ubuntu.com/ubuntu focal-security/restricted amd64 Packages [1862 kB]\n",
      "Get:5 http://security.ubuntu.com/ubuntu focal-security/main amd64 Packages [2423 kB]\n",
      "Get:6 http://ppa.launchpad.net/deadsnakes/ppa/ubuntu focal InRelease [18.1 kB] \n",
      "Get:7 https://deb.nodesource.com/node_16.x focal/main amd64 Packages [773 B]   \n",
      "Get:8 http://security.ubuntu.com/ubuntu focal-security/multiverse amd64 Packages [27.7 kB]\n",
      "Get:9 http://security.ubuntu.com/ubuntu focal-security/universe amd64 Packages [979 kB]\n",
      "Get:10 http://archive.ubuntu.com/ubuntu focal-updates InRelease [114 kB]       \n",
      "Get:11 http://ppa.launchpad.net/deadsnakes/ppa/ubuntu focal/main amd64 Packages [29.5 kB]\n",
      "Get:12 http://archive.ubuntu.com/ubuntu focal-backports InRelease [108 kB]     \n",
      "Get:13 http://archive.ubuntu.com/ubuntu focal/multiverse amd64 Packages [177 kB]\n",
      "Get:14 http://archive.ubuntu.com/ubuntu focal/restricted amd64 Packages [33.4 kB]\n",
      "Get:15 http://archive.ubuntu.com/ubuntu focal/main amd64 Packages [1275 kB]\n",
      "Get:16 http://archive.ubuntu.com/ubuntu focal/universe amd64 Packages [11.3 MB]\n",
      "Get:17 http://archive.ubuntu.com/ubuntu focal-updates/restricted amd64 Packages [1986 kB]\n",
      "Get:18 http://archive.ubuntu.com/ubuntu focal-updates/multiverse amd64 Packages [31.2 kB]\n",
      "Get:19 http://archive.ubuntu.com/ubuntu focal-updates/main amd64 Packages [2896 kB]\n",
      "Get:20 http://archive.ubuntu.com/ubuntu focal-updates/universe amd64 Packages [1281 kB]\n",
      "Get:21 http://archive.ubuntu.com/ubuntu focal-backports/main amd64 Packages [55.2 kB]\n",
      "Get:22 http://archive.ubuntu.com/ubuntu focal-backports/universe amd64 Packages [28.6 kB]\n",
      "Fetched 25.1 MB in 3s (9891 kB/s)                           \n",
      "Reading package lists... Done\n",
      "Reading package lists... Done\n",
      "Building dependency tree       \n",
      "Reading state information... Done\n",
      "The following additional packages will be installed:\n",
      "  freeglut3 libfontenc1 libglu1-mesa libpython2-stdlib libpython2.7-minimal\n",
      "  libpython2.7-stdlib libunwind8 libxfont2 libxkbfile1 libxmuu1 python2\n",
      "  python2-minimal python2.7 python2.7-minimal x11-xkb-utils xauth xfonts-base\n",
      "  xfonts-encodings xfonts-utils xserver-common\n",
      "Suggested packages:\n",
      "  python-tk python-numpy libgle3 python2-doc python2.7-doc binfmt-support\n",
      "The following NEW packages will be installed:\n",
      "  freeglut3 libfontenc1 libglu1-mesa libpython2-stdlib libpython2.7-minimal\n",
      "  libpython2.7-stdlib libunwind8 libxfont2 libxkbfile1 libxmuu1 python-opengl\n",
      "  python2 python2-minimal python2.7 python2.7-minimal x11-xkb-utils xauth\n",
      "  xfonts-base xfonts-encodings xfonts-utils xserver-common xvfb\n",
      "0 upgraded, 22 newly installed, 0 to remove and 113 not upgraded.\n",
      "Need to get 12.3 MB of archives.\n",
      "After this operation, 34.9 MB of additional disk space will be used.\n",
      "Get:1 http://archive.ubuntu.com/ubuntu focal-updates/universe amd64 libpython2.7-minimal amd64 2.7.18-1~20.04.3 [336 kB]\n",
      "Get:2 http://archive.ubuntu.com/ubuntu focal-updates/universe amd64 python2.7-minimal amd64 2.7.18-1~20.04.3 [1280 kB]\n",
      "Get:3 http://archive.ubuntu.com/ubuntu focal/universe amd64 python2-minimal amd64 2.7.17-2ubuntu4 [27.5 kB]\n",
      "Get:4 http://archive.ubuntu.com/ubuntu focal-updates/universe amd64 libpython2.7-stdlib amd64 2.7.18-1~20.04.3 [1888 kB]\n",
      "Get:5 http://archive.ubuntu.com/ubuntu focal-updates/universe amd64 python2.7 amd64 2.7.18-1~20.04.3 [248 kB]\n",
      "Get:6 http://archive.ubuntu.com/ubuntu focal/universe amd64 libpython2-stdlib amd64 2.7.17-2ubuntu4 [7072 B]\n",
      "Get:7 http://archive.ubuntu.com/ubuntu focal/universe amd64 python2 amd64 2.7.17-2ubuntu4 [26.5 kB]\n",
      "Get:8 http://archive.ubuntu.com/ubuntu focal/main amd64 libxmuu1 amd64 2:1.1.3-0ubuntu1 [9728 B]\n",
      "Get:9 http://archive.ubuntu.com/ubuntu focal/main amd64 xauth amd64 1:1.1-0ubuntu1 [25.0 kB]\n",
      "Get:10 http://archive.ubuntu.com/ubuntu focal/universe amd64 freeglut3 amd64 2.8.1-3 [73.6 kB]\n",
      "Get:11 http://archive.ubuntu.com/ubuntu focal/main amd64 libfontenc1 amd64 1:1.1.4-0ubuntu1 [14.0 kB]\n",
      "Get:12 http://archive.ubuntu.com/ubuntu focal/main amd64 libunwind8 amd64 1.2.1-9build1 [47.6 kB]\n",
      "Get:13 http://archive.ubuntu.com/ubuntu focal/main amd64 libxfont2 amd64 1:2.0.3-1 [91.7 kB]\n",
      "Get:14 http://archive.ubuntu.com/ubuntu focal/main amd64 libxkbfile1 amd64 1:1.1.0-1 [65.3 kB]\n",
      "Get:15 http://archive.ubuntu.com/ubuntu focal/main amd64 libglu1-mesa amd64 9.0.1-1build1 [168 kB]\n",
      "Get:16 http://archive.ubuntu.com/ubuntu focal/universe amd64 python-opengl all 3.1.0+dfsg-2build1 [486 kB]\n",
      "Get:17 http://archive.ubuntu.com/ubuntu focal/main amd64 x11-xkb-utils amd64 7.7+5 [158 kB]\n",
      "Get:18 http://archive.ubuntu.com/ubuntu focal/main amd64 xfonts-encodings all 1:1.0.5-0ubuntu1 [573 kB]\n",
      "Get:19 http://archive.ubuntu.com/ubuntu focal/main amd64 xfonts-utils amd64 1:7.7+6 [91.5 kB]\n",
      "Get:20 http://archive.ubuntu.com/ubuntu focal/main amd64 xfonts-base all 1:1.0.5 [5896 kB]\n",
      "Get:21 http://archive.ubuntu.com/ubuntu focal-updates/main amd64 xserver-common all 2:1.20.13-1ubuntu1~20.04.5 [27.1 kB]\n",
      "Get:22 http://archive.ubuntu.com/ubuntu focal-updates/universe amd64 xvfb amd64 2:1.20.13-1ubuntu1~20.04.5 [780 kB]\n",
      "Fetched 12.3 MB in 0s (48.3 MB/s)\n",
      "Selecting previously unselected package libpython2.7-minimal:amd64.\n",
      "(Reading database ... 78556 files and directories currently installed.)\n",
      "Preparing to unpack .../0-libpython2.7-minimal_2.7.18-1~20.04.3_amd64.deb ...\n",
      "Unpacking libpython2.7-minimal:amd64 (2.7.18-1~20.04.3) ...\n",
      "Selecting previously unselected package python2.7-minimal.\n",
      "Preparing to unpack .../1-python2.7-minimal_2.7.18-1~20.04.3_amd64.deb ...\n",
      "Unpacking python2.7-minimal (2.7.18-1~20.04.3) ...\n",
      "Selecting previously unselected package python2-minimal.\n",
      "Preparing to unpack .../2-python2-minimal_2.7.17-2ubuntu4_amd64.deb ...\n",
      "Unpacking python2-minimal (2.7.17-2ubuntu4) ...\n",
      "Selecting previously unselected package libpython2.7-stdlib:amd64.\n",
      "Preparing to unpack .../3-libpython2.7-stdlib_2.7.18-1~20.04.3_amd64.deb ...\n",
      "Unpacking libpython2.7-stdlib:amd64 (2.7.18-1~20.04.3) ...\n",
      "Selecting previously unselected package python2.7.\n",
      "Preparing to unpack .../4-python2.7_2.7.18-1~20.04.3_amd64.deb ...\n",
      "Unpacking python2.7 (2.7.18-1~20.04.3) ...\n",
      "Selecting previously unselected package libpython2-stdlib:amd64.\n",
      "Preparing to unpack .../5-libpython2-stdlib_2.7.17-2ubuntu4_amd64.deb ...\n",
      "Unpacking libpython2-stdlib:amd64 (2.7.17-2ubuntu4) ...\n",
      "Setting up libpython2.7-minimal:amd64 (2.7.18-1~20.04.3) ...\n",
      "Setting up python2.7-minimal (2.7.18-1~20.04.3) ...\n",
      "Linking and byte-compiling packages for runtime python2.7...\n",
      "Setting up python2-minimal (2.7.17-2ubuntu4) ...\n",
      "Selecting previously unselected package python2.\n",
      "(Reading database ... 79303 files and directories currently installed.)\n",
      "Preparing to unpack .../00-python2_2.7.17-2ubuntu4_amd64.deb ...\n",
      "Unpacking python2 (2.7.17-2ubuntu4) ...\n",
      "Selecting previously unselected package libxmuu1:amd64.\n",
      "Preparing to unpack .../01-libxmuu1_2%3a1.1.3-0ubuntu1_amd64.deb ...\n",
      "Unpacking libxmuu1:amd64 (2:1.1.3-0ubuntu1) ...\n",
      "Selecting previously unselected package xauth.\n",
      "Preparing to unpack .../02-xauth_1%3a1.1-0ubuntu1_amd64.deb ...\n",
      "Unpacking xauth (1:1.1-0ubuntu1) ...\n",
      "Selecting previously unselected package freeglut3:amd64.\n",
      "Preparing to unpack .../03-freeglut3_2.8.1-3_amd64.deb ...\n",
      "Unpacking freeglut3:amd64 (2.8.1-3) ...\n",
      "Selecting previously unselected package libfontenc1:amd64.\n",
      "Preparing to unpack .../04-libfontenc1_1%3a1.1.4-0ubuntu1_amd64.deb ...\n",
      "Unpacking libfontenc1:amd64 (1:1.1.4-0ubuntu1) ...\n",
      "Selecting previously unselected package libunwind8:amd64.\n",
      "Preparing to unpack .../05-libunwind8_1.2.1-9build1_amd64.deb ...\n",
      "Unpacking libunwind8:amd64 (1.2.1-9build1) ...\n",
      "Selecting previously unselected package libxfont2:amd64.\n",
      "Preparing to unpack .../06-libxfont2_1%3a2.0.3-1_amd64.deb ...\n",
      "Unpacking libxfont2:amd64 (1:2.0.3-1) ...\n",
      "Selecting previously unselected package libxkbfile1:amd64.\n",
      "Preparing to unpack .../07-libxkbfile1_1%3a1.1.0-1_amd64.deb ...\n",
      "Unpacking libxkbfile1:amd64 (1:1.1.0-1) ...\n",
      "Selecting previously unselected package libglu1-mesa:amd64.\n",
      "Preparing to unpack .../08-libglu1-mesa_9.0.1-1build1_amd64.deb ...\n",
      "Unpacking libglu1-mesa:amd64 (9.0.1-1build1) ...\n",
      "Selecting previously unselected package python-opengl.\n",
      "Preparing to unpack .../09-python-opengl_3.1.0+dfsg-2build1_all.deb ...\n",
      "Unpacking python-opengl (3.1.0+dfsg-2build1) ...\n",
      "Selecting previously unselected package x11-xkb-utils.\n",
      "Preparing to unpack .../10-x11-xkb-utils_7.7+5_amd64.deb ...\n",
      "Unpacking x11-xkb-utils (7.7+5) ...\n",
      "Selecting previously unselected package xfonts-encodings.\n",
      "Preparing to unpack .../11-xfonts-encodings_1%3a1.0.5-0ubuntu1_all.deb ...\n",
      "Unpacking xfonts-encodings (1:1.0.5-0ubuntu1) ...\n",
      "Selecting previously unselected package xfonts-utils.\n",
      "Preparing to unpack .../12-xfonts-utils_1%3a7.7+6_amd64.deb ...\n",
      "Unpacking xfonts-utils (1:7.7+6) ...\n",
      "Selecting previously unselected package xfonts-base.\n",
      "Preparing to unpack .../13-xfonts-base_1%3a1.0.5_all.deb ...\n",
      "Unpacking xfonts-base (1:1.0.5) ...\n",
      "Selecting previously unselected package xserver-common.\n",
      "Preparing to unpack .../14-xserver-common_2%3a1.20.13-1ubuntu1~20.04.5_all.deb ...\n",
      "Unpacking xserver-common (2:1.20.13-1ubuntu1~20.04.5) ...\n",
      "Selecting previously unselected package xvfb.\n",
      "Preparing to unpack .../15-xvfb_2%3a1.20.13-1ubuntu1~20.04.5_amd64.deb ...\n",
      "Unpacking xvfb (2:1.20.13-1ubuntu1~20.04.5) ...\n",
      "Setting up freeglut3:amd64 (2.8.1-3) ...\n",
      "Setting up libunwind8:amd64 (1.2.1-9build1) ...\n",
      "Setting up libpython2.7-stdlib:amd64 (2.7.18-1~20.04.3) ...\n",
      "Setting up libfontenc1:amd64 (1:1.1.4-0ubuntu1) ...\n",
      "Setting up xfonts-encodings (1:1.0.5-0ubuntu1) ...\n",
      "Setting up libglu1-mesa:amd64 (9.0.1-1build1) ...\n",
      "Setting up libxkbfile1:amd64 (1:1.1.0-1) ...\n",
      "Setting up libxfont2:amd64 (1:2.0.3-1) ...\n",
      "Setting up libxmuu1:amd64 (2:1.1.3-0ubuntu1) ...\n",
      "Setting up python2.7 (2.7.18-1~20.04.3) ...\n",
      "Setting up libpython2-stdlib:amd64 (2.7.17-2ubuntu4) ...\n",
      "Setting up x11-xkb-utils (7.7+5) ...\n",
      "Setting up xfonts-utils (1:7.7+6) ...\n",
      "Setting up python2 (2.7.17-2ubuntu4) ...\n",
      "Setting up xfonts-base (1:1.0.5) ...\n",
      "Setting up xauth (1:1.1-0ubuntu1) ...\n",
      "Setting up xserver-common (2:1.20.13-1ubuntu1~20.04.5) ...\n",
      "Setting up python-opengl (3.1.0+dfsg-2build1) ...\n",
      "Setting up xvfb (2:1.20.13-1ubuntu1~20.04.5) ...\n",
      "Processing triggers for man-db (2.9.1-1) ...\n",
      "Processing triggers for fontconfig (2.13.1-2ubuntu3) ...\n",
      "Processing triggers for mime-support (3.64ubuntu1) ...\n",
      "Processing triggers for libc-bin (2.31-0ubuntu9.7) ...\n"
     ]
    }
   ],
   "source": [
    "!apt-get update\n",
    "!apt-get install -y xvfb python-opengl"
   ]
  },
  {
   "cell_type": "code",
   "execution_count": 2,
   "metadata": {
    "execution": {
     "iopub.execute_input": "2023-01-12T23:15:02.588958Z",
     "iopub.status.busy": "2023-01-12T23:15:02.588698Z",
     "iopub.status.idle": "2023-01-12T23:15:24.045759Z",
     "shell.execute_reply": "2023-01-12T23:15:24.044333Z",
     "shell.execute_reply.started": "2023-01-12T23:15:02.588932Z"
    }
   },
   "outputs": [
    {
     "name": "stdout",
     "output_type": "stream",
     "text": [
      "\u001b[33mWARNING: Running pip as the 'root' user can result in broken permissions and conflicting behaviour with the system package manager. It is recommended to use a virtual environment instead: https://pip.pypa.io/warnings/venv\u001b[0m\u001b[33m\n",
      "\u001b[0mNote: you may need to restart the kernel to use updated packages.\n",
      "\u001b[33mWARNING: Running pip as the 'root' user can result in broken permissions and conflicting behaviour with the system package manager. It is recommended to use a virtual environment instead: https://pip.pypa.io/warnings/venv\u001b[0m\u001b[33m\n",
      "\u001b[0mNote: you may need to restart the kernel to use updated packages.\n"
     ]
    }
   ],
   "source": [
    "%pip install -q --upgrade pip\n",
    "%pip install -q gym==0.21.0"
   ]
  },
  {
   "cell_type": "code",
   "execution_count": 3,
   "metadata": {
    "colab": {
     "base_uri": "https://localhost:8080/"
    },
    "execution": {
     "iopub.execute_input": "2023-01-12T23:15:24.048464Z",
     "iopub.status.busy": "2023-01-12T23:15:24.047996Z",
     "iopub.status.idle": "2023-01-12T23:15:30.635660Z",
     "shell.execute_reply": "2023-01-12T23:15:30.634650Z",
     "shell.execute_reply.started": "2023-01-12T23:15:24.048427Z"
    },
    "id": "DWU1zl7jZE-7",
    "outputId": "c0db7be7-9e0f-4fe6-c300-c4017a69be24"
   },
   "outputs": [
    {
     "name": "stdout",
     "output_type": "stream",
     "text": [
      "\u001b[33mWARNING: Running pip as the 'root' user can result in broken permissions and conflicting behaviour with the system package manager. It is recommended to use a virtual environment instead: https://pip.pypa.io/warnings/venv\u001b[0m\u001b[33m\n",
      "\u001b[0mNote: you may need to restart the kernel to use updated packages.\n",
      "\u001b[33mWARNING: Running pip as the 'root' user can result in broken permissions and conflicting behaviour with the system package manager. It is recommended to use a virtual environment instead: https://pip.pypa.io/warnings/venv\u001b[0m\u001b[33m\n",
      "\u001b[0mNote: you may need to restart the kernel to use updated packages.\n"
     ]
    }
   ],
   "source": [
    "%pip install -q matplotlib\n",
    "%pip install -q pyvirtualdisplay"
   ]
  },
  {
   "cell_type": "code",
   "execution_count": 4,
   "metadata": {
    "execution": {
     "iopub.execute_input": "2023-01-12T23:15:30.638993Z",
     "iopub.status.busy": "2023-01-12T23:15:30.638659Z",
     "iopub.status.idle": "2023-01-12T23:16:06.611096Z",
     "shell.execute_reply": "2023-01-12T23:16:06.610003Z",
     "shell.execute_reply.started": "2023-01-12T23:15:30.638954Z"
    }
   },
   "outputs": [
    {
     "name": "stdout",
     "output_type": "stream",
     "text": [
      "\u001b[33mWARNING: Running pip as the 'root' user can result in broken permissions and conflicting behaviour with the system package manager. It is recommended to use a virtual environment instead: https://pip.pypa.io/warnings/venv\u001b[0m\u001b[33m\n",
      "\u001b[0mNote: you may need to restart the kernel to use updated packages.\n"
     ]
    }
   ],
   "source": [
    "%pip install -q gym[atari]==0.12.5"
   ]
  },
  {
   "cell_type": "markdown",
   "metadata": {
    "id": "9f7F9DYhOUy-"
   },
   "source": [
    "### Download required files from Drive"
   ]
  },
  {
   "cell_type": "code",
   "execution_count": 5,
   "metadata": {
    "colab": {
     "base_uri": "https://localhost:8080/"
    },
    "execution": {
     "iopub.execute_input": "2023-01-12T23:16:06.613066Z",
     "iopub.status.busy": "2023-01-12T23:16:06.612789Z",
     "iopub.status.idle": "2023-01-12T23:16:06.623918Z",
     "shell.execute_reply": "2023-01-12T23:16:06.622684Z",
     "shell.execute_reply.started": "2023-01-12T23:16:06.613038Z"
    },
    "id": "X31W6SxqO2Rg",
    "outputId": "4eef9cbd-0e16-45e3-fda6-4d5078012242"
   },
   "outputs": [],
   "source": [
    "# import sys\n",
    "\n",
    "# if 'google.colab' in sys.modules:\n",
    "#     %pip install -q --upgrade gdown\n",
    "#     from gdown import download_folder\n",
    "\n",
    "#     download_folder(\"https://drive.google.com/drive/folders/1SW56nbccfHJtC6oGBIcp7XCeJDkKehGK\")"
   ]
  },
  {
   "cell_type": "markdown",
   "metadata": {
    "id": "fhpjsB9bZE-8"
   },
   "source": [
    "### Imports"
   ]
  },
  {
   "cell_type": "code",
   "execution_count": 21,
   "metadata": {
    "colab": {
     "base_uri": "https://localhost:8080/"
    },
    "execution": {
     "iopub.execute_input": "2023-01-12T23:17:38.689369Z",
     "iopub.status.busy": "2023-01-12T23:17:38.688784Z",
     "iopub.status.idle": "2023-01-12T23:17:38.699831Z",
     "shell.execute_reply": "2023-01-12T23:17:38.699166Z",
     "shell.execute_reply.started": "2023-01-12T23:17:38.689342Z"
    },
    "id": "iTdn0YfeZE-8",
    "outputId": "b80af935-b178-4b57-9b3a-605e41c16a7e"
   },
   "outputs": [],
   "source": [
    "import json\n",
    "import os\n",
    "import time\n",
    "from abc import ABC, abstractmethod\n",
    "from collections import deque\n",
    "from contextlib import suppress\n",
    "from datetime import datetime\n",
    "from random import sample\n",
    "from typing import Any, Tuple\n",
    "from IPython.display import display\n",
    "\n",
    "import gym\n",
    "import numpy as np\n",
    "import tensorflow as tf\n",
    "#from tensorflow import keras\n",
    "from tensorflow.keras import Model\n",
    "from tensorflow.keras.layers import Conv2D, Dense, Flatten, Input, Lambda, multiply\n",
    "from tensorflow.keras.losses import Huber\n",
    "from tensorflow.keras.optimizers import Adam\n",
    "from tensorflow.keras.utils import to_categorical\n",
    "\n",
    "from tensorflow.compat.v1.keras.backend import set_session\n",
    "from pyvirtualdisplay import Display\n",
    "import matplotlib.pyplot as plt\n",
    "%matplotlib inline\n",
    "\n",
    "# local files\n",
    "from external.abstract_agent import AbstractAgent\n",
    "from external.atari_helpers import LazyFrames, make_atari, wrap_deepmind\n",
    "from external.loggers import TensorBoardLogger, tf_summary_image\n",
    "from external.plot_utils import plot_statistics\n",
    "\n",
    "# \n",
    "import pickle\n",
    "from os import path, makedirs\n",
    "from datetime import datetime"
   ]
  },
  {
   "cell_type": "code",
   "execution_count": 7,
   "metadata": {
    "execution": {
     "iopub.execute_input": "2023-01-12T23:16:15.789270Z",
     "iopub.status.busy": "2023-01-12T23:16:15.788759Z",
     "iopub.status.idle": "2023-01-12T23:16:16.152244Z",
     "shell.execute_reply": "2023-01-12T23:16:16.151266Z",
     "shell.execute_reply.started": "2023-01-12T23:16:15.789239Z"
    },
    "id": "OXBi9qXufV-l"
   },
   "outputs": [
    {
     "data": {
      "text/plain": [
       "<matplotlib.pyplot._IonContext at 0x7fcac85e1160>"
      ]
     },
     "execution_count": 7,
     "metadata": {},
     "output_type": "execute_result"
    }
   ],
   "source": [
    "display = Display(visible=0, size=(1400, 900))\n",
    "display.start()\n",
    "\n",
    "is_ipython = 'inline' in plt.get_backend()\n",
    "if is_ipython:\n",
    "    from IPython import display\n",
    "    from IPython.display import SVG\n",
    "\n",
    "plt.ion()"
   ]
  },
  {
   "cell_type": "code",
   "execution_count": 8,
   "metadata": {
    "execution": {
     "iopub.execute_input": "2023-01-12T23:16:16.154056Z",
     "iopub.status.busy": "2023-01-12T23:16:16.153410Z",
     "iopub.status.idle": "2023-01-12T23:16:16.161890Z",
     "shell.execute_reply": "2023-01-12T23:16:16.158034Z",
     "shell.execute_reply.started": "2023-01-12T23:16:16.154023Z"
    }
   },
   "outputs": [],
   "source": [
    "tf.compat.v1.enable_eager_execution()"
   ]
  },
  {
   "cell_type": "markdown",
   "metadata": {
    "id": "IgU4OVMIZE-9"
   },
   "source": [
    "### Extended DQN-Agent"
   ]
  },
  {
   "cell_type": "code",
   "execution_count": 9,
   "metadata": {
    "execution": {
     "iopub.execute_input": "2023-01-12T23:16:16.163312Z",
     "iopub.status.busy": "2023-01-12T23:16:16.163049Z",
     "iopub.status.idle": "2023-01-12T23:16:16.178978Z",
     "shell.execute_reply": "2023-01-12T23:16:16.178075Z",
     "shell.execute_reply.started": "2023-01-12T23:16:16.163287Z"
    },
    "id": "iaJZTcGhZE-9"
   },
   "outputs": [],
   "source": [
    "class AbstractDQNAgent(AbstractAgent):\n",
    "    __slots__ = [\n",
    "        \"action_size\",\n",
    "        \"state_size\",\n",
    "        \"gamma\",\n",
    "        \"epsilon\",\n",
    "        \"epsilon_decay\",\n",
    "        \"epsilon_min\",\n",
    "        \"alpha\",\n",
    "        \"batch_size\",\n",
    "        \"memory_size\",\n",
    "        \"start_replay_step\",\n",
    "        \"target_model_update_interval\",\n",
    "        \"train_freq\",\n",
    "    ]\n",
    "\n",
    "    def __init__(self,\n",
    "                 action_size: int,\n",
    "                 state_size: int,\n",
    "                 gamma: float,\n",
    "                 epsilon: float,\n",
    "                 epsilon_decay: float,\n",
    "                 epsilon_min: float,\n",
    "                 alpha: float,\n",
    "                 batch_size: int,\n",
    "                 memory_size: int,\n",
    "                 start_replay_step: int,\n",
    "                 target_model_update_interval: int,\n",
    "                 train_freq: int,\n",
    "                 ):\n",
    "        self.action_size = action_size\n",
    "        self.state_size = state_size\n",
    "\n",
    "        self.replay_has_started = False\n",
    "\n",
    "        self.gamma = gamma\n",
    "        self.epsilon = epsilon\n",
    "        self.epsilon_decay = epsilon_decay\n",
    "        self.epsilon_min = epsilon_min\n",
    "        self.alpha = alpha\n",
    "\n",
    "        self.memory_size = memory_size\n",
    "        self.memory = deque(maxlen=self.memory_size)\n",
    "        self.batch_size = batch_size\n",
    "\n",
    "        self.step = 0\n",
    "        self.start_replay_step = start_replay_step\n",
    "\n",
    "        self.target_model_update_interval = target_model_update_interval\n",
    "\n",
    "        self.train_freq = train_freq\n",
    "\n",
    "        assert self.start_replay_step >= self.batch_size, \"The number of steps to start replay must be at least as large as the batch size\"\n",
    "\n",
    "        self.action_mask = np.ones((1, self.action_size))\n",
    "        self.action_mask_batch = np.ones((self.batch_size, self.action_size))\n",
    "\n",
    "        self.tf_config_intra_threads = 8\n",
    "        self.tf_config_inter_threads = 4\n",
    "        self.tf_config_soft_placement = True\n",
    "        self.tf_config_allow_growth = True\n",
    "\n",
    "        config = tf.compat.v1.ConfigProto(intra_op_parallelism_threads=self.tf_config_intra_threads,\n",
    "                                inter_op_parallelism_threads=self.tf_config_inter_threads,\n",
    "                                allow_soft_placement=self.tf_config_soft_placement\n",
    "                                )\n",
    "\n",
    "        config.gpu_options.allow_growth = self.tf_config_allow_growth\n",
    "        session = tf.compat.v1.Session(config=config)\n",
    "        set_session(session)  # set this TensorFlow session as the default session for Keras\n",
    "\n",
    "        self.model = self._build_model()\n",
    "        self.target_model = self._build_model()\n",
    "\n",
    "    def save(self, target_path: str, statistics=None) -> None:\n",
    "      \"\"\"\n",
    "        Saves the current state of the DQNAgent to some output files.\n",
    "        Together with `load` this serves as a very rudimentary checkpointing.\n",
    "      \"\"\"\n",
    "\n",
    "      if not statistics == None:\n",
    "        with open(path.join(target_path, \"statistics.pkl\"), \"wb\") as f:\n",
    "          pickle.dump(statistics, f)\n",
    "          f.close()\n",
    "        \n",
    "\n",
    "      self.model.save(path.join(target_path, \"model.tf\"))\n",
    "      self.target_model.save(path.join(target_path, \"target_model.tf\"))\n",
    "\n",
    "      model = self.model\n",
    "      target_model = self.target_model\n",
    "\n",
    "\n",
    "      self.model = None\n",
    "      self.target_model = None\n",
    "\n",
    "      with open(path.join(target_path, \"agent.pkl\"), \"wb\") as f:\n",
    "          pickle.dump(self, f)\n",
    "          f.close()\n",
    "\n",
    "      self.model = model\n",
    "      self.target_model = target_model\n",
    "\n",
    "      \n",
    "    @classmethod\n",
    "    def load(cls, source_path: str) -> \"AbstractDQNAgent\":\n",
    "      \"\"\"\n",
    "        Loads the serialized state of a DQNAgent and returns an instance of it.\n",
    "      \"\"\"\n",
    "\n",
    "      with open(path.join(source_path, \"agent.pkl\"), \"rb\") as f:\n",
    "          agent: AbstractDQNAgent = pickle.load(f)\n",
    "          f.close()\n",
    "\n",
    "      agent.model = tf.keras.models.load_model(path.join(source_path, \"model.tf\"))\n",
    "      agent.target_model = tf.keras.models.load_model(path.join(source_path, \"target_model.tf\"))\n",
    "\n",
    "      return agent\n",
    "\n",
    "    @abstractmethod\n",
    "    def train(self, experience):\n",
    "      raise NotImplementedError\n",
    "\n",
    "    @abstractmethod\n",
    "    def act(self, state):\n",
    "      raise NotImplementedError\n",
    "\n",
    "    @abstractmethod\n",
    "    def _build_model(self) -> Model:\n",
    "      raise NotImplementedError"
   ]
  },
  {
   "cell_type": "markdown",
   "metadata": {},
   "source": [
    "---"
   ]
  },
  {
   "cell_type": "markdown",
   "metadata": {
    "id": "efDYrUf9ZE--"
   },
   "source": [
    "## Deep Q-Learning Network (DQN)"
   ]
  },
  {
   "cell_type": "code",
   "execution_count": 10,
   "metadata": {
    "colab": {
     "base_uri": "https://localhost:8080/"
    },
    "execution": {
     "iopub.execute_input": "2023-01-12T23:16:16.182281Z",
     "iopub.status.busy": "2023-01-12T23:16:16.181789Z",
     "iopub.status.idle": "2023-01-12T23:16:16.478493Z",
     "shell.execute_reply": "2023-01-12T23:16:16.477378Z",
     "shell.execute_reply.started": "2023-01-12T23:16:16.182254Z"
    },
    "id": "qADJ-_MoZE--",
    "outputId": "1bd87456-97fa-4795-fa7b-0dd1272ad3c8"
   },
   "outputs": [
    {
     "name": "stdout",
     "output_type": "stream",
     "text": [
      "NoopResetEnv (max 30) wrapper is used.\n",
      "MaxAndSkipEnv (skip 4) wrapper is used.\n",
      "EpisodicLifeEnv wrapper is used.\n",
      "FireResetEnv wrapper is used.\n",
      "ClipRewardEnv wrapper is used.\n",
      "FrameStack (4) wrapper is used.\n"
     ]
    }
   ],
   "source": [
    "env = make_atari(\"VideoPinball-v4\")\n",
    "env = wrap_deepmind(env, frame_stack=True) # maps frames to 84x84x4"
   ]
  },
  {
   "cell_type": "markdown",
   "metadata": {
    "id": "G5v-6xVSZE--"
   },
   "source": [
    "### Create the DQNAgent"
   ]
  },
  {
   "cell_type": "markdown",
   "metadata": {
    "id": "yO2DzOVAZE-_"
   },
   "source": [
    "Take the given `AbstractDQNAgent` (previously called `DQNAgent`) and add missing methods."
   ]
  },
  {
   "cell_type": "code",
   "execution_count": 11,
   "metadata": {
    "execution": {
     "iopub.execute_input": "2023-01-12T23:16:16.480534Z",
     "iopub.status.busy": "2023-01-12T23:16:16.480120Z",
     "iopub.status.idle": "2023-01-12T23:16:16.507824Z",
     "shell.execute_reply": "2023-01-12T23:16:16.506552Z",
     "shell.execute_reply.started": "2023-01-12T23:16:16.480458Z"
    },
    "id": "I9nQIr7xZE-_"
   },
   "outputs": [],
   "source": [
    "class DQNAgent(AbstractDQNAgent):\n",
    "    def _build_model(self) -> Model:\n",
    "        \"\"\"Deep Q-network as defined in the DeepMind article on Nature\n",
    "        \n",
    "        Returns:\n",
    "            Model: Tensorflow Model which will be used as internal deep neural network\n",
    "        \"\"\"\n",
    "\n",
    "        atari_shape = (84, 84, 4)\n",
    "\n",
    "        # Frames from the observation\n",
    "        frames_input = Input(atari_shape, name=\"frames\")\n",
    "\n",
    "        # Actions as input\n",
    "        action_mask = Input((self.action_size,), name=\"action_mask\")\n",
    "\n",
    "        # Normalize the frames from [0, 255] to [0, 1]\n",
    "        normalized = Lambda(lambda x: x / 255.0, name=\"normalization\")(frames_input)\n",
    "\n",
    "        # \"The first hidden layer convolves 16 8×8 filters with stride 4 with the \n",
    "        # input image and applies a rectifier nonlinearity.\"\n",
    "        # Results in an output shape of (20, 20, 16)\n",
    "        conv1 = Conv2D(\n",
    "            filters=32,\n",
    "            kernel_size=(8, 8),\n",
    "            strides=(4, 4),\n",
    "            activation=\"relu\"\n",
    "        )(normalized)\n",
    "\n",
    "        # \"The second hidden layer convolves 32 4×4 filters with stride 2, again followed \n",
    "        # by a rectifier nonlinearity.\" \n",
    "        # Results in an output shape of (9, 9, 32)\n",
    "        conv2 = Conv2D(\n",
    "            filters=64,\n",
    "            kernel_size=(4,4),\n",
    "            strides=(2,2),\n",
    "            activation=\"relu\"\n",
    "        )(conv1)\n",
    "\n",
    "        conv3 = Conv2D(\n",
    "            filters=64,\n",
    "            kernel_size=(4,4),\n",
    "            strides=(1,1),\n",
    "            activation=\"relu\"\n",
    "        )(conv2)\n",
    "\n",
    "        # Flattening the last convolutional layer.\n",
    "        conv_flattened = Flatten()(conv3)\n",
    "\n",
    "        # \"The final hidden layer is fully-connected and consists of 256 rectifier units.\"\n",
    "        hidden = Dense(units=512, activation='relu')(conv_flattened)\n",
    "\n",
    "        # \"The output layer is a fully-connected linear layer with a single output \n",
    "        # for each valid action.\"\n",
    "        output = Dense(self.action_size)(hidden)\n",
    "\n",
    "        # Multiply the output with the action mask to get only one action output\n",
    "        filtered_output = multiply([output, action_mask])\n",
    "\n",
    "        model = Model(inputs=[frames_input, action_mask], outputs=filtered_output)\n",
    "        model.compile(loss=Huber(), optimizer=Adam(learning_rate=self.alpha), metrics=None)\n",
    "\n",
    "        return model\n",
    "\n",
    "\n",
    "    def act(self, state: LazyFrames) -> int:\n",
    "        \"\"\"Selects the action to be executed based on the given state.\n",
    "\n",
    "        Implements epsilon greedy exploration strategy, i.e. with a probability of\n",
    "        epsilon, a random action is selected.\n",
    "\n",
    "        Args:\n",
    "            state [LazyFrames]: LazyFrames object representing the state based on 4 stacked observations (images)\n",
    "\n",
    "        Returns:\n",
    "            action [int]\n",
    "        \"\"\"\n",
    "\n",
    "        if np.random.rand() <= self.epsilon:\n",
    "            action = env.action_space.sample()\n",
    "        else:\n",
    "            # ! TODO self.model.predict oder self.target_model.predict?\n",
    "            #print(state)\n",
    "            #q_values = self.model.predict([[np.array(state)], self.action_mask])\n",
    "            q_values = self.model.predict([np.array([state]), self.action_mask], verbose=0)\n",
    "        \n",
    "            action = np.argmax(q_values)\n",
    "        return action\n",
    "\n",
    "        \n",
    "    def train(self, experience: Tuple[LazyFrames, int, LazyFrames, float, bool]):\n",
    "        \"\"\"Stores the experience in memory. If memory is full trains network by replay.\n",
    "\n",
    "        Args:\n",
    "            experience [tuple]: Tuple of state, action, next state, reward, done.\n",
    "\n",
    "        Returns:\n",
    "            None\n",
    "        \"\"\"\n",
    "        \n",
    "        self.memory.append(experience)\n",
    "        \n",
    "        #  - Update epsilon as long as it is not minimal\n",
    "        #  - Update weights of the target model (syn of the two models)\n",
    "        #  - Execute replay\n",
    "        if self.step >= self.start_replay_step:\n",
    "            if self.epsilon > self.epsilon_min:\n",
    "                self.epsilon -= self.epsilon_decay\n",
    "            if self.step % self.target_model_update_interval == 0:\n",
    "                self.target_model.set_weights(self.model.get_weights())\n",
    "            if self.step % self.train_freq == 0:\n",
    "                self._replay()\n",
    "\n",
    "        self.step += 1\n",
    "\n",
    "\n",
    "    def _replay(self) -> None:\n",
    "        \"\"\"Gets random experiences from memory for batch update of Q-function.\n",
    "\n",
    "        Returns:\n",
    "            None\n",
    "        \"\"\"\n",
    "\n",
    "        states, actions, next_states, rewards, dones = [np.array(memory) for memory in zip(*sample(self.memory, self.batch_size))]\n",
    "\n",
    "        # ! Can be left out if useless\n",
    "        assert all(isinstance(x, np.ndarray) for x in (states, actions, rewards, next_states, dones)), \\\n",
    "            \"All experience batches should be of type np.ndarray.\"\n",
    "        assert states.shape == (self.batch_size, 84, 84, 4), \\\n",
    "            f\"States shape should be: {(self.batch_size, 84, 84, 4)}\"\n",
    "        assert actions.shape == (self.batch_size,), f\"Actions shape should be: {(self.batch_size,)}\"\n",
    "        assert rewards.shape == (self.batch_size,), f\"Rewards shape should be: {(self.batch_size,)}\"\n",
    "        assert next_states.shape == (self.batch_size, 84, 84, 4), \\\n",
    "            f\"Next states shape should be: {(self.batch_size, 84, 84, 4)}\"\n",
    "        assert dones.shape == (self.batch_size,), f\"Dones shape should be: {(self.batch_size,)}\"\n",
    "\n",
    "        # Predict the Q values of the next states. Passing ones as the action mask.\n",
    "        next_q_values = self.target_model.predict([next_states, self.action_mask_batch], verbose=0)\n",
    "\n",
    "        # Calculate the Q values.\n",
    "        # - Terminal states get the reward\n",
    "        # - Non-terminal states get reward + gamma * max next_state q_value\n",
    "        q_values = [reward + (1 - done) * self.gamma * np.max(next_q_value) for done, reward, next_q_value in zip(dones, rewards, next_q_values)]\n",
    "\n",
    "        # Create a one hot encoding of the actions (the selected action is 1 all others 0)\n",
    "        one_hot_actions = to_categorical(actions, num_classes=self.action_size)\n",
    "\n",
    "        # Create the target Q values based on the one hot encoding of the actions and the calculated Q values\n",
    "        # This can be seen as matrix multiplication\n",
    "        # q_values = [0.5, 0.7, 0.9]\n",
    "        # actions [[1. 0. 0. 0.]\n",
    "        #          [0. 0. 1. 0.]\n",
    "        #          [0. 0. 0. 1.]]\n",
    "        # output  [[0.5 0.  0.   0. ]\n",
    "        #          [0.  0.  0.7  0. ]\n",
    "        #          [0.  0.  0.9  0. ]]\n",
    "        target_q_values = np.array(q_values)[np.newaxis].T * one_hot_actions\n",
    "\n",
    "        # Fit the model with the given states and the selected actions as one hot vector and the target_q_values as y\n",
    "        self.model.fit(\n",
    "           x=[states, one_hot_actions],  # states and mask\n",
    "           y=target_q_values,  # target Q values\n",
    "           batch_size=self.batch_size,\n",
    "           verbose=0\n",
    "        )\n",
    "        \n"
   ]
  },
  {
   "cell_type": "markdown",
   "metadata": {},
   "source": [
    "### Interact with enviroment"
   ]
  },
  {
   "cell_type": "markdown",
   "metadata": {},
   "source": [
    "Create method for interaction of the Agent with the env."
   ]
  },
  {
   "cell_type": "code",
   "execution_count": 12,
   "metadata": {
    "execution": {
     "iopub.execute_input": "2023-01-12T23:16:16.509851Z",
     "iopub.status.busy": "2023-01-12T23:16:16.509529Z",
     "iopub.status.idle": "2023-01-12T23:16:16.520149Z",
     "shell.execute_reply": "2023-01-12T23:16:16.518748Z",
     "shell.execute_reply.started": "2023-01-12T23:16:16.509820Z"
    }
   },
   "outputs": [
    {
     "data": {
      "text/plain": [
       "[0, 0, 0, 0, 0, 0, 0, 0, 0]"
      ]
     },
     "execution_count": 12,
     "metadata": {},
     "output_type": "execute_result"
    }
   ],
   "source": [
    "used_actions = [0] * env.action_space.n\n",
    "used_actions"
   ]
  },
  {
   "cell_type": "code",
   "execution_count": 13,
   "metadata": {
    "execution": {
     "iopub.execute_input": "2023-01-12T23:16:16.523317Z",
     "iopub.status.busy": "2023-01-12T23:16:16.522880Z",
     "iopub.status.idle": "2023-01-12T23:16:16.546486Z",
     "shell.execute_reply": "2023-01-12T23:16:16.545256Z",
     "shell.execute_reply.started": "2023-01-12T23:16:16.523280Z"
    },
    "id": "nkMxNKmAZE_A"
   },
   "outputs": [],
   "source": [
    "def interact_with_environment(env, agent, n_episodes=600, episode_offset=0, max_steps=1000000, train=True, verbose=True, print_mod=10, save_interval=500, statistics=[]):      \n",
    "\n",
    "    # tb_logger = TensorBoardLogger(f'./logs/run-{datetime.now().strftime(\"%Y-%m-%d_%H:%M:%S\")}')\n",
    "    with suppress(KeyboardInterrupt):\n",
    "        total_step = 0\n",
    "        for episode in range(episode_offset, episode_offset + n_episodes):\n",
    "            done = False\n",
    "            episode_reward = 0\n",
    "            state = env.reset()\n",
    "            episode_start_time = time.time()\n",
    "            episode_step = 0\n",
    "            continuous_noops = 0\n",
    "            while not done:\n",
    "                action = agent.act(state)\n",
    "                used_actions[action] += 1\n",
    "                next_state, reward, done, _ = env.step(action)\n",
    "\n",
    "                if train:\n",
    "                    agent.train((state, action, next_state, reward, done))\n",
    "\n",
    "                #if episode == 0:\n",
    "                    # for debug purpose log every state of first episode\n",
    "                    #for obs in state:\n",
    "                        #tb_logger.log_image(f'state_t{episode_step}:', tf_summary_image(np.array(obs, copy=False)),\n",
    "                        #                    global_step=total_step)                 \n",
    "                state = next_state\n",
    "                episode_reward += reward\n",
    "                episode_step += 1\n",
    "                continuous_noops += 1\n",
    "                if action != 0:\n",
    "                    continuous_noops = 0\n",
    "                # Abort if agent decides to do nothing or the ball hangs up\n",
    "                if continuous_noops > 1000:\n",
    "                    done = true\n",
    "            total_step += episode_step\n",
    "\n",
    "            if episode % print_mod == 0:\n",
    "                speed = episode_step / (time.time() - episode_start_time)\n",
    "                # tb_logger.log_scalar('score', episode_reward, global_step=total_step)\n",
    "                # tb_logger.log_scalar('epsilon', agent.epsilon, global_step=total_step)\n",
    "                # tb_logger.log_scalar('speed', speed, global_step=total_step)\n",
    "                if verbose:\n",
    "                    display(f'episode: {episode}/{episode_offset + n_episodes}, score: {episode_reward}, steps: {episode_step}, '\n",
    "                          f'total steps: {total_step}, e: {agent.epsilon:.3f}, speed: {speed:.2f} steps/s, time: {datetime.now()}')\n",
    "            if episode % save_interval == 0:\n",
    "                display(\"try saving!\")\n",
    "                savePath = \"./saved_model/\" + str(episode) + \"/\"\n",
    "\n",
    "                # creating new folder\n",
    "                if not path.exists(savePath):\n",
    "                    makedirs(savePath)\n",
    "                # saving to path\n",
    "                agent.save(savePath, statistics)\n",
    "                # zip so we can save about 2gb of disk space\n",
    "                !zip -r \"./saved_model/{episode}.zip\" \"./saved_model/{episode}\"\n",
    "                # remove the big ass agent\n",
    "                !rm -rf \"./saved_model/{episode}\"\n",
    "                display(\"Saving success!\")\n",
    "\n",
    "            statistics.append({\n",
    "                'episode': episode,\n",
    "                'score': episode_reward,\n",
    "                'steps': episode_step\n",
    "            })\n",
    "            \n",
    "            if total_step >= max_steps:\n",
    "                break\n",
    "        \n",
    "    return statistics\n"
   ]
  },
  {
   "cell_type": "markdown",
   "metadata": {},
   "source": [
    "## Initial Training"
   ]
  },
  {
   "cell_type": "markdown",
   "metadata": {},
   "source": [
    "### Define variables"
   ]
  },
  {
   "cell_type": "code",
   "execution_count": 9,
   "metadata": {
    "colab": {
     "base_uri": "https://localhost:8080/"
    },
    "execution": {
     "iopub.execute_input": "2023-01-06T19:49:55.847843Z",
     "iopub.status.busy": "2023-01-06T19:49:55.847536Z",
     "iopub.status.idle": "2023-01-06T23:22:55.177375Z",
     "shell.execute_reply": "2023-01-06T23:22:55.176328Z",
     "shell.execute_reply.started": "2023-01-06T19:49:55.847816Z"
    },
    "id": "Ae5vkyyHZE_A",
    "outputId": "165e0373-e37a-4b60-dcc8-678d83f9b16e"
   },
   "outputs": [
    {
     "name": "stderr",
     "output_type": "stream",
     "text": [
      "2023-01-11 19:03:55.773275: I tensorflow/core/platform/cpu_feature_guard.cc:193] This TensorFlow binary is optimized with oneAPI Deep Neural Network Library (oneDNN) to use the following CPU instructions in performance-critical operations:  AVX2 FMA\n",
      "To enable them in other operations, rebuild TensorFlow with the appropriate compiler flags.\n",
      "2023-01-11 19:03:55.812043: I tensorflow/compiler/xla/stream_executor/cuda/cuda_gpu_executor.cc:981] successful NUMA node read from SysFS had negative value (-1), but there must be at least one NUMA node, so returning NUMA node zero\n",
      "2023-01-11 19:03:55.869972: I tensorflow/compiler/xla/stream_executor/cuda/cuda_gpu_executor.cc:981] successful NUMA node read from SysFS had negative value (-1), but there must be at least one NUMA node, so returning NUMA node zero\n",
      "2023-01-11 19:03:55.870577: I tensorflow/compiler/xla/stream_executor/cuda/cuda_gpu_executor.cc:981] successful NUMA node read from SysFS had negative value (-1), but there must be at least one NUMA node, so returning NUMA node zero\n",
      "2023-01-11 19:03:56.878372: I tensorflow/compiler/xla/stream_executor/cuda/cuda_gpu_executor.cc:981] successful NUMA node read from SysFS had negative value (-1), but there must be at least one NUMA node, so returning NUMA node zero\n",
      "2023-01-11 19:03:56.879304: I tensorflow/compiler/xla/stream_executor/cuda/cuda_gpu_executor.cc:981] successful NUMA node read from SysFS had negative value (-1), but there must be at least one NUMA node, so returning NUMA node zero\n",
      "2023-01-11 19:03:56.879624: I tensorflow/compiler/xla/stream_executor/cuda/cuda_gpu_executor.cc:981] successful NUMA node read from SysFS had negative value (-1), but there must be at least one NUMA node, so returning NUMA node zero\n",
      "2023-01-11 19:03:56.880590: I tensorflow/core/common_runtime/gpu/gpu_device.cc:1613] Created device /job:localhost/replica:0/task:0/device:GPU:0 with 5183 MB memory:  -> device: 0, name: NVIDIA GeForce RTX 3070, pci bus id: 0000:2d:00.0, compute capability: 8.6\n",
      "2023-01-11 19:03:56.895236: I tensorflow/compiler/xla/stream_executor/cuda/cuda_gpu_executor.cc:981] successful NUMA node read from SysFS had negative value (-1), but there must be at least one NUMA node, so returning NUMA node zero\n",
      "2023-01-11 19:03:56.895609: I tensorflow/compiler/xla/stream_executor/cuda/cuda_gpu_executor.cc:981] successful NUMA node read from SysFS had negative value (-1), but there must be at least one NUMA node, so returning NUMA node zero\n",
      "2023-01-11 19:03:56.895913: I tensorflow/compiler/xla/stream_executor/cuda/cuda_gpu_executor.cc:981] successful NUMA node read from SysFS had negative value (-1), but there must be at least one NUMA node, so returning NUMA node zero\n",
      "2023-01-11 19:03:56.896348: I tensorflow/compiler/xla/stream_executor/cuda/cuda_gpu_executor.cc:981] successful NUMA node read from SysFS had negative value (-1), but there must be at least one NUMA node, so returning NUMA node zero\n",
      "2023-01-11 19:03:56.897076: I tensorflow/compiler/xla/stream_executor/cuda/cuda_gpu_executor.cc:981] successful NUMA node read from SysFS had negative value (-1), but there must be at least one NUMA node, so returning NUMA node zero\n",
      "2023-01-11 19:03:56.897404: I tensorflow/compiler/xla/stream_executor/cuda/cuda_gpu_executor.cc:981] successful NUMA node read from SysFS had negative value (-1), but there must be at least one NUMA node, so returning NUMA node zero\n",
      "2023-01-11 19:03:56.897973: I tensorflow/compiler/xla/stream_executor/cuda/cuda_gpu_executor.cc:981] successful NUMA node read from SysFS had negative value (-1), but there must be at least one NUMA node, so returning NUMA node zero\n",
      "2023-01-11 19:03:56.898348: I tensorflow/compiler/xla/stream_executor/cuda/cuda_gpu_executor.cc:981] successful NUMA node read from SysFS had negative value (-1), but there must be at least one NUMA node, so returning NUMA node zero\n",
      "2023-01-11 19:03:56.898692: I tensorflow/core/common_runtime/gpu/gpu_device.cc:1613] Created device /job:localhost/replica:0/task:0/device:GPU:0 with 5183 MB memory:  -> device: 0, name: NVIDIA GeForce RTX 3070, pci bus id: 0000:2d:00.0, compute capability: 8.6\n"
     ]
    }
   ],
   "source": [
    "# init train\n",
    "\n",
    "action_size = env.action_space.n\n",
    "state_size = env.observation_space.shape[0]\n",
    "\n",
    "annealing_steps = 1000000  # not episodes!\n",
    "gamma = 0.99\n",
    "epsilon = 1.0\n",
    "epsilon_min = 0.01\n",
    "epsilon_decay = 0.000004\n",
    "alpha = 0.0001\n",
    "batch_size = 64\n",
    "memory_size = 80000\n",
    "start_replay_step = 10000\n",
    "target_model_update_interval = 1000\n",
    "train_freq = 8\n",
    "\n",
    "\n",
    "agent = DQNAgent(action_size=action_size, state_size=state_size, gamma=gamma, \n",
    "                 epsilon=epsilon, epsilon_decay=epsilon_decay, epsilon_min=epsilon_min, \n",
    "                 alpha=alpha, batch_size=batch_size, memory_size=memory_size,\n",
    "                 start_replay_step=start_replay_step, \n",
    "                 target_model_update_interval=target_model_update_interval, train_freq=train_freq)\n",
    "\n"
   ]
  },
  {
   "cell_type": "code",
   "execution_count": 17,
   "metadata": {
    "execution": {
     "iopub.execute_input": "2023-01-12T01:16:38.315614Z",
     "iopub.status.busy": "2023-01-12T01:16:38.315035Z",
     "iopub.status.idle": "2023-01-12T01:16:38.321558Z",
     "shell.execute_reply": "2023-01-12T01:16:38.320090Z",
     "shell.execute_reply.started": "2023-01-12T01:16:38.315571Z"
    }
   },
   "outputs": [],
   "source": [
    "# Hyperparams (should be sufficient)\n",
    "episodes = 10000\n",
    "save_interval = 500 # define the save interval (500 = every 500th episode will be saved)"
   ]
  },
  {
   "cell_type": "markdown",
   "metadata": {},
   "source": [
    "### Start training"
   ]
  },
  {
   "cell_type": "code",
   "execution_count": 14,
   "metadata": {},
   "outputs": [],
   "source": [
    "# start training\n",
    "statistics = interact_with_environment(env, agent, n_episodes=episodes, verbose=True, print_mod=100, save_interval=save_interval)\n",
    "env.close()\n",
    "\n",
    "# plot trainig statistics\n",
    "plot_statistics(statistics)"
   ]
  },
  {
   "cell_type": "markdown",
   "metadata": {},
   "source": [
    "---"
   ]
  },
  {
   "cell_type": "markdown",
   "metadata": {},
   "source": [
    "## Continue training "
   ]
  },
  {
   "cell_type": "markdown",
   "metadata": {},
   "source": [
    "### Load Model"
   ]
  },
  {
   "cell_type": "code",
   "execution_count": 14,
   "metadata": {
    "execution": {
     "iopub.execute_input": "2023-01-12T23:16:16.548653Z",
     "iopub.status.busy": "2023-01-12T23:16:16.548264Z",
     "iopub.status.idle": "2023-01-12T23:16:16.554819Z",
     "shell.execute_reply": "2023-01-12T23:16:16.553232Z",
     "shell.execute_reply.started": "2023-01-12T23:16:16.548626Z"
    }
   },
   "outputs": [],
   "source": [
    "current_model = \"4800\""
   ]
  },
  {
   "cell_type": "code",
   "execution_count": 15,
   "metadata": {
    "execution": {
     "iopub.execute_input": "2023-01-12T23:16:16.556852Z",
     "iopub.status.busy": "2023-01-12T23:16:16.556513Z",
     "iopub.status.idle": "2023-01-12T23:16:33.325298Z",
     "shell.execute_reply": "2023-01-12T23:16:33.324496Z",
     "shell.execute_reply.started": "2023-01-12T23:16:16.556810Z"
    }
   },
   "outputs": [
    {
     "name": "stdout",
     "output_type": "stream",
     "text": [
      "Archive:  ./saved_model/4800.zip\n",
      "   creating: saved_model/4800/\n",
      "  inflating: saved_model/4800/agent.pkl  \n",
      "  inflating: saved_model/4800/statistics.pkl  \n",
      "  inflating: saved_model/4800/target_model.tf  \n",
      "  inflating: saved_model/4800/model.tf  \n"
     ]
    }
   ],
   "source": [
    "!unzip ./saved_model/{current_model}.zip"
   ]
  },
  {
   "cell_type": "code",
   "execution_count": 16,
   "metadata": {
    "execution": {
     "iopub.execute_input": "2023-01-12T23:16:33.326590Z",
     "iopub.status.busy": "2023-01-12T23:16:33.326278Z",
     "iopub.status.idle": "2023-01-12T23:16:41.157520Z",
     "shell.execute_reply": "2023-01-12T23:16:41.156456Z",
     "shell.execute_reply.started": "2023-01-12T23:16:33.326561Z"
    }
   },
   "outputs": [],
   "source": [
    "loadPath = f\"./saved_model/{current_model}/\"\n",
    "\n",
    "agent = DQNAgent.load(loadPath)\n",
    "\n",
    "# load stats\n",
    "with open(path.join(loadPath, \"statistics.pkl\"), \"rb\") as f:\n",
    "    global statistics\n",
    "    statistics:list\n",
    "    statistics = pickle.load(f)\n",
    "    f.close()"
   ]
  },
  {
   "cell_type": "code",
   "execution_count": 17,
   "metadata": {
    "execution": {
     "iopub.execute_input": "2023-01-12T23:16:41.158945Z",
     "iopub.status.busy": "2023-01-12T23:16:41.158694Z",
     "iopub.status.idle": "2023-01-12T23:16:42.351801Z",
     "shell.execute_reply": "2023-01-12T23:16:42.350409Z",
     "shell.execute_reply.started": "2023-01-12T23:16:41.158919Z"
    }
   },
   "outputs": [],
   "source": [
    "!rm -rf ./saved_model/{current_model}/"
   ]
  },
  {
   "cell_type": "code",
   "execution_count": 18,
   "metadata": {
    "execution": {
     "iopub.execute_input": "2023-01-12T23:16:42.354189Z",
     "iopub.status.busy": "2023-01-12T23:16:42.353886Z",
     "iopub.status.idle": "2023-01-12T23:16:42.573310Z",
     "shell.execute_reply": "2023-01-12T23:16:42.572244Z",
     "shell.execute_reply.started": "2023-01-12T23:16:42.354146Z"
    }
   },
   "outputs": [
    {
     "data": {
      "image/png": "[encoded data removed]",
      "text/plain": [
       "<Figure size 432x288 with 1 Axes>"
      ]
     },
     "metadata": {
      "needs_background": "light"
     },
     "output_type": "display_data"
    }
   ],
   "source": [
    "# Display current training statistics\n",
    "plot_statistics(statistics)"
   ]
  },
  {
   "cell_type": "code",
   "execution_count": 19,
   "metadata": {
    "execution": {
     "iopub.execute_input": "2023-01-12T23:16:42.574757Z",
     "iopub.status.busy": "2023-01-12T23:16:42.574475Z",
     "iopub.status.idle": "2023-01-12T23:16:42.814276Z",
     "shell.execute_reply": "2023-01-12T23:16:42.813199Z",
     "shell.execute_reply.started": "2023-01-12T23:16:42.574732Z"
    }
   },
   "outputs": [
    {
     "data": {
      "image/png": "[encoded data removed]",
      "text/plain": [
       "<Figure size 432x288 with 1 Axes>"
      ]
     },
     "metadata": {
      "needs_background": "light"
     },
     "output_type": "display_data"
    }
   ],
   "source": [
    "import seaborn as sns\n",
    "import matplotlib.pyplot as plt\n",
    "\n",
    "\n",
    "bin_sizes = [25, 50, 100, 200, 400, 800]\n",
    "bins = {bin_size: [] for bin_size in bin_sizes}\n",
    "\n",
    "for bin_size in bin_sizes:\n",
    "    for bin in range((len(statistics) - 1) // bin_size):\n",
    "        bins[bin_size].append(np.median([stat[\"score\"] for stat in statistics[bin*bin_size:(bin+1)*bin_size]]))\n",
    "ax = sns.lineplot()\n",
    "for bin_size in bin_sizes:\n",
    "    ax.plot(list(map(lambda x: x*bin_size, [*range(len(bins[bin_size]))])), bins[bin_size])\n",
    "plt.show()"
   ]
  },
  {
   "cell_type": "markdown",
   "metadata": {},
   "source": [
    "### Train"
   ]
  },
  {
   "cell_type": "code",
   "execution_count": null,
   "metadata": {
    "execution": {
     "iopub.execute_input": "2023-01-12T23:17:49.056900Z",
     "iopub.status.busy": "2023-01-12T23:17:49.055879Z"
    }
   },
   "outputs": [
    {
     "data": {
      "text/plain": [
       "'episode: 4800/14800, score: 161.0, steps: 1044, total steps: 1044, e: 0.010, speed: 13.65 steps/s, time: 2023-01-12 23:19:05.537111'"
      ]
     },
     "metadata": {},
     "output_type": "display_data"
    },
    {
     "data": {
      "text/plain": [
       "'try saving!'"
      ]
     },
     "metadata": {},
     "output_type": "display_data"
    },
    {
     "name": "stdout",
     "output_type": "stream",
     "text": [
      "updating: saved_model/4800/ (stored 0%)\n",
      "updating: saved_model/4800/agent.pkl (deflated 98%)\n",
      "updating: saved_model/4800/statistics.pkl (deflated 84%)\n",
      "updating: saved_model/4800/target_model.tf (deflated 8%)\n",
      "updating: saved_model/4800/model.tf (deflated 36%)\n"
     ]
    },
    {
     "data": {
      "text/plain": [
       "'Saving success!'"
      ]
     },
     "metadata": {},
     "output_type": "display_data"
    },
    {
     "data": {
      "text/plain": [
       "'episode: 4810/14800, score: 8.0, steps: 39, total steps: 3767, e: 0.010, speed: 14.38 steps/s, time: 2023-01-12 23:23:15.854003'"
      ]
     },
     "metadata": {},
     "output_type": "display_data"
    },
    {
     "data": {
      "text/plain": [
       "'episode: 4820/14800, score: 11.0, steps: 77, total steps: 5161, e: 0.010, speed: 13.21 steps/s, time: 2023-01-12 23:24:57.961790'"
      ]
     },
     "metadata": {},
     "output_type": "display_data"
    },
    {
     "data": {
      "text/plain": [
       "'episode: 4830/14800, score: 43.0, steps: 321, total steps: 7232, e: 0.010, speed: 14.11 steps/s, time: 2023-01-12 23:27:29.656104'"
      ]
     },
     "metadata": {},
     "output_type": "display_data"
    },
    {
     "data": {
      "text/plain": [
       "'episode: 4840/14800, score: 16.0, steps: 146, total steps: 10077, e: 0.010, speed: 14.07 steps/s, time: 2023-01-12 23:30:58.252563'"
      ]
     },
     "metadata": {},
     "output_type": "display_data"
    },
    {
     "data": {
      "text/plain": [
       "'episode: 4850/14800, score: 37.0, steps: 272, total steps: 12549, e: 0.010, speed: 13.14 steps/s, time: 2023-01-12 23:34:02.612958'"
      ]
     },
     "metadata": {},
     "output_type": "display_data"
    },
    {
     "data": {
      "text/plain": [
       "'episode: 4860/14800, score: 3.0, steps: 16, total steps: 15002, e: 0.010, speed: 12.63 steps/s, time: 2023-01-12 23:37:16.664950'"
      ]
     },
     "metadata": {},
     "output_type": "display_data"
    },
    {
     "data": {
      "text/plain": [
       "'episode: 4870/14800, score: 2.0, steps: 59, total steps: 17114, e: 0.010, speed: 13.72 steps/s, time: 2023-01-12 23:39:58.241156'"
      ]
     },
     "metadata": {},
     "output_type": "display_data"
    },
    {
     "data": {
      "text/plain": [
       "'episode: 4880/14800, score: 18.0, steps: 264, total steps: 19061, e: 0.010, speed: 12.53 steps/s, time: 2023-01-12 23:42:24.268851'"
      ]
     },
     "metadata": {},
     "output_type": "display_data"
    },
    {
     "data": {
      "text/plain": [
       "'episode: 4890/14800, score: 12.0, steps: 62, total steps: 20540, e: 0.010, speed: 13.19 steps/s, time: 2023-01-12 23:44:14.713248'"
      ]
     },
     "metadata": {},
     "output_type": "display_data"
    },
    {
     "data": {
      "text/plain": [
       "'episode: 4900/14800, score: 9.0, steps: 104, total steps: 22431, e: 0.010, speed: 14.02 steps/s, time: 2023-01-12 23:46:36.194078'"
      ]
     },
     "metadata": {},
     "output_type": "display_data"
    },
    {
     "data": {
      "text/plain": [
       "'try saving!'"
      ]
     },
     "metadata": {},
     "output_type": "display_data"
    },
    {
     "name": "stdout",
     "output_type": "stream",
     "text": [
      "  adding: saved_model/4900/ (stored 0%)\n",
      "  adding: saved_model/4900/agent.pkl (deflated 98%)\n",
      "  adding: saved_model/4900/statistics.pkl (deflated 84%)\n",
      "  adding: saved_model/4900/target_model.tf (deflated 8%)\n",
      "  adding: saved_model/4900/model.tf (deflated 37%)\n"
     ]
    },
    {
     "data": {
      "text/plain": [
       "'Saving success!'"
      ]
     },
     "metadata": {},
     "output_type": "display_data"
    },
    {
     "data": {
      "text/plain": [
       "'episode: 4910/14800, score: 0.0, steps: 23, total steps: 24266, e: 0.010, speed: 12.87 steps/s, time: 2023-01-12 23:49:46.192654'"
      ]
     },
     "metadata": {},
     "output_type": "display_data"
    },
    {
     "data": {
      "text/plain": [
       "'episode: 4920/14800, score: 8.0, steps: 41, total steps: 26983, e: 0.010, speed: 13.00 steps/s, time: 2023-01-12 23:53:08.850612'"
      ]
     },
     "metadata": {},
     "output_type": "display_data"
    },
    {
     "data": {
      "text/plain": [
       "'episode: 4930/14800, score: 8.0, steps: 67, total steps: 29168, e: 0.010, speed: 13.64 steps/s, time: 2023-01-12 23:55:56.718705'"
      ]
     },
     "metadata": {},
     "output_type": "display_data"
    },
    {
     "data": {
      "text/plain": [
       "'episode: 4940/14800, score: 2.0, steps: 25, total steps: 31113, e: 0.010, speed: 12.54 steps/s, time: 2023-01-12 23:58:23.386836'"
      ]
     },
     "metadata": {},
     "output_type": "display_data"
    },
    {
     "data": {
      "text/plain": [
       "'episode: 4950/14800, score: 0.0, steps: 42, total steps: 33038, e: 0.010, speed: 13.50 steps/s, time: 2023-01-13 00:00:49.348776'"
      ]
     },
     "metadata": {},
     "output_type": "display_data"
    },
    {
     "data": {
      "text/plain": [
       "'episode: 4960/14800, score: 21.0, steps: 420, total steps: 34714, e: 0.010, speed: 13.80 steps/s, time: 2023-01-13 00:02:53.867911'"
      ]
     },
     "metadata": {},
     "output_type": "display_data"
    },
    {
     "data": {
      "text/plain": [
       "'episode: 4970/14800, score: 51.0, steps: 283, total steps: 36767, e: 0.010, speed: 13.63 steps/s, time: 2023-01-13 00:05:30.422064'"
      ]
     },
     "metadata": {},
     "output_type": "display_data"
    },
    {
     "data": {
      "text/plain": [
       "'episode: 4980/14800, score: 10.0, steps: 100, total steps: 38481, e: 0.010, speed: 11.76 steps/s, time: 2023-01-13 00:07:40.413067'"
      ]
     },
     "metadata": {},
     "output_type": "display_data"
    },
    {
     "data": {
      "text/plain": [
       "'episode: 4990/14800, score: 42.0, steps: 298, total steps: 40889, e: 0.010, speed: 12.71 steps/s, time: 2023-01-13 00:10:46.243644'"
      ]
     },
     "metadata": {},
     "output_type": "display_data"
    },
    {
     "data": {
      "text/plain": [
       "'episode: 5000/14800, score: 9.0, steps: 44, total steps: 43179, e: 0.010, speed: 14.53 steps/s, time: 2023-01-13 00:13:44.171086'"
      ]
     },
     "metadata": {},
     "output_type": "display_data"
    },
    {
     "data": {
      "text/plain": [
       "'try saving!'"
      ]
     },
     "metadata": {},
     "output_type": "display_data"
    },
    {
     "name": "stdout",
     "output_type": "stream",
     "text": [
      "  adding: saved_model/5000/ (stored 0%)\n",
      "  adding: saved_model/5000/agent.pkl (deflated 98%)\n",
      "  adding: saved_model/5000/statistics.pkl (deflated 84%)\n",
      "  adding: saved_model/5000/target_model.tf (deflated 8%)\n",
      "  adding: saved_model/5000/model.tf (deflated 37%)\n"
     ]
    },
    {
     "data": {
      "text/plain": [
       "'Saving success!'"
      ]
     },
     "metadata": {},
     "output_type": "display_data"
    },
    {
     "data": {
      "text/plain": [
       "'episode: 5010/14800, score: 55.0, steps: 339, total steps: 45518, e: 0.010, speed: 13.71 steps/s, time: 2023-01-13 00:18:00.778054'"
      ]
     },
     "metadata": {},
     "output_type": "display_data"
    },
    {
     "data": {
      "text/plain": [
       "'episode: 5020/14800, score: 103.0, steps: 539, total steps: 47950, e: 0.010, speed: 13.38 steps/s, time: 2023-01-13 00:21:08.159278'"
      ]
     },
     "metadata": {},
     "output_type": "display_data"
    },
    {
     "data": {
      "text/plain": [
       "'episode: 5030/14800, score: 14.0, steps: 121, total steps: 50453, e: 0.010, speed: 13.55 steps/s, time: 2023-01-13 00:24:21.089974'"
      ]
     },
     "metadata": {},
     "output_type": "display_data"
    },
    {
     "data": {
      "text/plain": [
       "'episode: 5040/14800, score: 10.0, steps: 114, total steps: 53610, e: 0.010, speed: 13.14 steps/s, time: 2023-01-13 00:28:24.808156'"
      ]
     },
     "metadata": {},
     "output_type": "display_data"
    },
    {
     "data": {
      "text/plain": [
       "'episode: 5050/14800, score: 19.0, steps: 228, total steps: 54753, e: 0.010, speed: 12.97 steps/s, time: 2023-01-13 00:29:52.698583'"
      ]
     },
     "metadata": {},
     "output_type": "display_data"
    },
    {
     "data": {
      "text/plain": [
       "'episode: 5060/14800, score: 46.0, steps: 529, total steps: 57625, e: 0.010, speed: 13.35 steps/s, time: 2023-01-13 00:33:31.318303'"
      ]
     },
     "metadata": {},
     "output_type": "display_data"
    },
    {
     "data": {
      "text/plain": [
       "'episode: 5070/14800, score: 26.0, steps: 157, total steps: 59937, e: 0.010, speed: 13.28 steps/s, time: 2023-01-13 00:36:31.192305'"
      ]
     },
     "metadata": {},
     "output_type": "display_data"
    },
    {
     "data": {
      "text/plain": [
       "'episode: 5080/14800, score: 21.0, steps: 116, total steps: 60974, e: 0.010, speed: 12.92 steps/s, time: 2023-01-13 00:37:52.463352'"
      ]
     },
     "metadata": {},
     "output_type": "display_data"
    }
   ],
   "source": [
    "# train more\n",
    "\n",
    "# parameter\n",
    "episodes = 10000\n",
    "save_interval = 100\n",
    "episode_offset = statistics[-1][\"episode\"] + 1\n",
    "print_modulo = 10\n",
    "\n",
    "statistics = interact_with_environment(env, agent, n_episodes=episodes, episode_offset=episode_offset, verbose=True, print_mod=print_modulo, save_interval=save_interval, statistics=statistics)\n",
    "env.close()\n"
   ]
  },
  {
   "cell_type": "markdown",
   "metadata": {},
   "source": [
    "---"
   ]
  },
  {
   "cell_type": "markdown",
   "metadata": {},
   "source": [
    "## Results"
   ]
  },
  {
   "cell_type": "markdown",
   "metadata": {},
   "source": [
    "### Load model 2100Eps"
   ]
  },
  {
   "cell_type": "code",
   "execution_count": 11,
   "metadata": {},
   "outputs": [],
   "source": [
    "loadPath = \"./saved_model-Mem80k/2100/\"\n",
    "\n",
    "agent = DQNAgent.load(loadPath)\n",
    "\n",
    "# load stats\n",
    "with open(path.join(loadPath, \"statistics.pkl\"), \"rb\") as f:\n",
    "    global statistics\n",
    "    statistics:list\n",
    "    statistics = pickle.load(f)\n",
    "    f.close()"
   ]
  },
  {
   "cell_type": "markdown",
   "metadata": {},
   "source": [
    "### Test model"
   ]
  },
  {
   "cell_type": "code",
   "execution_count": null,
   "metadata": {},
   "outputs": [],
   "source": [
    "plot_statistics(statistics)"
   ]
  },
  {
   "cell_type": "code",
   "execution_count": null,
   "metadata": {
    "id": "kxXdW7Biea4M"
   },
   "outputs": [],
   "source": [
    "from gym.wrappers.monitoring import video_recorder\n",
    "vid = video_recorder.VideoRecorder(env,path=\"./recordings/vid_2100EPS.mp4\")\n",
    "\n",
    "# let the loaded model play\n",
    "times_to_play = 3\n",
    "\n",
    "for i in range(times_to_play):\n",
    "    state = env.reset()\n",
    "    img = plt.imshow(env.render(mode='rgb_array'))\n",
    "    done = False\n",
    "    while not done:\n",
    "        action = agent.act(state)\n",
    "        img.set_data(env.render(mode='rgb_array'))\n",
    "        vid.capture_frame()\n",
    "        plt.axis('off')\n",
    "        display.display(plt.gcf())\n",
    "        display.clear_output(wait=True)\n",
    "        state, reward, done, _ = env.step(action)\n",
    "    \n",
    "vid.close()\n",
    "env.close()"
   ]
  },
  {
   "cell_type": "markdown",
   "metadata": {
    "id": "h5UV7EPfZE_B"
   },
   "source": [
    "---"
   ]
  },
  {
   "cell_type": "markdown",
   "metadata": {},
   "source": []
  }
 ],
 "metadata": {
  "accelerator": "GPU",
  "colab": {
   "provenance": []
  },
  "gpuClass": "standard",
  "kernelspec": {
   "display_name": "Python 3 (ipykernel)",
   "language": "python",
   "name": "python3"
  },
  "language_info": {
   "codemirror_mode": {
    "name": "ipython",
    "version": 3
   },
   "file_extension": ".py",
   "mimetype": "text/x-python",
   "name": "python",
   "nbconvert_exporter": "python",
   "pygments_lexer": "ipython3",
   "version": "3.9.15 (main, Nov  4 2022, 11:11:31) \n[Clang 12.0.0 ]"
  },
  "vscode": {
   "interpreter": {
    "hash": "119d84cb8c3b84b6d48a93e2933b395fcb363c6d1cda3c0de52c91f1ece8e0fb"
   }
  }
 },
 "nbformat": 4,
 "nbformat_minor": 4
}
